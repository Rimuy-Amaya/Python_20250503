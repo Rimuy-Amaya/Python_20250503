{
 "cells": [
  {
   "cell_type": "code",
   "execution_count": 1,
   "id": "06d048f6",
   "metadata": {},
   "outputs": [
    {
     "name": "stdout",
     "output_type": "stream",
     "text": [
      "這是測試檔\n"
     ]
    }
   ],
   "source": [
    "print(\"這是測試檔\")"
   ]
  }
 ],
 "metadata": {
  "kernelspec": {
   "display_name": "myprofileCL",
   "language": "python",
   "name": "python3"
  },
  "language_info": {
   "codemirror_mode": {
    "name": "ipython",
    "version": 3
   },
   "file_extension": ".py",
   "mimetype": "text/x-python",
   "name": "python",
   "nbconvert_exporter": "python",
   "pygments_lexer": "ipython3",
   "version": "3.10.16"
  }
 },
 "nbformat": 4,
 "nbformat_minor": 5
}
