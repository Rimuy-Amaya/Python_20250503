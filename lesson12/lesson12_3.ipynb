{
 "cells": [
  {
   "cell_type": "markdown",
   "id": "7a57407d",
   "metadata": {},
   "source": [
    "# 高斯分布/常態分布"
   ]
  },
  {
   "cell_type": "markdown",
   "id": "494568b3",
   "metadata": {},
   "source": []
  }
 ],
 "metadata": {
  "language_info": {
   "name": "python"
  }
 },
 "nbformat": 4,
 "nbformat_minor": 5
}
