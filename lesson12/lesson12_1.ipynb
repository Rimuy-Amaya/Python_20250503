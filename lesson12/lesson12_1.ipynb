{
 "cells": [
  {
   "cell_type": "markdown",
   "id": "5699ac4d",
   "metadata": {},
   "source": [
    "# 繪製圖表\n",
    "https://www.perplexity.ai/search/88657a74-a8c6-49a9-b9cf-0884a64ac45d"
   ]
  },
  {
   "cell_type": "markdown",
   "id": "9560cb27",
   "metadata": {},
   "source": [
    "# 下載中文字型"
   ]
  },
  {
   "cell_type": "code",
   "execution_count": null,
   "id": "c5ea5f8d",
   "metadata": {},
   "outputs": [],
   "source": [
    "%pip install wget"
   ]
  },
  {
   "cell_type": "code",
   "execution_count": null,
   "id": "351e5b7f",
   "metadata": {},
   "outputs": [],
   "source": [
    "import wget"
   ]
  },
  {
   "cell_type": "code",
   "execution_count": null,
   "id": "4e26ece3",
   "metadata": {},
   "outputs": [],
   "source": [
    "import matplotlib as mpl\n",
    "from matplotlib.font_manager import fontManager\n",
    "\n",
    "fontManager.addfont(\"ChineseFont.ttf\")\n",
    "mpl.rc(\"font\",family=\"ChineseFont\")"
   ]
  },
  {
   "cell_type": "code",
   "execution_count": null,
   "id": "dccbe9ae",
   "metadata": {},
   "outputs": [],
   "source": [
    "import math\n",
    "import numpy as np\n",
    "from numpy import ndarray\n",
    "import matplotlib.pyplot as plt\n",
    "\n",
    "t: ndarray = np.arange(0,2.5,0.1)\n",
    "#t.ndim\n",
    "#t.size 查詢有幾個元素\n",
    "#t.shape 查詢\n",
    "#t.dtype\n",
    "#print(t)\n",
    "\n",
    "y1:ndarray = np.sin(t * math.pi)\n",
    "y2:ndarray = np.sin(t * math.pi + math.pi/2)\n",
    "y3:ndarray = np.sin(t * math.pi - math.pi/2)\n",
    "figure, axes = plt.subplots()\n",
    "axes.plot(t,y1,marker=\"*\",linestyle=\"--\",label=\"90\")\n",
    "axes.plot(t,y2,marker=\"s\",linestyle=\"--\",label=\"0\")\n",
    "axes.plot(t,y3,marker=\"^\",linestyle=\"--\",label=\"-90\")\n",
    "axes.legend(bbox_to_anchor=(1.18,1))\n",
    "axes.set_title(\"sin()的正弦波\")\n",
    "axes.set_xlabel(\"圓周率\")\n",
    "axes.set_ylabel(\"正弦波值\")\n",
    "plt.show()\n",
    "\n",
    "\n",
    "\n",
    "\n"
   ]
  },
  {
   "cell_type": "markdown",
   "id": "7a2170d0",
   "metadata": {},
   "source": [
    "# 簡易寫法\n",
    "-figure, axes不寫，用plt\n",
    "\n",
    "## 簡易寫法,使用plt的module\n",
    "- 如果沒有Figure,幫我建1個Figure\n",
    "- 如果有Figure,就用這個Figure\n",
    "- 如果沒有Axes,幫我建1個Axes\n",
    "- 如果有Axes,就用這個Axes\n"
   ]
  },
  {
   "cell_type": "code",
   "execution_count": null,
   "id": "6a83f831",
   "metadata": {},
   "outputs": [],
   "source": [
    "import math\n",
    "import numpy as np\n",
    "from numpy import ndarray\n",
    "import matplotlib.pyplot as plt\n",
    "\n",
    "t: ndarray = np.arange(0,2.5,0.1)\n",
    "#t.ndim\n",
    "#t.size 查詢有幾個元素\n",
    "#t.shape 查詢\n",
    "#t.dtype\n",
    "#print(t)\n",
    "\n",
    "y1:ndarray = np.sin(t * math.pi)\n",
    "y2:ndarray = np.sin(t * math.pi + math.pi/2)\n",
    "y3:ndarray = np.sin(t * math.pi - math.pi/2)\n",
    "\n",
    "plt.plot(t,y1,marker=\"*\",linestyle=\"--\",label=\"90\")\n",
    "plt.plot(t,y2,marker=\"s\",linestyle=\"--\",label=\"0\")\n",
    "plt.plot(t,y3,marker=\"^\",linestyle=\"--\",label=\"-90\")\n",
    "plt.legend(bbox_to_anchor=(1.18,1))\n",
    "plt.title(\"sin()的正弦波\")\n",
    "plt.xlabel(\"圓周率\")\n",
    "plt.ylabel(\"正弦波值\")\n",
    "plt.show()\n",
    "\n"
   ]
  }
 ],
 "metadata": {
  "kernelspec": {
   "display_name": "20250614",
   "language": "python",
   "name": "python3"
  },
  "language_info": {
   "codemirror_mode": {
    "name": "ipython",
    "version": 3
   },
   "file_extension": ".py",
   "mimetype": "text/x-python",
   "name": "python",
   "nbconvert_exporter": "python",
   "pygments_lexer": "ipython3",
   "version": "3.10.18"
  }
 },
 "nbformat": 4,
 "nbformat_minor": 5
}
