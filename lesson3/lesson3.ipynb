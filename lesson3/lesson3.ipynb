{
  "nbformat": 4,
  "nbformat_minor": 0,
  "metadata": {
    "colab": {
      "provenance": [],
      "authorship_tag": "ABX9TyNs2AZDgM0xCIPgxIMCHcen",
      "include_colab_link": true
    },
    "kernelspec": {
      "name": "python3",
      "display_name": "Python 3"
    },
    "language_info": {
      "name": "python"
    }
  },
  "cells": [
    {
      "cell_type": "markdown",
      "metadata": {
        "id": "view-in-github",
        "colab_type": "text"
      },
      "source": [
        "<a href=\"https://colab.research.google.com/github/Rimuy-Amaya/Python_20250503/blob/main/lesson3/lesson3.ipynb\" target=\"_parent\"><img src=\"https://colab.research.google.com/assets/colab-badge.svg\" alt=\"Open In Colab\"/></a>"
      ]
    },
    {
      "cell_type": "markdown",
      "source": [
        "# python的條件式\n",
        "## python的比較運算子\n",
        "Python 的比較運算子用來比較兩個值，並回傳布林值（True 或 False）。Python 支援以下主要的比較運算子：\n",
        "\n",
        "- `<` ：小於\n",
        "- `<=` ：小於等於\n",
        "- `>` ：大於\n",
        "- `>=` ：大於等於\n",
        "- `==` ：等於\n",
        "- `!=` ：不等於\n",
        "- `is` ：判斷兩個物件是否為同一個物件（物件識別）\n",
        "- `is not` ：判斷兩個物件是否不是同一個物件"
      ],
      "metadata": {
        "id": "Vlp7O1Mb0ozG"
      }
    },
    {
      "cell_type": "code",
      "execution_count": null,
      "metadata": {
        "id": "AmvyK_SD0GNT",
        "colab": {
          "base_uri": "https://localhost:8080/"
        },
        "outputId": "4ddc96b2-c719-4e21-b53a-dd0877b4c433"
      },
      "outputs": [
        {
          "output_type": "stream",
          "name": "stderr",
          "text": [
            "<>:3: SyntaxWarning: \"is\" with a literal. Did you mean \"==\"?\n",
            "<>:4: SyntaxWarning: \"is not\" with a literal. Did you mean \"!=\"?\n",
            "<>:3: SyntaxWarning: \"is\" with a literal. Did you mean \"==\"?\n",
            "<>:4: SyntaxWarning: \"is not\" with a literal. Did you mean \"!=\"?\n",
            "<ipython-input-1-4ebd421497a6>:3: SyntaxWarning: \"is\" with a literal. Did you mean \"==\"?\n",
            "  5 is 5.0\n",
            "<ipython-input-1-4ebd421497a6>:4: SyntaxWarning: \"is not\" with a literal. Did you mean \"!=\"?\n",
            "  5 is not 5.0\n"
          ]
        },
        {
          "output_type": "execute_result",
          "data": {
            "text/plain": [
              "True"
            ]
          },
          "metadata": {},
          "execution_count": 1
        }
      ],
      "source": [
        "5 == 5\n",
        "5 != 5\n",
        "5 is 5.0\n",
        "5 is not 5.0"
      ]
    },
    {
      "cell_type": "markdown",
      "source": [
        "# python的多項選擇說明\n",
        "- 語法\n",
        "- 小範例\n",
        "- 繁體中文回覆\n"
      ],
      "metadata": {
        "id": "yjaVwvxv9Ojh"
      }
    },
    {
      "cell_type": "code",
      "source": [
        "#單向選擇\n",
        "height = 160\n",
        "if height >= 160:\n",
        "  print(\"恭喜身高通過!\")"
      ],
      "metadata": {
        "colab": {
          "base_uri": "https://localhost:8080/"
        },
        "id": "9i4_4oWx84fu",
        "outputId": "7ef115eb-00d2-4df9-9610-245d6ff5b4f0"
      },
      "execution_count": 10,
      "outputs": [
        {
          "output_type": "stream",
          "name": "stdout",
          "text": [
            "恭喜身高通過!\n"
          ]
        }
      ]
    },
    {
      "cell_type": "code",
      "source": [
        "#雙向選擇\n",
        "scores = 70\n",
        "if scores >= 60:\n",
        "  print(\"恭喜及格!\")\n",
        "else:\n",
        "  print(\"這次不及格，下次繼續加油!\")"
      ],
      "metadata": {
        "colab": {
          "base_uri": "https://localhost:8080/"
        },
        "id": "E3-eFnLp8PVl",
        "outputId": "27208e49-cfe3-4291-cd28-4a98d91e13aa"
      },
      "execution_count": 9,
      "outputs": [
        {
          "output_type": "stream",
          "name": "stdout",
          "text": [
            "恭喜及格!\n"
          ]
        }
      ]
    },
    {
      "cell_type": "markdown",
      "source": [
        "在Python中，條件式可分為「單項式」與「雙項式」，以下說明其語法、意義與範例：\n",
        "\n",
        "## 單項式條件式\n",
        "\n",
        "**語法：**\n",
        "\n",
        "```python\n",
        "if 條件:\n",
        "    執行程式區塊\n",
        "```\n",
        "\n",
        "**說明：**  \n",
        "單項式條件式指的是只有一個判斷條件，當條件成立（True）時，執行縮排的程式區塊，否則不執行任何動作（無else部分）。這是最簡單的條件判斷。\n",
        "\n",
        "**範例：**\n",
        "\n",
        "```python\n",
        "score = 75\n",
        "if score >= 60:\n",
        "    print(\"及格\")\n",
        "```\n",
        "\n",
        "執行結果：\n",
        "\n",
        "```\n",
        "及格\n",
        "```\n",
        "\n",
        "（當score大於等於60時，印出「及格」）[4][5][6]\n",
        "\n",
        "---\n",
        "\n",
        "## 雙項式條件式\n",
        "\n",
        "**語法：**\n",
        "\n",
        "```python\n",
        "if 條件:\n",
        "    條件成立時執行的程式區塊\n",
        "else:\n",
        "    條件不成立時執行的程式區塊\n",
        "```\n",
        "\n",
        "**說明：**  \n",
        "雙項式條件式有兩個分支，當條件為True時執行if區塊，條件為False時執行else區塊，確保程式必定執行其中一個區塊。\n",
        "\n",
        "**範例：**\n",
        "\n",
        "```python\n",
        "score = 55\n",
        "if score >= 60:\n",
        "    print(\"及格\")\n",
        "else:\n",
        "    print(\"不及格\")\n",
        "```\n",
        "\n",
        "執行結果：\n",
        "\n",
        "```\n",
        "不及格\n",
        "```\n",
        "\n",
        "（當score小於60時，印出「不及格」）[3][4][5]\n",
        "\n",
        "---\n",
        "\n",
        "## 補充：多項式條件式（if-elif-else）\n",
        "\n",
        "當有多個條件判斷時，可使用elif擴充：\n",
        "\n",
        "```python\n",
        "score = 85\n",
        "if score >= 90:\n",
        "    print(\"優等\")\n",
        "elif score >= 60:\n",
        "    print(\"及格\")\n",
        "else:\n",
        "    print(\"不及格\")\n",
        "```\n",
        "\n",
        "---\n",
        "\n",
        "## 小結\n",
        "\n",
        "| 條件式類型 | 語法範例                        | 說明                         |\n",
        "|------------|--------------------------------|------------------------------|\n",
        "| 單項式     | `if 條件:`<br>`    程式區塊`   | 條件成立才執行，否則跳過     |\n",
        "| 雙項式     | `if 條件:`<br>`    程式區塊`<br>`else:`<br>`    程式區塊` | 條件成立執行if區塊，否則執行else區塊 |\n",
        "\n",
        "---\n",
        "\n",
        "\n"
      ],
      "metadata": {
        "id": "IXzllxWICgpE"
      }
    },
    {
      "cell_type": "code",
      "source": [
        "#巢狀判斷\n",
        "scores = 55\n",
        "if scores >= 80:\n",
        "  print(\"優\")\n",
        "else:\n",
        "  if scores >= 60:\n",
        "    print(\"甲\")\n",
        "  else:\n",
        "    print(\"不及格\")"
      ],
      "metadata": {
        "id": "IHGDQ1ArCyXh",
        "outputId": "8c3f31b6-9443-43e7-b69e-36932ae6dbea",
        "colab": {
          "base_uri": "https://localhost:8080/"
        }
      },
      "execution_count": 14,
      "outputs": [
        {
          "output_type": "stream",
          "name": "stdout",
          "text": [
            "不及格\n"
          ]
        }
      ]
    },
    {
      "cell_type": "code",
      "source": [
        "#多項選擇結構\n",
        "scores = 75\n",
        "if scores >= 80:\n",
        "  print(\"優\")\n",
        "elif scores >= 60:\n",
        "  print(\"甲\")\n",
        "else:\n",
        "  print(\"不及格\")"
      ],
      "metadata": {
        "id": "ARqmZVC2DfMK",
        "outputId": "55c50c94-b4f2-469b-bffb-4d075344d8a0",
        "colab": {
          "base_uri": "https://localhost:8080/"
        }
      },
      "execution_count": 17,
      "outputs": [
        {
          "output_type": "stream",
          "name": "stdout",
          "text": [
            "甲\n"
          ]
        }
      ]
    }
  ]
}