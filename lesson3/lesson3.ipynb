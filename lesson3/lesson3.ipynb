{
  "nbformat": 4,
  "nbformat_minor": 0,
  "metadata": {
    "colab": {
      "provenance": [],
      "authorship_tag": "ABX9TyN7nz2Ai4xoen0kH8JRLbr3",
      "include_colab_link": true
    },
    "kernelspec": {
      "name": "python3",
      "display_name": "Python 3"
    },
    "language_info": {
      "name": "python"
    }
  },
  "cells": [
    {
      "cell_type": "markdown",
      "metadata": {
        "id": "view-in-github",
        "colab_type": "text"
      },
      "source": [
        "<a href=\"https://colab.research.google.com/github/Rimuy-Amaya/Python_20250503/blob/main/lesson3/lesson3.ipynb\" target=\"_parent\"><img src=\"https://colab.research.google.com/assets/colab-badge.svg\" alt=\"Open In Colab\"/></a>"
      ]
    },
    {
      "cell_type": "markdown",
      "source": [
        "# python的條件式\n",
        "## python的比較運算子\n",
        "Python 的比較運算子用來比較兩個值，並回傳布林值（True 或 False）。Python 支援以下主要的比較運算子：\n",
        "\n",
        "- `<` ：小於\n",
        "- `<=` ：小於等於\n",
        "- `>` ：大於\n",
        "- `>=` ：大於等於\n",
        "- `==` ：等於\n",
        "- `!=` ：不等於\n",
        "- `is` ：判斷兩個物件是否為同一個物件（物件識別）\n",
        "- `is not` ：判斷兩個物件是否不是同一個物件"
      ],
      "metadata": {
        "id": "Vlp7O1Mb0ozG"
      }
    },
    {
      "cell_type": "code",
      "execution_count": null,
      "metadata": {
        "id": "AmvyK_SD0GNT",
        "colab": {
          "base_uri": "https://localhost:8080/"
        },
        "outputId": "4ddc96b2-c719-4e21-b53a-dd0877b4c433"
      },
      "outputs": [
        {
          "output_type": "stream",
          "name": "stderr",
          "text": [
            "<>:3: SyntaxWarning: \"is\" with a literal. Did you mean \"==\"?\n",
            "<>:4: SyntaxWarning: \"is not\" with a literal. Did you mean \"!=\"?\n",
            "<>:3: SyntaxWarning: \"is\" with a literal. Did you mean \"==\"?\n",
            "<>:4: SyntaxWarning: \"is not\" with a literal. Did you mean \"!=\"?\n",
            "<ipython-input-1-4ebd421497a6>:3: SyntaxWarning: \"is\" with a literal. Did you mean \"==\"?\n",
            "  5 is 5.0\n",
            "<ipython-input-1-4ebd421497a6>:4: SyntaxWarning: \"is not\" with a literal. Did you mean \"!=\"?\n",
            "  5 is not 5.0\n"
          ]
        },
        {
          "output_type": "execute_result",
          "data": {
            "text/plain": [
              "True"
            ]
          },
          "metadata": {},
          "execution_count": 1
        }
      ],
      "source": [
        "5 == 5\n",
        "5 != 5\n",
        "5 is 5.0\n",
        "5 is not 5.0"
      ]
    },
    {
      "cell_type": "markdown",
      "source": [
        "# python的多項選擇說明\n",
        "- 語法\n",
        "- 小範例\n",
        "- 繁體中文回覆\n"
      ],
      "metadata": {
        "id": "yjaVwvxv9Ojh"
      }
    },
    {
      "cell_type": "code",
      "source": [
        "#單向選擇\n",
        "height = 160\n",
        "if height >= 160:\n",
        "  print(\"恭喜身高通過!\")"
      ],
      "metadata": {
        "colab": {
          "base_uri": "https://localhost:8080/"
        },
        "id": "9i4_4oWx84fu",
        "outputId": "7ef115eb-00d2-4df9-9610-245d6ff5b4f0"
      },
      "execution_count": null,
      "outputs": [
        {
          "output_type": "stream",
          "name": "stdout",
          "text": [
            "恭喜身高通過!\n"
          ]
        }
      ]
    },
    {
      "cell_type": "code",
      "source": [
        "#雙向選擇\n",
        "scores = 70\n",
        "if scores >= 60:\n",
        "  print(\"恭喜及格!\")\n",
        "else:\n",
        "  print(\"這次不及格，下次繼續加油!\")"
      ],
      "metadata": {
        "colab": {
          "base_uri": "https://localhost:8080/"
        },
        "id": "E3-eFnLp8PVl",
        "outputId": "27208e49-cfe3-4291-cd28-4a98d91e13aa"
      },
      "execution_count": null,
      "outputs": [
        {
          "output_type": "stream",
          "name": "stdout",
          "text": [
            "恭喜及格!\n"
          ]
        }
      ]
    },
    {
      "cell_type": "markdown",
      "source": [
        "在Python中，條件式可分為「單項式」與「雙項式」，以下說明其語法、意義與範例：\n",
        "\n",
        "## 單項式條件式\n",
        "\n",
        "**語法：**\n",
        "\n",
        "```python\n",
        "if 條件:\n",
        "    執行程式區塊\n",
        "```\n",
        "\n",
        "**說明：**  \n",
        "單項式條件式指的是只有一個判斷條件，當條件成立（True）時，執行縮排的程式區塊，否則不執行任何動作（無else部分）。這是最簡單的條件判斷。\n",
        "\n",
        "**範例：**\n",
        "\n",
        "```python\n",
        "score = 75\n",
        "if score >= 60:\n",
        "    print(\"及格\")\n",
        "```\n",
        "\n",
        "執行結果：\n",
        "\n",
        "```\n",
        "及格\n",
        "```\n",
        "\n",
        "（當score大於等於60時，印出「及格」）[4][5][6]\n",
        "\n",
        "---\n",
        "\n",
        "## 雙項式條件式\n",
        "\n",
        "**語法：**\n",
        "\n",
        "```python\n",
        "if 條件:\n",
        "    條件成立時執行的程式區塊\n",
        "else:\n",
        "    條件不成立時執行的程式區塊\n",
        "```\n",
        "\n",
        "**說明：**  \n",
        "雙項式條件式有兩個分支，當條件為True時執行if區塊，條件為False時執行else區塊，確保程式必定執行其中一個區塊。\n",
        "\n",
        "**範例：**\n",
        "\n",
        "```python\n",
        "score = 55\n",
        "if score >= 60:\n",
        "    print(\"及格\")\n",
        "else:\n",
        "    print(\"不及格\")\n",
        "```\n",
        "\n",
        "執行結果：\n",
        "\n",
        "```\n",
        "不及格\n",
        "```\n",
        "\n",
        "（當score小於60時，印出「不及格」）[3][4][5]\n",
        "\n",
        "---\n",
        "\n",
        "## 補充：多項式條件式（if-elif-else）\n",
        "\n",
        "當有多個條件判斷時，可使用elif擴充：\n",
        "\n",
        "```python\n",
        "score = 85\n",
        "if score >= 90:\n",
        "    print(\"優等\")\n",
        "elif score >= 60:\n",
        "    print(\"及格\")\n",
        "else:\n",
        "    print(\"不及格\")\n",
        "```\n",
        "\n",
        "---\n",
        "\n",
        "## 小結\n",
        "\n",
        "| 條件式類型 | 語法範例                        | 說明                         |\n",
        "|------------|--------------------------------|------------------------------|\n",
        "| 單項式     | `if 條件:`<br>`    程式區塊`   | 條件成立才執行，否則跳過     |\n",
        "| 雙項式     | `if 條件:`<br>`    程式區塊`<br>`else:`<br>`    程式區塊` | 條件成立執行if區塊，否則執行else區塊 |\n",
        "\n",
        "---\n",
        "\n",
        "\n"
      ],
      "metadata": {
        "id": "IXzllxWICgpE"
      }
    },
    {
      "cell_type": "code",
      "source": [
        "#巢狀判斷\n",
        "scores = 55\n",
        "if scores >= 80:\n",
        "  print(\"優\")\n",
        "else:\n",
        "  if scores >= 60:\n",
        "    print(\"甲\")\n",
        "  else:\n",
        "    print(\"不及格\")"
      ],
      "metadata": {
        "id": "IHGDQ1ArCyXh",
        "outputId": "8c3f31b6-9443-43e7-b69e-36932ae6dbea",
        "colab": {
          "base_uri": "https://localhost:8080/"
        }
      },
      "execution_count": null,
      "outputs": [
        {
          "output_type": "stream",
          "name": "stdout",
          "text": [
            "不及格\n"
          ]
        }
      ]
    },
    {
      "cell_type": "code",
      "source": [
        "#多項選擇結構\n",
        "scores = 75\n",
        "if scores >= 80:\n",
        "  print(\"優\")\n",
        "elif scores >= 60:\n",
        "  print(\"甲\")\n",
        "else:\n",
        "  print(\"不及格\")"
      ],
      "metadata": {
        "id": "ARqmZVC2DfMK",
        "outputId": "55c50c94-b4f2-469b-bffb-4d075344d8a0",
        "colab": {
          "base_uri": "https://localhost:8080/"
        }
      },
      "execution_count": null,
      "outputs": [
        {
          "output_type": "stream",
          "name": "stdout",
          "text": [
            "甲\n"
          ]
        }
      ]
    },
    {
      "cell_type": "code",
      "source": [
        "#多項選擇的結構\n",
        "scores = 95\n",
        "if scores < 60:\n",
        "  print(\"不及格\")\n",
        "elif scores < 70:\n",
        "  print(\"丙\")\n",
        "elif scores < 80:\n",
        "  print(\"乙\")\n",
        "elif scores < 90:\n",
        "  print(\"甲\")\n",
        "else:\n",
        "  print(\"優\")"
      ],
      "metadata": {
        "id": "P3bsOuKXIx2p",
        "outputId": "581981b3-5b4b-4200-87e1-5132222a6be8",
        "colab": {
          "base_uri": "https://localhost:8080/"
        }
      },
      "execution_count": null,
      "outputs": [
        {
          "output_type": "stream",
          "name": "stdout",
          "text": [
            "優\n"
          ]
        }
      ]
    },
    {
      "cell_type": "code",
      "source": [],
      "metadata": {
        "id": "PkGTu2DWJ0TL"
      },
      "execution_count": null,
      "outputs": []
    },
    {
      "cell_type": "code",
      "source": [
        "#多項選擇的結構\n",
        "scores = 55\n",
        "if scores > 90:\n",
        "  print(\"優\")\n",
        "elif scores > 80:\n",
        "  print(\"甲\")\n",
        "elif scores > 70:\n",
        "  print(\"乙\")\n",
        "elif scores > 60:\n",
        "  print(\"丙\")\n",
        "else:\n",
        "  print(\"不及格\")"
      ],
      "metadata": {
        "outputId": "4062f39e-e5af-4698-febc-d3ca5b970d96",
        "colab": {
          "base_uri": "https://localhost:8080/"
        },
        "id": "DD6Q3MbEJ2vb"
      },
      "execution_count": 26,
      "outputs": [
        {
          "output_type": "stream",
          "name": "stdout",
          "text": [
            "不及格\n"
          ]
        }
      ]
    },
    {
      "cell_type": "markdown",
      "source": [
        "# 邏輯運算子\n",
        "- and(嚴格得到True):True and True\n",
        "- or(容易得到True)\n",
        "- not\n",
        "\n",
        "Python的邏輯運算子主要用於結合多個條件判斷，結果為布林值（True或False）。\n",
        "\n",
        "Python中有三種基本的邏輯運算子：\n",
        "\n",
        "Python邏輯運算子及語法說明\n",
        "\n",
        "- and：邏輯且運算子，當兩個條件都為True時，整體結果才為True，否則為False。\n",
        "- or：邏輯或運算子，只要其中一個條件為True，整體結果即為True，只有全部為False時結果才為False。\n",
        "- not：邏輯非運算子，將條件結果取反，True變False，False變True。"
      ],
      "metadata": {
        "id": "3be9fuVLMuFv"
      }
    },
    {
      "cell_type": "code",
      "source": [
        "presure = 90\n",
        "if presure >= 80 and presure <= 120:\n",
        "  print(\"血壓正常\")\n",
        "else:\n",
        "  print(\"血壓不正常\")"
      ],
      "metadata": {
        "id": "9nmvaFCLMeTA",
        "outputId": "263dc0e9-5971-4789-ea67-f235a5d4f0d8",
        "colab": {
          "base_uri": "https://localhost:8080/"
        }
      },
      "execution_count": 27,
      "outputs": [
        {
          "output_type": "stream",
          "name": "stdout",
          "text": [
            "血壓正常\n"
          ]
        }
      ]
    },
    {
      "cell_type": "code",
      "source": [
        "presure = 90\n",
        "if presure < 80 or presure > 120:\n",
        "  print(\"血壓不正常\")\n",
        "else:\n",
        "  print(\"血壓正常\")"
      ],
      "metadata": {
        "id": "SBU6ZOGLPPNZ",
        "outputId": "7e9b2e6b-4763-49de-a3c8-899c7bfae350",
        "colab": {
          "base_uri": "https://localhost:8080/"
        }
      },
      "execution_count": 38,
      "outputs": [
        {
          "output_type": "stream",
          "name": "stdout",
          "text": [
            "血壓正常\n"
          ]
        }
      ]
    },
    {
      "cell_type": "code",
      "source": [
        "presure = 99\n",
        "if not( presure >= 80 and presure <= 120 ):\n",
        "  print(\"血壓不正常\")\n",
        "else:\n",
        "  print(\"血壓正常\")"
      ],
      "metadata": {
        "id": "tARJoEJjPgeN",
        "outputId": "5e2f4785-4e66-486c-cb3e-4e375fc1762a",
        "colab": {
          "base_uri": "https://localhost:8080/"
        }
      },
      "execution_count": 39,
      "outputs": [
        {
          "output_type": "stream",
          "name": "stdout",
          "text": [
            "血壓正常\n"
          ]
        }
      ]
    }
  ]
}