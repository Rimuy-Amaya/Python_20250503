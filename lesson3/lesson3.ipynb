{
  "nbformat": 4,
  "nbformat_minor": 0,
  "metadata": {
    "colab": {
      "provenance": [],
      "authorship_tag": "ABX9TyNp09IOoiGLCIldNM+OkH/D",
      "include_colab_link": true
    },
    "kernelspec": {
      "name": "python3",
      "display_name": "Python 3"
    },
    "language_info": {
      "name": "python"
    }
  },
  "cells": [
    {
      "cell_type": "markdown",
      "metadata": {
        "id": "view-in-github",
        "colab_type": "text"
      },
      "source": [
        "<a href=\"https://colab.research.google.com/github/Rimuy-Amaya/Python_20250503/blob/main/lesson3/lesson3.ipynb\" target=\"_parent\"><img src=\"https://colab.research.google.com/assets/colab-badge.svg\" alt=\"Open In Colab\"/></a>"
      ]
    },
    {
      "cell_type": "markdown",
      "source": [
        "# python的條件式\n",
        "## python的比較運算子\n",
        "Python 的比較運算子用來比較兩個值，並回傳布林值（True 或 False）。Python 支援以下主要的比較運算子：\n",
        "\n",
        "- `<` ：小於\n",
        "- `<=` ：小於等於\n",
        "- `>` ：大於\n",
        "- `>=` ：大於等於\n",
        "- `==` ：等於\n",
        "- `!=` ：不等於\n",
        "- `is` ：判斷兩個物件是否為同一個物件（物件識別）\n",
        "- `is not` ：判斷兩個物件是否不是同一個物件"
      ],
      "metadata": {
        "id": "Vlp7O1Mb0ozG"
      }
    },
    {
      "cell_type": "code",
      "execution_count": null,
      "metadata": {
        "id": "AmvyK_SD0GNT",
        "colab": {
          "base_uri": "https://localhost:8080/"
        },
        "outputId": "4ddc96b2-c719-4e21-b53a-dd0877b4c433"
      },
      "outputs": [
        {
          "output_type": "stream",
          "name": "stderr",
          "text": [
            "<>:3: SyntaxWarning: \"is\" with a literal. Did you mean \"==\"?\n",
            "<>:4: SyntaxWarning: \"is not\" with a literal. Did you mean \"!=\"?\n",
            "<>:3: SyntaxWarning: \"is\" with a literal. Did you mean \"==\"?\n",
            "<>:4: SyntaxWarning: \"is not\" with a literal. Did you mean \"!=\"?\n",
            "<ipython-input-1-4ebd421497a6>:3: SyntaxWarning: \"is\" with a literal. Did you mean \"==\"?\n",
            "  5 is 5.0\n",
            "<ipython-input-1-4ebd421497a6>:4: SyntaxWarning: \"is not\" with a literal. Did you mean \"!=\"?\n",
            "  5 is not 5.0\n"
          ]
        },
        {
          "output_type": "execute_result",
          "data": {
            "text/plain": [
              "True"
            ]
          },
          "metadata": {},
          "execution_count": 1
        }
      ],
      "source": [
        "5 == 5\n",
        "5 != 5\n",
        "5 is 5.0\n",
        "5 is not 5.0"
      ]
    },
    {
      "cell_type": "markdown",
      "source": [
        "# python的多項選擇說明\n",
        "- 語法\n",
        "- 小範例\n",
        "- 繁體中文回覆\n"
      ],
      "metadata": {
        "id": "yjaVwvxv9Ojh"
      }
    },
    {
      "cell_type": "code",
      "source": [
        "#單向選擇\n",
        "height = 160\n",
        "if height >= 160:\n",
        "  print(\"恭喜身高通過!\")"
      ],
      "metadata": {
        "id": "9i4_4oWx84fu",
        "outputId": "7ef115eb-00d2-4df9-9610-245d6ff5b4f0",
        "colab": {
          "base_uri": "https://localhost:8080/"
        }
      },
      "execution_count": 10,
      "outputs": [
        {
          "output_type": "stream",
          "name": "stdout",
          "text": [
            "恭喜身高通過!\n"
          ]
        }
      ]
    },
    {
      "cell_type": "code",
      "source": [
        "#雙向選擇\n",
        "scores = 70\n",
        "if scores >= 60:\n",
        "  print(\"恭喜及格!\")\n",
        "else:\n",
        "  print(\"這次不及格，下次繼續加油!\")"
      ],
      "metadata": {
        "colab": {
          "base_uri": "https://localhost:8080/"
        },
        "id": "E3-eFnLp8PVl",
        "outputId": "27208e49-cfe3-4291-cd28-4a98d91e13aa"
      },
      "execution_count": 9,
      "outputs": [
        {
          "output_type": "stream",
          "name": "stdout",
          "text": [
            "恭喜及格!\n"
          ]
        }
      ]
    }
  ]
}