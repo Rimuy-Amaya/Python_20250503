{
 "cells": [
  {
   "cell_type": "markdown",
   "id": "707d49e1",
   "metadata": {},
   "source": [
    "# test"
   ]
  }
 ],
 "metadata": {
  "language_info": {
   "name": "python"
  }
 },
 "nbformat": 4,
 "nbformat_minor": 5
}
