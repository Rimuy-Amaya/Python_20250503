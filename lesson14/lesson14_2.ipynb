{
 "cells": [
  {
   "cell_type": "code",
   "execution_count": null,
   "id": "efa63018",
   "metadata": {},
   "outputs": [],
   "source": [
    "import yfinance as yf\n",
    "df = yf.download('2330.TW', start='2024-01-01', end='2024-06-01',auto_adjust=True)\n",
    "df.tail()"
   ]
  },
  {
   "cell_type": "code",
   "execution_count": null,
   "id": "4685754e",
   "metadata": {},
   "outputs": [],
   "source": [
    "import yfinance as yf #從yfinance下載股市資料\n",
    "tw2330 = yf.download('2330.TW', start='2024-01-01', end='2024-06-01',auto_adjust=True) \n",
    "# yf.download()這個函式，是 yfinance 這個套件提供給你的「API」之一\n",
    "tw2303 = yf.download('2303.TW', start='2024-01-01', end='2024-06-01',auto_adjust=True)\n",
    "tw2454 = yf.download('2454.TW', start='2024-01-01', end='2024-06-01',auto_adjust=True)\n",
    "tw2317 = yf.download('2317.TW', start='2024-01-01', end='2024-06-01',auto_adjust=True)"
   ]
  },
  {
   "cell_type": "code",
   "execution_count": null,
   "id": "32a63424",
   "metadata": {},
   "outputs": [],
   "source": [
    "tw2330['Close']['2330.TW'] #只選取收盤數字\n",
    "tw2330_data = tw2330[('Close','2330.TW')]\n",
    "tw2303_data = tw2303[('Close','2303.TW')]\n",
    "tw2454_data = tw2454[('Close','2454.TW')]\n",
    "tw2317_data = tw2317[('Close','2317.TW')]"
   ]
  },
  {
   "cell_type": "code",
   "execution_count": null,
   "id": "22eca43a",
   "metadata": {},
   "outputs": [],
   "source": [
    "import pandas as pd\n",
    "\n",
    "data = {\n",
    "    \"台積電\" : tw2330_data , \n",
    "    \"聯電\" : tw2303_data ,\n",
    "    \"聯發科\" : tw2454_data ,\n",
    "    \"鴻海\" : tw2317_data\n",
    "}\n",
    "\n",
    "#dictionarty，有指定對應的值。指定每一欄的名稱，跟他所對應的數值。\n",
    "\n",
    "df = pd.DataFrame(data)\n",
    "df\n"
   ]
  },
  {
   "cell_type": "code",
   "execution_count": null,
   "id": "5bbfb9b3",
   "metadata": {},
   "outputs": [],
   "source": [
    "df.plot() #繪圖"
   ]
  },
  {
   "cell_type": "markdown",
   "id": "d2045d9c",
   "metadata": {},
   "source": [
    "# 數據分析專案-整合流程\n",
    "1. .ipynb檔案當中測試\n",
    "2. 建立.py檔\n",
    "3. 主執行檔，內建參數\n",
    "   if \\___name___== '\\___main___'\n",
    "4. 定義main function\n",
    "   del main():\n",
    "\n",
    "5. 呼叫main()\n",
    "\n"
   ]
  },
  {
   "cell_type": "code",
   "execution_count": null,
   "id": "2973379e",
   "metadata": {},
   "outputs": [],
   "source": []
  }
 ],
 "metadata": {
  "kernelspec": {
   "display_name": "amaya",
   "language": "python",
   "name": "python3"
  },
  "language_info": {
   "codemirror_mode": {
    "name": "ipython",
    "version": 3
   },
   "file_extension": ".py",
   "mimetype": "text/x-python",
   "name": "python",
   "nbconvert_exporter": "python",
   "pygments_lexer": "ipython3",
   "version": "3.10.18"
  }
 },
 "nbformat": 4,
 "nbformat_minor": 5
}
