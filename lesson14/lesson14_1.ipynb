{
 "cells": [
  {
   "cell_type": "markdown",
   "id": "8c8778e9",
   "metadata": {},
   "source": [
    "https://www.perplexity.ai/search/72794e36-7b92-4a94-8fa2-8fd264bef9ad"
   ]
  },
  {
   "cell_type": "code",
   "execution_count": null,
   "id": "e95dcc8d",
   "metadata": {},
   "outputs": [],
   "source": [
    "import pandas as pd\n",
    "df = pd.read_csv(\"world.csv\",index_col=\"國家\",usecols=[\"國家\",\"日期\",\"總確診數\",\"新增確診數\",\"新增死亡數\"])\n",
    "mask = df.index == \"台灣\" #指定一個遮罩，用\"台灣\"篩選\n",
    "taiwan = df[mask] \n",
    "taiwan\n",
    "taiwan.to_csv(\"taiwan0628.csv\", encoding = \"utf-8\", index=True)"
   ]
  },
  {
   "cell_type": "code",
   "execution_count": null,
   "id": "5fbdea83",
   "metadata": {},
   "outputs": [],
   "source": [
    "import pandas as pd\n",
    "df = pd.read_csv(\"taiwan0628.csv\")\n",
    "display(df) #只有ipynb才可以用display"
   ]
  },
  {
   "cell_type": "code",
   "execution_count": null,
   "id": "5bec2aad",
   "metadata": {},
   "outputs": [],
   "source": [
    "df.info() #查詢所有欄位的資料類型"
   ]
  },
  {
   "cell_type": "code",
   "execution_count": null,
   "id": "3c85b814",
   "metadata": {},
   "outputs": [],
   "source": [
    "df [[\"日期\",\"新增確診數\"]] #透過欄選取資料，中括號裡面放的是list，因此要在一個中括號。"
   ]
  },
  {
   "cell_type": "code",
   "execution_count": null,
   "id": "178be9d2",
   "metadata": {},
   "outputs": [],
   "source": [
    "df.iloc[:5]\n",
    "df.loc[[0,1,2,3,4]]\n",
    "df1 = df.iloc[700:710] #透過指定列選取。\n",
    "mask = df1[\"新增確診數\"] >= 12 #製作遮色片\n",
    "df1 [mask] #透過資料搜尋，選取指定資料。"
   ]
  },
  {
   "cell_type": "code",
   "execution_count": null,
   "id": "a03ba3b6",
   "metadata": {},
   "outputs": [],
   "source": [
    "df[\"日期\"] <= \"20200120\""
   ]
  },
  {
   "cell_type": "markdown",
   "id": "29c44abc",
   "metadata": {},
   "source": [
    "# Pandas 對於整個 Series (列) 進行操作時有特別的要求。\n",
    "- 邏輯 AND (交集):符號：&\n",
    "- 邏輯 OR (聯集):符號：|\n",
    "- 邏輯 NOT (反轉):符號：~\n",
    "\n",
    "## 為什麼是 & 和 | 而不是 and 和 or？\n",
    "- 這是因為當你對整個 Pandas Series (像 df[\"日期\"]) 進行操作時，Python 的 and 和 or 關鍵字是用來對單一布林值（True 或 False）進行判斷的。\n",
    "- 但是 df[\"日期\"] >= \"2020-01-20\" 這種運算，它的結果會是一個一整串 True/False 的 Series (像一個長長的布林值列表)。\n",
    "- & 和 | 符號可以對兩個相同長度的布林值 Series 進行「逐元素」的判斷。\n",
    "- 想像成它們會把兩個 True/False 的列表，一對一地比較，然後產生一個新的 True/False 列表。"
   ]
  },
  {
   "cell_type": "code",
   "execution_count": null,
   "id": "c6e3c51c",
   "metadata": {},
   "outputs": [],
   "source": [
    "mask = (df[\"日期\"] >= \"2020-01-20\") & (df[\"日期\"] < \"2020-02-01\") \n",
    "#透過選取日期，來製作遮罩。比較運算子不是使用and而是&。\n",
    "#每一個條件要用小括號包起來。\n",
    "df[mask]"
   ]
  },
  {
   "cell_type": "code",
   "execution_count": null,
   "id": "ff17c9e9",
   "metadata": {},
   "outputs": [],
   "source": [
    "#實體方法query(字串)\n",
    "df.query('日期 >= \"2020-01-20\" and 日期 < \"2020-02-01\" and 總確診數 >= 5 ')"
   ]
  },
  {
   "cell_type": "code",
   "execution_count": null,
   "id": "f79b5693",
   "metadata": {},
   "outputs": [],
   "source": [
    "df['日期'] = pd.to_datetime( df ['日期'])\n",
    "#把日期轉換成為datetime格式的資料類型\n",
    "df.info()"
   ]
  },
  {
   "cell_type": "code",
   "execution_count": null,
   "id": "30b4482c",
   "metadata": {},
   "outputs": [],
   "source": [
    "df.query('日期 == \"2020/01/16\"')\n",
    "df.query('日期 == \"2020-01-16\"')\n",
    "df.info()\n",
    "#轉換成datetime格式之後，可以用2020-01-16或是2020/01/16格式搜尋到所需資料。"
   ]
  },
  {
   "cell_type": "code",
   "execution_count": null,
   "id": "158aa9c2",
   "metadata": {},
   "outputs": [],
   "source": [
    "df.query('日期 in [ \"2020-01-16\" ]')\n",
    "df.info()\n"
   ]
  },
  {
   "cell_type": "code",
   "execution_count": null,
   "id": "55d335de",
   "metadata": {},
   "outputs": [],
   "source": [
    "df2 = df.set_index('日期')\n",
    "#把日期變成索引\n",
    "df2"
   ]
  },
  {
   "cell_type": "code",
   "execution_count": null,
   "id": "d1d857cd",
   "metadata": {},
   "outputs": [],
   "source": [
    "df2.loc['2020'] #用年選取資料\n",
    "df2.loc['2020-01'] #用月選取資料\n",
    "df2.loc['2020-01':'2020-06'] #用時間區間選取資料\n"
   ]
  }
 ],
 "metadata": {
  "kernelspec": {
   "display_name": "amaya",
   "language": "python",
   "name": "python3"
  },
  "language_info": {
   "codemirror_mode": {
    "name": "ipython",
    "version": 3
   },
   "file_extension": ".py",
   "mimetype": "text/x-python",
   "name": "python",
   "nbconvert_exporter": "python",
   "pygments_lexer": "ipython3",
   "version": "3.10.18"
  }
 },
 "nbformat": 4,
 "nbformat_minor": 5
}
