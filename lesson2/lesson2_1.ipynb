{
  "nbformat": 4,
  "nbformat_minor": 0,
  "metadata": {
    "colab": {
      "provenance": [],
      "include_colab_link": true
    },
    "kernelspec": {
      "name": "python3",
      "display_name": "Python 3"
    },
    "language_info": {
      "name": "python"
    }
  },
  "cells": [
    {
      "cell_type": "markdown",
      "metadata": {
        "id": "view-in-github",
        "colab_type": "text"
      },
      "source": [
        "<a href=\"https://colab.research.google.com/github/Rimuy-Amaya/Python_20250503/blob/main/lesson2/lesson2_1.ipynb\" target=\"_parent\"><img src=\"https://colab.research.google.com/assets/colab-badge.svg\" alt=\"Open In Colab\"/></a>"
      ]
    },
    {
      "cell_type": "code",
      "execution_count": null,
      "metadata": {
        "id": "MzMaz_bupBjw",
        "colab": {
          "base_uri": "https://localhost:8080/"
        },
        "outputId": "3c2f54d7-986a-4a0c-a9d0-1a7f56b2aeda"
      },
      "outputs": [
        {
          "output_type": "execute_result",
          "data": {
            "text/plain": [
              "14"
            ]
          },
          "metadata": {},
          "execution_count": 1
        }
      ],
      "source": [
        "2 + 3 * 4"
      ]
    },
    {
      "cell_type": "code",
      "source": [
        "(2 + 3) * 4"
      ],
      "metadata": {
        "id": "j5TdbxqOrxFM",
        "outputId": "1b2f1ee2-dbb4-497a-eea7-6f32463a5aa0",
        "colab": {
          "base_uri": "https://localhost:8080/"
        }
      },
      "execution_count": null,
      "outputs": [
        {
          "output_type": "execute_result",
          "data": {
            "text/plain": [
              "20"
            ]
          },
          "metadata": {},
          "execution_count": 2
        }
      ]
    },
    {
      "cell_type": "markdown",
      "source": [
        "- 會做6件事\n",
        "- 運算式->會傳出值\n",
        "\n",
        "**運算子的優先順序**\n",
        "- ()\n",
        "- \\**\n",
        "- \\* / % //\n",
        "- \\+ -\n",
        "- =\n",
        "\n"
      ],
      "metadata": {
        "id": "pObrp6vzsl3U"
      }
    },
    {
      "cell_type": "markdown",
      "source": [
        "### 運算式\n",
        "- 會傳出值"
      ],
      "metadata": {
        "id": "8l1Aj8uUyTC2"
      }
    },
    {
      "cell_type": "code",
      "source": [
        "2 * (1+ 2) ** 2 - 2 ** 2 * 2"
      ],
      "metadata": {
        "id": "xcBrr4ZYsDKb",
        "outputId": "b7504453-7dd8-4252-8860-6add93fc369c",
        "colab": {
          "base_uri": "https://localhost:8080/"
        }
      },
      "execution_count": null,
      "outputs": [
        {
          "output_type": "execute_result",
          "data": {
            "text/plain": [
              "10"
            ]
          },
          "metadata": {},
          "execution_count": 4
        }
      ]
    },
    {
      "cell_type": "markdown",
      "source": [],
      "metadata": {
        "id": "rxnoqIAxyK7W"
      }
    },
    {
      "cell_type": "markdown",
      "source": [
        "### 敘述式(statements)\n",
        "- 建立變數\n",
        "- 不會傳出值\n",
        "- 變數可以多次指定"
      ],
      "metadata": {
        "id": "DKG4nYdOx4YG"
      }
    },
    {
      "cell_type": "code",
      "source": [
        "n = 2 * (1 + 2) ** 2 - 2 ** 2 * 2\n",
        "n = n * 10\n",
        "n"
      ],
      "metadata": {
        "colab": {
          "base_uri": "https://localhost:8080/"
        },
        "id": "T0AmWD8QyLM-",
        "outputId": "b8445887-3fcf-47a8-896d-9fed6c3caa07"
      },
      "execution_count": null,
      "outputs": [
        {
          "output_type": "execute_result",
          "data": {
            "text/plain": [
              "100"
            ]
          },
          "metadata": {},
          "execution_count": 18
        }
      ]
    },
    {
      "cell_type": "code",
      "source": [
        "n = 2 * ( 1 + 2 ) ** 2 - 2 ** 2 * 2\n",
        "n = n * 10\n",
        "n"
      ],
      "metadata": {
        "colab": {
          "base_uri": "https://localhost:8080/"
        },
        "id": "MAzuUbWXz2On",
        "outputId": "ca83443c-43a7-4980-80a1-101eee03a799"
      },
      "execution_count": null,
      "outputs": [
        {
          "output_type": "execute_result",
          "data": {
            "text/plain": [
              "100"
            ]
          },
          "metadata": {},
          "execution_count": 19
        }
      ]
    },
    {
      "cell_type": "markdown",
      "source": [
        "### 複合指定運算子\n"
      ],
      "metadata": {
        "id": "fxUI_e4W1yzY"
      }
    },
    {
      "cell_type": "code",
      "source": [],
      "metadata": {
        "id": "Q-BOGLOK3I2A"
      },
      "execution_count": null,
      "outputs": []
    },
    {
      "cell_type": "code",
      "source": [
        "n = 2 * ( 1 + 2 ) ** 2 - 2 ** 2 * 2\n",
        "n *= 10\n",
        "n"
      ],
      "metadata": {
        "colab": {
          "base_uri": "https://localhost:8080/"
        },
        "outputId": "38dfc711-3e5c-46be-e3b9-268ee5f2b262",
        "id": "DzJPzJbk3Moh"
      },
      "execution_count": null,
      "outputs": [
        {
          "output_type": "execute_result",
          "data": {
            "text/plain": [
              "100"
            ]
          },
          "metadata": {},
          "execution_count": 27
        }
      ]
    },
    {
      "cell_type": "code",
      "source": [],
      "metadata": {
        "id": "cRZfsSU13YKA"
      },
      "execution_count": null,
      "outputs": []
    },
    {
      "cell_type": "code",
      "source": [
        "n = 2 * ( 1 + 2 ) ** 2 - 2 ** 2 * 2\n",
        "n -= 5\n",
        "n"
      ],
      "metadata": {
        "colab": {
          "base_uri": "https://localhost:8080/"
        },
        "outputId": "b1e2ce04-ce3d-4a80-9876-3213b4cca56a",
        "id": "0TmEkbbs3a9K"
      },
      "execution_count": null,
      "outputs": [
        {
          "output_type": "execute_result",
          "data": {
            "text/plain": [
              "5"
            ]
          },
          "metadata": {},
          "execution_count": 29
        }
      ]
    },
    {
      "cell_type": "markdown",
      "source": [
        "### input()使用"
      ],
      "metadata": {
        "id": "0kccbNH08Ecy"
      }
    },
    {
      "cell_type": "code",
      "source": [
        "name = input(\"請輸入您的姓名:\")\n",
        "print(\"您的名字:\",name)"
      ],
      "metadata": {
        "id": "cEgXXgfw8PO7",
        "outputId": "f75047ee-1330-4a33-ef97-68ea67ad5452",
        "colab": {
          "base_uri": "https://localhost:8080/"
        }
      },
      "execution_count": 33,
      "outputs": [
        {
          "output_type": "stream",
          "name": "stdout",
          "text": [
            "請輸入您的姓名:Amaya\n",
            "您的名字: Amaya\n"
          ]
        }
      ]
    }
  ]
}