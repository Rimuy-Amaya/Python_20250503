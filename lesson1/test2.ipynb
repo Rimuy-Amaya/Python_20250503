{
  "nbformat": 4,
  "nbformat_minor": 0,
  "metadata": {
    "colab": {
      "provenance": [],
      "include_colab_link": true
    },
    "kernelspec": {
      "name": "python3",
      "display_name": "Python 3"
    },
    "language_info": {
      "name": "python"
    }
  },
  "cells": [
    {
      "cell_type": "markdown",
      "metadata": {
        "id": "view-in-github",
        "colab_type": "text"
      },
      "source": [
        "<a href=\"https://colab.research.google.com/github/Rimuy-Amaya/Python_20250503/blob/main/lesson1/test2.ipynb\" target=\"_parent\"><img src=\"https://colab.research.google.com/assets/colab-badge.svg\" alt=\"Open In Colab\"/></a>"
      ]
    },
    {
      "cell_type": "code",
      "execution_count": null,
      "metadata": {
        "id": "DfEo7zzJHal7",
        "outputId": "c9396d31-9316-4304-dd97-e1185acbf53c",
        "colab": {
          "base_uri": "https://localhost:8080/"
        }
      },
      "outputs": [
        {
          "output_type": "stream",
          "name": "stdout",
          "text": [
            "hi hi\n"
          ]
        }
      ],
      "source": [
        "print(\"hi hi\")"
      ]
    },
    {
      "cell_type": "code",
      "source": [
        "price = int (input(\"輸入顧客購買金額:\"))\n",
        "if price >= 100000:\n",
        "    price = price * 0.8\n",
        "elif price >= 50000:\n",
        "    price = price * 0.85\n",
        "elif price >= 30000:\n",
        "    price = price * 0.9\n",
        "elif price >= 10000:\n",
        "    price = price * 0.95\n",
        "print(\"實付金額是:\",price)"
      ],
      "metadata": {
        "id": "xkbInn-hmRzc",
        "outputId": "bbca2c4e-6894-427f-c6b1-122b4b3a4614",
        "colab": {
          "base_uri": "https://localhost:8080/"
        }
      },
      "execution_count": null,
      "outputs": [
        {
          "output_type": "stream",
          "name": "stdout",
          "text": [
            "輸入顧客購買金額:45623555\n",
            "實付金額是: 36498844.0\n"
          ]
        }
      ]
    },
    {
      "cell_type": "code",
      "source": [
        "price = int(input(\"輸入顧客購買金額:\"))\n",
        "\n",
        "if price >= 100000:\n",
        "    price = price * 0.8\n",
        "elif price >= 50000:\n",
        "    price = price * 0.85\n",
        "elif price >= 30000:\n",
        "    price = price * 0.9\n",
        "elif price >= 10000:\n",
        "    price = price * 0.95\n",
        "\n",
        "print(\"實付金額是:\", price)"
      ],
      "metadata": {
        "id": "a0RQgaJomcSc",
        "outputId": "3ddea0c0-e579-4bb8-85c3-883ce1ad3331",
        "colab": {
          "base_uri": "https://localhost:8080/"
        }
      },
      "execution_count": null,
      "outputs": [
        {
          "output_type": "stream",
          "name": "stdout",
          "text": [
            "輸入顧客購買金額:453\n",
            "實付金額是: 453\n"
          ]
        }
      ]
    },
    {
      "cell_type": "code",
      "source": [
        "a=14\n",
        "if a>=12 and a<18 :\n",
        "\tprint(\"ok-1\")\n",
        "else:\n",
        "\tprint(\"cancel- 1\")\n",
        "\n",
        "if 12<=a<18:\n",
        "\tprint(\"ok-2\")\n",
        "else:\n",
        "\tprint(\"cancel- 2\")\n",
        "\n",
        "if not a>18:\n",
        "\tprint(\"ok-3\")\n",
        "else:\n",
        "\tprint(\"cancel- 3\")"
      ],
      "metadata": {
        "id": "mLaF3TMhnFTN",
        "outputId": "0ee74b10-abc2-4b61-fa4e-4ae947dc568a",
        "colab": {
          "base_uri": "https://localhost:8080/"
        }
      },
      "execution_count": null,
      "outputs": [
        {
          "output_type": "stream",
          "name": "stdout",
          "text": [
            "ok-1\n",
            "ok-2\n",
            "ok-3\n"
          ]
        }
      ]
    },
    {
      "cell_type": "code",
      "source": [
        "\n",
        "height = float ( input(\"請輸入身高，單位為公分:\"))\n",
        "weight = float ( input(\"請輸入體重，單位為公分:\"))\n",
        "BMI = weight / ( (height/100)**2 )\n",
        "\n",
        "if BMI < 18.5:\n",
        "    print(f\"您的BMI是{BMI}\\n「您的體重太輕」\")\n",
        "elif BMI < 25:\n",
        "    print(f\"您的BMI是{BMI}\\n「您的體重正常」\")\n",
        "elif BMI < 30:\n",
        "    print(f\"您的BMI是{BMI}\\n「您的體重過重」\")\n",
        "else:\n",
        "    print(f\"您的BMI是{BMI}\\n「您的體重肥胖」\")"
      ],
      "metadata": {
        "id": "r3j5DK3Ephi8",
        "outputId": "47db3796-2f23-4f17-a321-a845092e01a0",
        "colab": {
          "base_uri": "https://localhost:8080/"
        }
      },
      "execution_count": null,
      "outputs": [
        {
          "output_type": "stream",
          "name": "stdout",
          "text": [
            "請輸入身高，單位為公分:163\n",
            "請輸入體重，單位為公分:62\n",
            "您的BMI是23.335466144755166\n",
            "「您的體重正常」\n"
          ]
        }
      ]
    },
    {
      "cell_type": "code",
      "source": [
        "score_forall=0\n",
        "\n",
        "for score in range(0,5):\n",
        "    score = int( input(\"請輸入學生的成績:\"))\n",
        "    score_forall += score\n",
        "score_average = score_forall / 5\n",
        "\n",
        "print(f\"全班總成績為:{score_forall}分，平均為{score_average}分\")"
      ],
      "metadata": {
        "colab": {
          "base_uri": "https://localhost:8080/"
        },
        "id": "1jy3cKaas5aI",
        "outputId": "aeb8e8b3-c7f5-4c48-f265-6718dc825651"
      },
      "execution_count": null,
      "outputs": [
        {
          "output_type": "stream",
          "name": "stdout",
          "text": [
            "請輸入學生的成績:55\n",
            "請輸入學生的成績:55\n",
            "請輸入學生的成績:55\n",
            "請輸入學生的成績:55\n",
            "請輸入學生的成績:55\n",
            "全班總成績為:275分，平均為55.0分\n"
          ]
        }
      ]
    },
    {
      "cell_type": "code",
      "source": [
        "sum = 0\n",
        "students = int( input(\"請輸入學生總人數:\") )\n",
        "for i in range(students):\n",
        "    studentScore = int(input('請輸入第'+ str(i+1) +'位學生的成績:'))\n",
        "    sum += studentScore\n",
        "\n",
        "print(\"全班總成績為:\" + str(sum) + \"分,平均分數為\" + str(sum/students) + \"分\")"
      ],
      "metadata": {
        "colab": {
          "base_uri": "https://localhost:8080/"
        },
        "id": "FtHiwxoVztJo",
        "outputId": "65bcdfe8-58cf-4244-f231-c6a967d706fb"
      },
      "execution_count": null,
      "outputs": [
        {
          "output_type": "stream",
          "name": "stdout",
          "text": [
            "請輸入學生總人數:7\n",
            "請輸入第1位學生的成績:55\n",
            "請輸入第2位學生的成績:32\n",
            "請輸入第3位學生的成績:12\n",
            "請輸入第4位學生的成績:80\n",
            "請輸入第5位學生的成績:100\n",
            "請輸入第6位學生的成績:15\n",
            "請輸入第7位學生的成績:55\n",
            "全班總成績為:349分,平均分數為49.857142857142854分\n"
          ]
        }
      ]
    },
    {
      "cell_type": "code",
      "source": [
        "print(\"兩個參數\")\n",
        "for i in range(4,8):\n",
        "    print(i)\n",
        "print(\"離開後i為\",i)"
      ],
      "metadata": {
        "colab": {
          "base_uri": "https://localhost:8080/"
        },
        "id": "mvdPIAoEzc7o",
        "outputId": "2f3bf0c8-22f8-4c7a-b92d-29cd363decff"
      },
      "execution_count": null,
      "outputs": [
        {
          "output_type": "stream",
          "name": "stdout",
          "text": [
            "兩個參數\n",
            "4\n",
            "5\n",
            "6\n",
            "7\n",
            "離開後i為 7\n"
          ]
        }
      ]
    },
    {
      "cell_type": "code",
      "source": [
        "print(\"三個參數\")\n",
        "for i in range(4,0,-1):\n",
        "    print(i)\n",
        "print(\"離開後i為\",i)"
      ],
      "metadata": {
        "id": "TVsuAwSjz6Ro",
        "outputId": "e971e3a0-5932-4376-9409-a0c94af98334",
        "colab": {
          "base_uri": "https://localhost:8080/"
        }
      },
      "execution_count": null,
      "outputs": [
        {
          "output_type": "stream",
          "name": "stdout",
          "text": [
            "三個參數\n",
            "4\n",
            "3\n",
            "2\n",
            "1\n",
            "離開後i為 1\n"
          ]
        }
      ]
    },
    {
      "cell_type": "code",
      "source": [
        "print(\"三個參數\")\n",
        "for i in range(4,8,2):\n",
        "    print(i)\n",
        "print(\"離開後i為\",i)"
      ],
      "metadata": {
        "id": "SPLS70ZLz9lI",
        "outputId": "d6ce4b37-eec4-4022-83c1-ddab2f836824",
        "colab": {
          "base_uri": "https://localhost:8080/"
        }
      },
      "execution_count": null,
      "outputs": [
        {
          "output_type": "stream",
          "name": "stdout",
          "text": [
            "三個參數\n",
            "4\n",
            "6\n",
            "離開後i為 6\n"
          ]
        }
      ]
    },
    {
      "cell_type": "code",
      "source": [
        "for x in range(0,8,2) :\n",
        "    print(x)"
      ],
      "metadata": {
        "id": "vgyhnAQA0EcZ",
        "outputId": "bbb389b3-c767-4b8b-c81a-e0fb51bb9690",
        "colab": {
          "base_uri": "https://localhost:8080/"
        }
      },
      "execution_count": null,
      "outputs": [
        {
          "output_type": "stream",
          "name": "stdout",
          "text": [
            "0\n",
            "2\n",
            "4\n",
            "6\n"
          ]
        }
      ]
    },
    {
      "cell_type": "code",
      "source": [
        "total = 0\n",
        "for i in range(1,101):\n",
        "    total += i\n",
        "\n",
        "print(f\"1加到100的加總為{total}\")"
      ],
      "metadata": {
        "id": "nWkDXTQy0I9A",
        "outputId": "208cfd97-428b-4b6a-c2ad-e63b665fd5be",
        "colab": {
          "base_uri": "https://localhost:8080/"
        }
      },
      "execution_count": null,
      "outputs": [
        {
          "output_type": "stream",
          "name": "stdout",
          "text": [
            "1加到100的加總為5050\n"
          ]
        }
      ]
    },
    {
      "cell_type": "code",
      "source": [
        "end = int(input(\"1加到多少的數值:\"))\n",
        "total = 0\n",
        "for i in range(1,end+1):\n",
        "    total += i\n",
        "\n",
        "print(f\"1加到{end}的加總為{total}\")"
      ],
      "metadata": {
        "id": "S-ObMOFw0Nc4",
        "outputId": "a053ef34-fd02-4225-9300-16721c1a725c",
        "colab": {
          "base_uri": "https://localhost:8080/"
        }
      },
      "execution_count": null,
      "outputs": [
        {
          "output_type": "stream",
          "name": "stdout",
          "text": [
            "1加到多少的數值:5000\n",
            "1加到5000的加總為12502500\n"
          ]
        }
      ]
    },
    {
      "cell_type": "code",
      "source": [
        "start = int(input(\"start的數值:\"))\n",
        "end = int(input(\"結束的數值:\"))\n",
        "total = 0\n",
        "for i in range(start,end+1):\n",
        "    total += i\n",
        "\n",
        "print(f\"{start}加到{end}的加總為{total}\")"
      ],
      "metadata": {
        "id": "nAywrHpW0VH4",
        "outputId": "0cb23379-296c-4a46-878d-e6b06abb4cd4",
        "colab": {
          "base_uri": "https://localhost:8080/"
        }
      },
      "execution_count": null,
      "outputs": [
        {
          "output_type": "stream",
          "name": "stdout",
          "text": [
            "start的數值:10\n",
            "結束的數值:-5\n",
            "10加到-5的加總為0\n"
          ]
        }
      ]
    },
    {
      "cell_type": "code",
      "source": [
        "#1~100,偶數的加總\n",
        "#1~100,奇數的加總\n",
        "evenTotal = 0\n",
        "oddTotal = 0\n",
        "\n",
        "for i in range(1,101):\n",
        "    if i % 2 == 0:\n",
        "        evenTotal += i\n",
        "    else:\n",
        "        oddTotal += i\n",
        "\n",
        "print(f\"1加到100偶數的加總為{evenTotal}\")\n",
        "print(f\"1加到100奇數的加總為{oddTotal}\")"
      ],
      "metadata": {
        "id": "N9q7rrb-0cyG",
        "outputId": "13ed0a1a-9d8c-45e7-ddc0-d822778db118",
        "colab": {
          "base_uri": "https://localhost:8080/"
        }
      },
      "execution_count": null,
      "outputs": [
        {
          "output_type": "stream",
          "name": "stdout",
          "text": [
            "1加到100偶數的加總為2550\n",
            "1加到100奇數的加總為2500\n"
          ]
        }
      ]
    },
    {
      "cell_type": "code",
      "source": [
        "for i in range(1,10):\n",
        "    for j in range(1,10):\n",
        "        print(f\"{i:<2d}*{j:2d} ={i*j:2d}\",end='  ')\n",
        "    print()"
      ],
      "metadata": {
        "id": "l15dij8k0crI",
        "outputId": "67225d7f-6ca6-4ba5-e8d8-f053b89aca7c",
        "colab": {
          "base_uri": "https://localhost:8080/"
        }
      },
      "execution_count": null,
      "outputs": [
        {
          "output_type": "stream",
          "name": "stdout",
          "text": [
            "1 * 1 = 1  1 * 2 = 2  1 * 3 = 3  1 * 4 = 4  1 * 5 = 5  1 * 6 = 6  1 * 7 = 7  1 * 8 = 8  1 * 9 = 9  \n",
            "2 * 1 = 2  2 * 2 = 4  2 * 3 = 6  2 * 4 = 8  2 * 5 =10  2 * 6 =12  2 * 7 =14  2 * 8 =16  2 * 9 =18  \n",
            "3 * 1 = 3  3 * 2 = 6  3 * 3 = 9  3 * 4 =12  3 * 5 =15  3 * 6 =18  3 * 7 =21  3 * 8 =24  3 * 9 =27  \n",
            "4 * 1 = 4  4 * 2 = 8  4 * 3 =12  4 * 4 =16  4 * 5 =20  4 * 6 =24  4 * 7 =28  4 * 8 =32  4 * 9 =36  \n",
            "5 * 1 = 5  5 * 2 =10  5 * 3 =15  5 * 4 =20  5 * 5 =25  5 * 6 =30  5 * 7 =35  5 * 8 =40  5 * 9 =45  \n",
            "6 * 1 = 6  6 * 2 =12  6 * 3 =18  6 * 4 =24  6 * 5 =30  6 * 6 =36  6 * 7 =42  6 * 8 =48  6 * 9 =54  \n",
            "7 * 1 = 7  7 * 2 =14  7 * 3 =21  7 * 4 =28  7 * 5 =35  7 * 6 =42  7 * 7 =49  7 * 8 =56  7 * 9 =63  \n",
            "8 * 1 = 8  8 * 2 =16  8 * 3 =24  8 * 4 =32  8 * 5 =40  8 * 6 =48  8 * 7 =56  8 * 8 =64  8 * 9 =72  \n",
            "9 * 1 = 9  9 * 2 =18  9 * 3 =27  9 * 4 =36  9 * 5 =45  9 * 6 =54  9 * 7 =63  9 * 8 =72  9 * 9 =81  \n"
          ]
        }
      ]
    },
    {
      "cell_type": "code",
      "source": [
        "for i in range(1,10):\n",
        "    for j in range(1,10):\n",
        "        print(f\"{i:<2d}*{j:2d}={i*j:2d}\",end = \" \")\n",
        "    print()"
      ],
      "metadata": {
        "id": "VV3uZU1KeYh3",
        "outputId": "e9b01f74-84ed-459e-c76c-fa742a5a1d4b",
        "colab": {
          "base_uri": "https://localhost:8080/"
        }
      },
      "execution_count": null,
      "outputs": [
        {
          "output_type": "stream",
          "name": "stdout",
          "text": [
            "1 * 1= 1 1 * 2= 2 1 * 3= 3 1 * 4= 4 1 * 5= 5 1 * 6= 6 1 * 7= 7 1 * 8= 8 1 * 9= 9 \n",
            "2 * 1= 2 2 * 2= 4 2 * 3= 6 2 * 4= 8 2 * 5=10 2 * 6=12 2 * 7=14 2 * 8=16 2 * 9=18 \n",
            "3 * 1= 3 3 * 2= 6 3 * 3= 9 3 * 4=12 3 * 5=15 3 * 6=18 3 * 7=21 3 * 8=24 3 * 9=27 \n",
            "4 * 1= 4 4 * 2= 8 4 * 3=12 4 * 4=16 4 * 5=20 4 * 6=24 4 * 7=28 4 * 8=32 4 * 9=36 \n",
            "5 * 1= 5 5 * 2=10 5 * 3=15 5 * 4=20 5 * 5=25 5 * 6=30 5 * 7=35 5 * 8=40 5 * 9=45 \n",
            "6 * 1= 6 6 * 2=12 6 * 3=18 6 * 4=24 6 * 5=30 6 * 6=36 6 * 7=42 6 * 8=48 6 * 9=54 \n",
            "7 * 1= 7 7 * 2=14 7 * 3=21 7 * 4=28 7 * 5=35 7 * 6=42 7 * 7=49 7 * 8=56 7 * 9=63 \n",
            "8 * 1= 8 8 * 2=16 8 * 3=24 8 * 4=32 8 * 5=40 8 * 6=48 8 * 7=56 8 * 8=64 8 * 9=72 \n",
            "9 * 1= 9 9 * 2=18 9 * 3=27 9 * 4=36 9 * 5=45 9 * 6=54 9 * 7=63 9 * 8=72 9 * 9=81 \n"
          ]
        }
      ]
    },
    {
      "cell_type": "code",
      "source": [
        "for i in range(1,6):\n",
        "    for _ in range(i):\n",
        "        print(\"#\",end='')\n",
        "    print()"
      ],
      "metadata": {
        "id": "G6YKYqOK1g4Y",
        "outputId": "f4d82adc-4354-4dae-e5c1-5ebed9c061c8",
        "colab": {
          "base_uri": "https://localhost:8080/"
        }
      },
      "execution_count": null,
      "outputs": [
        {
          "output_type": "stream",
          "name": "stdout",
          "text": [
            "#\n",
            "##\n",
            "###\n",
            "####\n",
            "#####\n"
          ]
        }
      ]
    },
    {
      "cell_type": "code",
      "source": [
        "#求所有因數\n",
        "num = int(input(\"請輸入整數，求所有因數:\"))\n",
        "print(num,\"的因數:\")\n",
        "for i in range(1,num+1):\n",
        "  if num % i == 0:\n",
        "    print(i)"
      ],
      "metadata": {
        "id": "52X5AN3G2EbA",
        "outputId": "58d65f41-72d1-4461-ce60-e38447a4de6a",
        "colab": {
          "base_uri": "https://localhost:8080/"
        }
      },
      "execution_count": null,
      "outputs": [
        {
          "output_type": "stream",
          "name": "stdout",
          "text": [
            "請輸入整數，求所有因數:456\n",
            "456 的因數:\n",
            "1\n",
            "2\n",
            "3\n",
            "4\n",
            "6\n",
            "8\n",
            "12\n",
            "19\n",
            "24\n",
            "38\n",
            "57\n",
            "76\n",
            "114\n",
            "152\n",
            "228\n",
            "456\n"
          ]
        }
      ]
    },
    {
      "cell_type": "code",
      "source": [
        "#求公因數\n",
        "print(\"請輸入2數,求2數公因數:\")\n",
        "n = int(input('請輸入第1個數:'))\n",
        "m = int(input('請輸入第2個數:'))\n",
        "if n > m:\n",
        "  num = m\n",
        "else:\n",
        "  num = n\n",
        "\n",
        "print(n,'和',m, '的公因數是:')\n",
        "for i in range(1,num+1):\n",
        "  if n % i == 0 and m % i == 0:\n",
        "    print(i)"
      ],
      "metadata": {
        "id": "m2JFr2sU2jDg",
        "outputId": "420a341e-e1ef-4421-a93a-5da97d650b37",
        "colab": {
          "base_uri": "https://localhost:8080/"
        }
      },
      "execution_count": null,
      "outputs": [
        {
          "output_type": "stream",
          "name": "stdout",
          "text": [
            "請輸入2數,求2數公因數:\n",
            "請輸入第1個數:55\n",
            "請輸入第2個數:5\n",
            "55 和 5 的公因數是:\n",
            "1\n",
            "5\n"
          ]
        }
      ]
    },
    {
      "cell_type": "code",
      "source": [
        "#求質數\n",
        "end = int(input(\"請輸入end值:\"))\n",
        "print(f\"1到{end}的質數是:\")\n",
        "for num in range(2,end+1):\n",
        "    is_prime = True\n",
        "    for i in range(2,num):\n",
        "        if num % i == 0:\n",
        "            is_prime = False\n",
        "\n",
        "    if is_prime:\n",
        "        print(f\"{num}\",end=\" \")"
      ],
      "metadata": {
        "id": "HjRyaVeS22to",
        "outputId": "847c3631-4dde-49d3-e350-803a9631425f",
        "colab": {
          "base_uri": "https://localhost:8080/"
        }
      },
      "execution_count": null,
      "outputs": [
        {
          "output_type": "stream",
          "name": "stdout",
          "text": [
            "請輸入end值:4531\n",
            "1到4531的質數是:\n",
            "2 3 5 7 11 13 17 19 23 29 31 37 41 43 47 53 59 61 67 71 73 79 83 89 97 101 103 107 109 113 127 131 137 139 149 151 157 163 167 173 179 181 191 193 197 199 211 223 227 229 233 239 241 251 257 263 269 271 277 281 283 293 307 311 313 317 331 337 347 349 353 359 367 373 379 383 389 397 401 409 419 421 431 433 439 443 449 457 461 463 467 479 487 491 499 503 509 521 523 541 547 557 563 569 571 577 587 593 599 601 607 613 617 619 631 641 643 647 653 659 661 673 677 683 691 701 709 719 727 733 739 743 751 757 761 769 773 787 797 809 811 821 823 827 829 839 853 857 859 863 877 881 883 887 907 911 919 929 937 941 947 953 967 971 977 983 991 997 1009 1013 1019 1021 1031 1033 1039 1049 1051 1061 1063 1069 1087 1091 1093 1097 1103 1109 1117 1123 1129 1151 1153 1163 1171 1181 1187 1193 1201 1213 1217 1223 1229 1231 1237 1249 1259 1277 1279 1283 1289 1291 1297 1301 1303 1307 1319 1321 1327 1361 1367 1373 1381 1399 1409 1423 1427 1429 1433 1439 1447 1451 1453 1459 1471 1481 1483 1487 1489 1493 1499 1511 1523 1531 1543 1549 1553 1559 1567 1571 1579 1583 1597 1601 1607 1609 1613 1619 1621 1627 1637 1657 1663 1667 1669 1693 1697 1699 1709 1721 1723 1733 1741 1747 1753 1759 1777 1783 1787 1789 1801 1811 1823 1831 1847 1861 1867 1871 1873 1877 1879 1889 1901 1907 1913 1931 1933 1949 1951 1973 1979 1987 1993 1997 1999 2003 2011 2017 2027 2029 2039 2053 2063 2069 2081 2083 2087 2089 2099 2111 2113 2129 2131 2137 2141 2143 2153 2161 2179 2203 2207 2213 2221 2237 2239 2243 2251 2267 2269 2273 2281 2287 2293 2297 2309 2311 2333 2339 2341 2347 2351 2357 2371 2377 2381 2383 2389 2393 2399 2411 2417 2423 2437 2441 2447 2459 2467 2473 2477 2503 2521 2531 2539 2543 2549 2551 2557 2579 2591 2593 2609 2617 2621 2633 2647 2657 2659 2663 2671 2677 2683 2687 2689 2693 2699 2707 2711 2713 2719 2729 2731 2741 2749 2753 2767 2777 2789 2791 2797 2801 2803 2819 2833 2837 2843 2851 2857 2861 2879 2887 2897 2903 2909 2917 2927 2939 2953 2957 2963 2969 2971 2999 3001 3011 3019 3023 3037 3041 3049 3061 3067 3079 3083 3089 3109 3119 3121 3137 3163 3167 3169 3181 3187 3191 3203 3209 3217 3221 3229 3251 3253 3257 3259 3271 3299 3301 3307 3313 3319 3323 3329 3331 3343 3347 3359 3361 3371 3373 3389 3391 3407 3413 3433 3449 3457 3461 3463 3467 3469 3491 3499 3511 3517 3527 3529 3533 3539 3541 3547 3557 3559 3571 3581 3583 3593 3607 3613 3617 3623 3631 3637 3643 3659 3671 3673 3677 3691 3697 3701 3709 3719 3727 3733 3739 3761 3767 3769 3779 3793 3797 3803 3821 3823 3833 3847 3851 3853 3863 3877 3881 3889 3907 3911 3917 3919 3923 3929 3931 3943 3947 3967 3989 4001 4003 4007 4013 4019 4021 4027 4049 4051 4057 4073 4079 4091 4093 4099 4111 4127 4129 4133 4139 4153 4157 4159 4177 4201 4211 4217 4219 4229 4231 4241 4243 4253 4259 4261 4271 4273 4283 4289 4297 4327 4337 4339 4349 4357 4363 4373 4391 4397 4409 4421 4423 4441 4447 4451 4457 4463 4481 4483 4493 4507 4513 4517 4519 4523 "
          ]
        }
      ]
    },
    {
      "cell_type": "code",
      "source": [
        "#檢查是否cheeses為空list\n",
        "cheeses = []\n",
        "for cheese in cheeses:\n",
        "    print('我喜歡的cheese有', cheese)\n",
        "    break\n",
        "else: # no break means no cheese\n",
        "    print('沒有任何cheese')"
      ],
      "metadata": {
        "id": "FXa4wJkM4Y5g",
        "outputId": "5aba01fc-e1da-4a00-cdaf-035a0eadd16f",
        "colab": {
          "base_uri": "https://localhost:8080/"
        }
      },
      "execution_count": null,
      "outputs": [
        {
          "output_type": "stream",
          "name": "stdout",
          "text": [
            "沒有任何cheese\n"
          ]
        }
      ]
    },
    {
      "cell_type": "code",
      "source": [
        "a=6\n",
        "while a > 0:\n",
        "\tprint(a)\n",
        "\ta -= 1\n",
        "print(\"離開後a為\",a)"
      ],
      "metadata": {
        "id": "yRHof2AX4hEw",
        "outputId": "d8614466-34e1-463d-f37b-ed8bac4ea206",
        "colab": {
          "base_uri": "https://localhost:8080/"
        }
      },
      "execution_count": null,
      "outputs": [
        {
          "output_type": "stream",
          "name": "stdout",
          "text": [
            "6\n",
            "5\n",
            "4\n",
            "3\n",
            "2\n",
            "1\n",
            "離開後a為 0\n"
          ]
        }
      ]
    },
    {
      "cell_type": "code",
      "source": [
        "a = 15\n",
        "while a > 0:\n",
        "\tprint(a)\n",
        "\ta -= 2"
      ],
      "metadata": {
        "id": "kqaNTIw34yHo",
        "outputId": "20e6701b-5dde-4a12-f2c8-bb2ebafa075b",
        "colab": {
          "base_uri": "https://localhost:8080/"
        }
      },
      "execution_count": null,
      "outputs": [
        {
          "output_type": "stream",
          "name": "stdout",
          "text": [
            "15\n",
            "13\n",
            "11\n",
            "9\n",
            "7\n",
            "5\n",
            "3\n",
            "1\n"
          ]
        }
      ]
    },
    {
      "cell_type": "code",
      "source": [
        "sum = 0\n",
        "i = 2\n",
        "while(i <= 10):\n",
        "    sum += i\n",
        "    print(\"第\",i/2,\"次迴圈的i =\",i,\"總和為\", sum);\n",
        "    i += 2"
      ],
      "metadata": {
        "id": "ai63oVKe5Mr4",
        "outputId": "ccd3b646-bcac-486d-9d48-be083a0f090e",
        "colab": {
          "base_uri": "https://localhost:8080/"
        }
      },
      "execution_count": null,
      "outputs": [
        {
          "output_type": "stream",
          "name": "stdout",
          "text": [
            "第 1.0 次迴圈的i = 2 總和為 2\n",
            "第 2.0 次迴圈的i = 4 總和為 6\n",
            "第 3.0 次迴圈的i = 6 總和為 12\n",
            "第 4.0 次迴圈的i = 8 總和為 20\n",
            "第 5.0 次迴圈的i = 10 總和為 30\n"
          ]
        }
      ]
    },
    {
      "cell_type": "markdown",
      "source": [
        "# 變數命名\n",
        "## 變數命名：inputNum 和 deposit\n",
        "- 在程式設計中，給變數取名字不僅僅是為了讓程式碼能執行，更重要的是為了讓程式碼容易閱讀、理解和維護，無論是對你自己還是對其他開發者而言。\n",
        "\n",
        "**deposit (總存款)**\n",
        "- 命名慣例： deposit 這個名字是非常常見且直觀的，尤其是在處理金錢或儲蓄相關的程式中。它清晰地表示這個變數儲存的是「存款總額」。\n",
        "\n",
        "背後思考：\n",
        "- 語義清晰： deposit 直接對應現實生活中的「存款」，讓人一眼就能明白它的作用。\n",
        "- 狀態變數： 它代表了小明「目前的」總存款狀態，這個狀態會隨著時間（每月存錢）而改變。它是一個累積的量。\n",
        "- 避免歧義： 如果把它叫做 total 或 sum，雖然也能表達總和，但在這個情境下，deposit 更具體，更能傳達是「錢」的總和。\n",
        "\n",
        "**inputNum (當月輸入的金額)**\n",
        "- 命名慣例： inputNum 也是一個常見且具描述性的命名方式。它結合了「輸入 (input)」和「數字 (Num)」兩個概念。\n",
        "\n",
        "背後思考：\n",
        "- 來源清晰： inputNum 清楚地表明這個值是來自使用者的「輸入」。\n",
        "- 臨時性 / 局部性： 這個變數通常只在迴圈的單次迭代中有效，它暫時儲存了當前月份使用者輸入的金額。它是一個「當次」的量，而不是累積的量。\n",
        "- 與總和區分： 將 inputNum 和 deposit 區分開來，可以讓程式碼的邏輯更清晰：\n",
        "我從使用者那裡「取得」了 inputNum（當月金額）。\n",
        "然後我把 inputNum「加到」 deposit（總存款）裡面。 如果直接 deposit += int(input(...))，雖然可以，但少了一個中間變數來明確表示「當月輸入的這筆錢」。\n",
        "總結\n",
        "\n",
        "deposit 和 inputNum 這些變數名稱的設計，並不是絕對的「慣例」（例如 i, j 那樣的固定用法），而是遵循了程式設計中非常重要的**「描述性命名 (Descriptive Naming)」**原則。\n",
        "\n",
        "目的： 讓程式碼自我解釋，提高可讀性。\n",
        "思考方式： 變數名稱應該能夠清楚地傳達它儲存了什麼資料，以及它在程式中扮演什麼角色。\n",
        "一個好的變數名稱就像一個小小的註解，不需要看額外的說明，就能讓人理解它的作用。在你的程式碼中，deposit 代表累計的總存款，而 inputNum 代表單次輸入的月份存款，兩者各司其職，命名得非常恰當。"
      ],
      "metadata": {
        "id": "lbjBydaKpe8W"
      }
    },
    {
      "cell_type": "code",
      "source": [
        "#============================================================================\n",
        "# Name        : while2.py\n",
        "# 小明想要存錢買一輛機車,機車每輛30000元，他將每月存的錢輸入，當存款足夠買機車時，就顯示提示訊息告知。\n",
        "#============================================================================\n",
        "deposit = 0\n",
        "num = 0\n",
        "while(deposit < 30000):\n",
        "    num += 1\n",
        "    inputNum = int(input('請輸入第'+str(num)+\"個月份的存款:\")) # 這行就是輸入存款金額的地方\n",
        "    deposit += inputNum\n",
        "print(\"恭喜!已經存夠了，存了\",num,\"個月的總存款為:\",deposit,\"元。\")"
      ],
      "metadata": {
        "id": "EIixV7jaqHNe",
        "outputId": "db66ffdd-4df4-401f-d99c-c13d14ff52a9",
        "colab": {
          "base_uri": "https://localhost:8080/"
        }
      },
      "execution_count": null,
      "outputs": [
        {
          "output_type": "stream",
          "name": "stdout",
          "text": [
            "請輸入第1個月份的存款:456\n",
            "請輸入第2個月份的存款:4532\n",
            "請輸入第3個月份的存款:4536\n",
            "請輸入第4個月份的存款:5555\n",
            "請輸入第5個月份的存款:5555\n",
            "請輸入第6個月份的存款:5555\n",
            "請輸入第7個月份的存款:5555\n",
            "恭喜!已經存夠了，存了 7 個月的總存款為: 31744 元。\n"
          ]
        }
      ]
    },
    {
      "cell_type": "code",
      "source": [
        "#使用傳統的方式,讀取list內的每一個元素\n",
        "rabbits = ['Flopsy', 'Mopsy', 'Cottontail', 'Peter']\n",
        "current = 0\n",
        "while current < len(rabbits):\n",
        "    print(rabbits[current])\n",
        "    current += 1"
      ],
      "metadata": {
        "id": "id_OW5PLjfTW",
        "outputId": "5618d9b2-7e0d-42d7-8312-79ab229e80a0",
        "colab": {
          "base_uri": "https://localhost:8080/"
        }
      },
      "execution_count": null,
      "outputs": [
        {
          "output_type": "stream",
          "name": "stdout",
          "text": [
            "Flopsy\n",
            "Mopsy\n",
            "Cottontail\n",
            "Peter\n"
          ]
        }
      ]
    },
    {
      "cell_type": "markdown",
      "source": [
        "# for_in迴圈\n",
        "為什麼這比 while 迴圈更方便？\n",
        "- 自動管理索引： 你不需要手動創建和更新索引變數（像 current 那樣）。Python 替你處理了元素一個一個取出的細節。\n",
        "- 程式碼更簡潔： 少了初始化索引、檢查長度、遞增索引的程式碼，使得邏輯更清晰，更不容易出錯。\n",
        "- 更具語義： for rabbit in rabbits 直接讀起來就是「對於 rabbits 列表中的每一個 rabbit 而言...」，非常符合人類的思考習慣。\n",
        "\n",
        "這就是 Python 這種高階語言的設計理念之一：**讓程式碼更接近自然語言，更注重「做什麼」而不是「怎麼做」。**"
      ],
      "metadata": {
        "id": "K1OQsDBvo-7W"
      }
    },
    {
      "cell_type": "code",
      "source": [
        "#使用更簡潔方式(for..in)\n",
        "rabbits = ['Flopsy', 'Mopsy', 'Cottontail', 'Peter']\n",
        "for rabbit in rabbits:\n",
        "    print(rabbit)"
      ],
      "metadata": {
        "id": "8QmoKkJJjdEu",
        "outputId": "b804b063-6f66-4ef8-c263-c01b8b32cf28",
        "colab": {
          "base_uri": "https://localhost:8080/"
        }
      },
      "execution_count": null,
      "outputs": [
        {
          "output_type": "stream",
          "name": "stdout",
          "text": [
            "Flopsy\n",
            "Mopsy\n",
            "Cottontail\n",
            "Peter\n"
          ]
        }
      ]
    },
    {
      "cell_type": "code",
      "source": [
        "# 字串每次取出一個字元\n",
        "word = 'cat'\n",
        "for letter in word:\n",
        "    print(letter)"
      ],
      "metadata": {
        "id": "7F5nw2txjjMG",
        "outputId": "131d16b4-dccb-4d9d-e411-6f7f7cebf6c5",
        "colab": {
          "base_uri": "https://localhost:8080/"
        }
      },
      "execution_count": null,
      "outputs": [
        {
          "output_type": "stream",
          "name": "stdout",
          "text": [
            "c\n",
            "a\n",
            "t\n"
          ]
        }
      ]
    },
    {
      "cell_type": "code",
      "source": [
        "accusation = {'room': 'ballroom', 'weapon': 'lead pipe', 'person': 'Col. Mustard'}\n",
        "\n",
        "for card in accusation: # 或者使用 accusation.keys():\n",
        "    print(card)"
      ],
      "metadata": {
        "id": "r15LTWC2jwa-",
        "outputId": "f4c323ff-4459-436b-82e1-6c82bc9d797c",
        "colab": {
          "base_uri": "https://localhost:8080/"
        }
      },
      "execution_count": null,
      "outputs": [
        {
          "output_type": "stream",
          "name": "stdout",
          "text": [
            "room\n",
            "weapon\n",
            "person\n"
          ]
        }
      ]
    },
    {
      "cell_type": "code",
      "source": [
        "#使用values()方法取出元素的值\n",
        "for value in accusation.values():\n",
        "    print(value)"
      ],
      "metadata": {
        "id": "dkj3p89xjxTO",
        "outputId": "bd912f29-cfd1-437f-b147-3081d69279cc",
        "colab": {
          "base_uri": "https://localhost:8080/"
        }
      },
      "execution_count": null,
      "outputs": [
        {
          "output_type": "stream",
          "name": "stdout",
          "text": [
            "ballroom\n",
            "lead pipe\n",
            "Col. Mustard\n"
          ]
        }
      ]
    },
    {
      "cell_type": "code",
      "source": [
        "accusation = {'room': 'ballroom', 'weapon': 'lead pipe', 'person': 'Col. Mustard'}\n",
        "\n",
        "#使用items()方法,取出包含key和value的tuple,\n",
        "for item in accusation.items():\n",
        "    print(item)"
      ],
      "metadata": {
        "id": "uCjuaKVZj3K2",
        "outputId": "c60e3c80-8436-4d7a-ae75-26591d45a979",
        "colab": {
          "base_uri": "https://localhost:8080/"
        }
      },
      "execution_count": null,
      "outputs": [
        {
          "output_type": "stream",
          "name": "stdout",
          "text": [
            "('room', 'ballroom')\n",
            "('weapon', 'lead pipe')\n",
            "('person', 'Col. Mustard')\n"
          ]
        }
      ]
    },
    {
      "cell_type": "code",
      "source": [],
      "metadata": {
        "id": "IVFlB-owpKFu"
      },
      "execution_count": null,
      "outputs": []
    },
    {
      "cell_type": "code",
      "source": [
        "accusation = {'room': 'ballroom', 'weapon': 'lead pipe', 'person': 'Col. Mustard'}\n",
        "\n",
        "#使用拆解法直接同時取出key和value\n",
        "for card, contents in accusation.items():\n",
        "    print('Card', card, 'has the contents', contents )"
      ],
      "metadata": {
        "id": "bGssVy73j5w-",
        "outputId": "504e9d6a-639f-4339-e850-928842b2646b",
        "colab": {
          "base_uri": "https://localhost:8080/"
        }
      },
      "execution_count": null,
      "outputs": [
        {
          "output_type": "stream",
          "name": "stdout",
          "text": [
            "Card room has the contents ballroom\n",
            "Card weapon has the contents lead pipe\n",
            "Card person has the contents Col. Mustard\n"
          ]
        }
      ]
    },
    {
      "cell_type": "markdown",
      "source": [
        "# break 的使用時機：「找到目標 / 任務完成 / 不再需要繼續」\n",
        "你可以把 break 想像成一個緊急停止按鈕。當你按下它，整個迴圈就立即停止了，無論迴圈原本設計要執行多少次。"
      ],
      "metadata": {
        "id": "C7Yvbu7YodDe"
      }
    },
    {
      "cell_type": "code",
      "source": [
        "i = ['a', 'b', 'c', 'd']\n",
        "for j in i:\n",
        "    if j == 'c':\n",
        "        break\n",
        "    print(j)"
      ],
      "metadata": {
        "id": "IyYyoUT7kUUO",
        "outputId": "83465350-6d71-4668-a47a-a48eadd44253",
        "colab": {
          "base_uri": "https://localhost:8080/"
        }
      },
      "execution_count": null,
      "outputs": [
        {
          "output_type": "stream",
          "name": "stdout",
          "text": [
            "a\n",
            "b\n"
          ]
        }
      ]
    },
    {
      "cell_type": "markdown",
      "source": [
        "# continue 的使用時機：「跳過不符條件的 / 排除無效的 / 繼續處理其他」\n",
        "- 你可以把 continue 想像成一個**「跳過這一次」的按鈕**。當你按下它，迴圈會跳過當前這次迭代中剩餘的程式碼，直接開始下一次迭代。所以，它不是「停止整個迴圈」，也不是「繼續執行當前迴圈的所有步驟」，而是「跳過這次的後半段，直接去進行下一次」。\n",
        "\n",
        "- continue 這個詞在中文裡有「繼續」的意思，所以會讓人直覺以為是「繼續執行」，但它在程式裡的意思其實有點不一樣。\n",
        "- 這就像你看電影，看到某個片段你不想看，就按了「跳過」(skip)。電影就跳到下一個片段，而不是整個電影停止了。continue 就是迴圈中的「跳過這一次」按鈕。"
      ],
      "metadata": {
        "id": "uoCyAYccoVBW"
      }
    },
    {
      "cell_type": "code",
      "source": [
        "i = ['a', 'b', 'c', 'd']\n",
        "for j in i:\n",
        "    if j == 'c':\n",
        "        continue\n",
        "    print(j)"
      ],
      "metadata": {
        "id": "nwLbphCjkX8G",
        "outputId": "a5835f8a-585b-4d3d-ec77-e4256deb18df",
        "colab": {
          "base_uri": "https://localhost:8080/"
        }
      },
      "execution_count": null,
      "outputs": [
        {
          "output_type": "stream",
          "name": "stdout",
          "text": [
            "a\n",
            "b\n",
            "d\n"
          ]
        }
      ]
    },
    {
      "cell_type": "markdown",
      "source": [
        "# 總結心法：\n",
        "- break： 「夠了！我不需要再做了，結束整個任務！」\n",
        "- continue： 「嗯...這個有點麻煩/不對勁，跳過它，但其他的還是要繼續做下去！」"
      ],
      "metadata": {
        "id": "WGvbWueLoM28"
      }
    },
    {
      "cell_type": "code",
      "source": [
        "days = ['Monday', 'Tuesday', 'Wednesday']\n",
        "fruits = ['banana', 'orange', 'peach']\n",
        "drinks = ['coffee', 'tea', 'beer']\n",
        "desserts = ['tiramisu', 'ice cream', 'pie', 'pudding']\n",
        "for day, fruit, drink, dessert in zip(days, fruits, drinks, desserts):\n",
        "    print(day, \": drink\", drink, \"- eat\", fruit, \"- enjoy\", dessert)\n"
      ],
      "metadata": {
        "id": "s6UGKX5Jl3-e",
        "outputId": "79cde384-b3ca-46c7-ab19-91896144d22c",
        "colab": {
          "base_uri": "https://localhost:8080/"
        }
      },
      "execution_count": null,
      "outputs": [
        {
          "output_type": "stream",
          "name": "stdout",
          "text": [
            "Monday : drink coffee - eat banana - enjoy tiramisu\n",
            "Tuesday : drink tea - eat orange - enjoy ice cream\n",
            "Wednesday : drink beer - eat peach - enjoy pie\n"
          ]
        }
      ]
    },
    {
      "cell_type": "code",
      "source": [
        "# 造樣造句的元素列表\n",
        "persons = [\"小明\", \"小華\", \"老師\", \"小麗\"]\n",
        "times = [\"早上\", \"下午\", \"晚上\", \"中午\"]\n",
        "locations = [\"公園\", \"圖書館\", \"學校\", \"家裡\"]\n",
        "objects = [\"一本書\", \"一個足球\", \"一台筆電\", \"一隻鉛筆\"]\n",
        "actions = [\"閱讀\", \"踢球\", \"寫作業\", \"畫畫\"]\n",
        "\n",
        "print(\"--- 造樣造句生成器 ---\")\n",
        "\n",
        "# 使用 zip() 同步迭代所有列表\n",
        "# 注意：zip 會以最短的列表為準，所以如果列表長度不一，有些組合會被忽略。\n",
        "for person, time, location, obj, action in zip(persons, times, locations, objects, actions):\n",
        "    # 組合句子\n",
        "    sentence = f\"{person}{time}在{location}拿著{obj}{action}。\"\n",
        "    print(sentence)\n",
        "\n",
        "print(\"\\n--- 造句結束 ---\")"
      ],
      "metadata": {
        "id": "Bg_upx0gmd_W",
        "outputId": "5f218805-a64e-4161-f988-ae74b46b3340",
        "colab": {
          "base_uri": "https://localhost:8080/"
        }
      },
      "execution_count": null,
      "outputs": [
        {
          "output_type": "stream",
          "name": "stdout",
          "text": [
            "--- 造樣造句生成器 ---\n",
            "小明早上在公園拿著一本書閱讀。\n",
            "小華下午在圖書館拿著一個足球踢球。\n",
            "老師晚上在學校拿著一台筆電寫作業。\n",
            "小麗中午在家裡拿著一隻鉛筆畫畫。\n",
            "\n",
            "--- 造句結束 ---\n"
          ]
        }
      ]
    },
    {
      "cell_type": "markdown",
      "source": [
        "# 隨機造句\n",
        "你提出了一個很棒的想法！要讓造句隨機，而不是簡單的位置對應，你需要引入「隨機性」的概念。這在 Python 中可以使用 random 模組來實現。\n",
        "\n",
        "主要思路是：每次造句時，從每個類別的列表中隨機挑選一個元素，而不是按照順序來。\n",
        "\n",
        "讓造句隨機化\n",
        "要實現這個功能，我們需要使用 Python 內建的 random 模組。具體來說，我們會用到 **random.choice() 函式**，它能從一個序列（如列表）中隨機選取一個元素。"
      ],
      "metadata": {
        "id": "_eoQLA1Wn8N-"
      }
    },
    {
      "cell_type": "code",
      "source": [
        "import random # 載入 random 模組，這樣我們才能使用它的隨機功能\n",
        "\n",
        "# 造樣造句的元素列表\n",
        "persons = [\"小明\", \"小華\", \"老師\", \"小麗\", \"工程師\", \"阿嬤\"]\n",
        "times = [\"早上\", \"下午\", \"晚上\", \"中午\", \"清晨\", \"深夜\"]\n",
        "locations = [\"公園\", \"圖書館\", \"學校\", \"家裡\", \"咖啡廳\", \"實驗室\"]\n",
        "objects = [\"一本書\", \"一個足球\", \"一台筆電\", \"一隻鉛筆\", \"一杯咖啡\", \"一個工具\"]\n",
        "actions = [\"閱讀\", \"踢球\", \"寫作業\", \"畫畫\", \"聊天\", \"研究\"]\n",
        "\n",
        "print(\"--- 隨機造句生成器 ---\")\n",
        "\n",
        "num_sentences = 5 # 決定要生成多少個隨機句子\n",
        "\n",
        "for _ in range(num_sentences): # 迴圈跑 num_sentences 次來生成句子\n",
        "    # 從每個列表中隨機選擇一個元素\n",
        "    random_person = random.choice(persons)\n",
        "    random_time = random.choice(times)\n",
        "    random_location = random.choice(locations)\n",
        "    random_object = random.choice(objects)\n",
        "    random_action = random.choice(actions)\n",
        "\n",
        "    # 組合句子\n",
        "    sentence = f\"{random_person}{random_time}在{random_location}拿著{random_object}{random_action}。\"\n",
        "    print(sentence)\n",
        "\n",
        "print(\"\\n--- 造句結束 ---\")"
      ],
      "metadata": {
        "id": "9h5hS-8um3dO",
        "outputId": "0fe40e86-2b22-42ff-c99a-ebe3497f2ac9",
        "colab": {
          "base_uri": "https://localhost:8080/"
        }
      },
      "execution_count": null,
      "outputs": [
        {
          "output_type": "stream",
          "name": "stdout",
          "text": [
            "--- 隨機造句生成器 ---\n",
            "小明早上在公園拿著一台筆電研究。\n",
            "小麗早上在學校拿著一隻鉛筆閱讀。\n",
            "老師中午在圖書館拿著一個足球閱讀。\n",
            "小明清晨在學校拿著一個足球聊天。\n",
            "小華中午在圖書館拿著一個工具寫作業。\n",
            "\n",
            "--- 造句結束 ---\n"
          ]
        }
      ]
    },
    {
      "cell_type": "markdown",
      "source": [
        "## 應用情境：zip()函數在以下情況非常有用：\n",
        "\n",
        "- 資料配對： 當你有多個相關的序列（例如，學生的姓名列表和他們的成績列表），你想將它們配對起來一起處理時。\n",
        "- 同步迭代： 在 for 迴圈中，當你需要同時遍歷多個序列的對應元素時（就像你之前看到的 for day, fruit, drink, dessert in zip(...)）。\n",
        "- 創建字典： zip() 常用於將兩個列表（一個作為鍵，一個作為值）快速組合成一個字典。"
      ],
      "metadata": {
        "id": "EHSk9gLvnjvE"
      }
    },
    {
      "cell_type": "code",
      "source": [
        "#使用zip()組合每個串列內元素成為tuple\n",
        "english = 'Monday', 'Tuesday', 'Wednesday'\n",
        "french = 'Lundi', 'Mardi', 'Mercredi'\n",
        "list( zip(english, french))"
      ],
      "metadata": {
        "id": "hYxZEAp-nKPW",
        "outputId": "e89f403b-a6bf-4866-dd3d-d9730a1252d2",
        "colab": {
          "base_uri": "https://localhost:8080/"
        }
      },
      "execution_count": null,
      "outputs": [
        {
          "output_type": "execute_result",
          "data": {
            "text/plain": [
              "[('Monday', 'Lundi'), ('Tuesday', 'Mardi'), ('Wednesday', 'Mercredi')]"
            ]
          },
          "metadata": {},
          "execution_count": 18
        }
      ]
    },
    {
      "cell_type": "markdown",
      "source": [
        "Homework:\n",
        "#問題various_loop1.py\n",
        "以for迴圈計算1到100的和\n",
        "\n",
        "顯示=================\n",
        "1+2+3+~+100的總合是5050"
      ],
      "metadata": {
        "id": "QWLBOkAyrWa1"
      }
    },
    {
      "cell_type": "code",
      "source": [
        "num = 0\n",
        "\n",
        "for i in range(1,101):\n",
        "    num += i\n",
        "print(\"顯示=================\")\n",
        "print(f\"1+2+3+~+100的總合是{num}\")"
      ],
      "metadata": {
        "id": "FvZkLE2Zqxe-",
        "outputId": "e895e30c-d8c0-4b80-ab60-96b3453f849f",
        "colab": {
          "base_uri": "https://localhost:8080/"
        }
      },
      "execution_count": 21,
      "outputs": [
        {
          "output_type": "stream",
          "name": "stdout",
          "text": [
            "顯示=================\n",
            "1+2+3+~+100的總合是5050\n"
          ]
        }
      ]
    },
    {
      "cell_type": "markdown",
      "source": [
        "# 變數命名的思考原則\n",
        "- 描述性 (Descriptive)： 這個變數是做什麼用的？它儲存了什麼數據？名稱應該能傳達這些信息。\n",
        "- 清晰性 (Clarity)： 避免使用會引起歧義的名稱。\n",
        "- 簡潔性 (Conciseness)： 在清晰的前提下，可以適當簡潔。但不要為了簡潔而犧牲了描述性。\n",
        "- 一致性 (Consistency)： 在同一個專案或程式中，盡量保持命名風格的一致性。\n",
        "避免縮寫，除非很常見： num 雖然是 \"number\" 的縮寫，但因為其模糊性，所以不太推薦。但像 idx (index) 或 avg (average) 這些廣為人知的縮寫就沒問題。"
      ],
      "metadata": {
        "id": "IgfBfAo5rmj-"
      }
    },
    {
      "cell_type": "code",
      "source": [
        "#gemini建議變數命名為total_sum\n",
        "total_sum = 0\n",
        "for i in range(1, 101):\n",
        "    total_sum += i\n",
        "print(f\"1+2+3+~+100的總合是{total_sum}\")"
      ],
      "metadata": {
        "id": "I6voUB-_rLBP",
        "outputId": "cc895195-a93a-4c63-fafb-ca51d05da007",
        "colab": {
          "base_uri": "https://localhost:8080/"
        }
      },
      "execution_count": 22,
      "outputs": [
        {
          "output_type": "stream",
          "name": "stdout",
          "text": [
            "1+2+3+~+100的總合是5050\n"
          ]
        }
      ]
    },
    {
      "cell_type": "code",
      "source": [
        "sum = 0\n",
        "for i in range(100):\n",
        "    i += 1\n",
        "    if(i != 100):\n",
        "        print(i,\"+\", end='')\n",
        "        sum += i\n",
        "        continue\n",
        "    print(i,\" = \", end='')\n",
        "    sum += i\n",
        "\n",
        "print(sum)"
      ],
      "metadata": {
        "id": "3Lnup2M9skM1",
        "outputId": "cafcf6eb-c77d-4e97-938a-81b6b6df0609",
        "colab": {
          "base_uri": "https://localhost:8080/"
        }
      },
      "execution_count": 25,
      "outputs": [
        {
          "output_type": "stream",
          "name": "stdout",
          "text": [
            "1 +2 +3 +4 +5 +6 +7 +8 +9 +10 +11 +12 +13 +14 +15 +16 +17 +18 +19 +20 +21 +22 +23 +24 +25 +26 +27 +28 +29 +30 +31 +32 +33 +34 +35 +36 +37 +38 +39 +40 +41 +42 +43 +44 +45 +46 +47 +48 +49 +50 +51 +52 +53 +54 +55 +56 +57 +58 +59 +60 +61 +62 +63 +64 +65 +66 +67 +68 +69 +70 +71 +72 +73 +74 +75 +76 +77 +78 +79 +80 +81 +82 +83 +84 +85 +86 +87 +88 +89 +90 +91 +92 +93 +94 +95 +96 +97 +98 +99 +100  = 5050\n"
          ]
        }
      ]
    },
    {
      "cell_type": "markdown",
      "source": [
        "# 使用while迴圈"
      ],
      "metadata": {
        "id": "sbhzmfV3tF9F"
      }
    },
    {
      "cell_type": "code",
      "source": [
        "# 初始化變數\n",
        "total_sum = 0  # 用來儲存總和\n",
        "current_num = 1 # 用來追蹤當前的數字，從 1 開始\n",
        "\n",
        "print(\"顯示=================\") # 顯示分隔線\n",
        "\n",
        "# while 迴圈：當 current_num 小於等於 100 時，持續執行\n",
        "while current_num <= 100:\n",
        "    if current_num != 100:\n",
        "        # 如果 current_num 不是 100 (即 1 到 99 的數字)\n",
        "        print(current_num, \"+\", sep=\"\", end=\"\") # 印出數字和 \"+\"，不換行，且數字和 \"+\" 之間沒有空格\n",
        "        total_sum += current_num # 將數字加到總和裡\n",
        "    else:\n",
        "        # 如果 current_num 是 100 (最後一個數字)\n",
        "        print(current_num, \" = \", sep=\"\", end=\"\") # 印出 100 和 \" = \"，不換行，且數字和 \"=\" 之間沒有空格\n",
        "        total_sum += current_num # 將 100 加到總和裡\n",
        "\n",
        "    current_num += 1 # 讓 current_num 增加 1，準備處理下一個數字\n",
        "\n",
        "print(total_sum) # 迴圈結束後，印出最終的總和"
      ],
      "metadata": {
        "id": "MsEhdSYHtJm1",
        "outputId": "b4cb379d-092c-4454-ed8a-2735987acafc",
        "colab": {
          "base_uri": "https://localhost:8080/"
        }
      },
      "execution_count": 27,
      "outputs": [
        {
          "output_type": "stream",
          "name": "stdout",
          "text": [
            "顯示=================\n",
            "1+2+3+4+5+6+7+8+9+10+11+12+13+14+15+16+17+18+19+20+21+22+23+24+25+26+27+28+29+30+31+32+33+34+35+36+37+38+39+40+41+42+43+44+45+46+47+48+49+50+51+52+53+54+55+56+57+58+59+60+61+62+63+64+65+66+67+68+69+70+71+72+73+74+75+76+77+78+79+80+81+82+83+84+85+86+87+88+89+90+91+92+93+94+95+96+97+98+99+100 = 5050\n"
          ]
        }
      ]
    },
    {
      "cell_type": "markdown",
      "source": [
        "#問題 nestedLoop1.py\n",
        "試寫出下列數字排列的程式\n",
        "顯示=================================\n",
        "\n",
        "55555\n",
        "4444\n",
        "333\n",
        "22\n",
        "1"
      ],
      "metadata": {
        "id": "yffMtoLQvY_N"
      }
    },
    {
      "cell_type": "markdown",
      "source": [
        "## gemini批改修正\n",
        "print(str(i) * i)\n",
        "\n",
        "這就是核心的修正！\n",
        "str(i)：首先，將數字 i 轉換成字串。例如，當 i 是 5 時，str(i) 就會變成 \"5\"。\n",
        "* i：然後，對這個字串使用乘號 *，後面跟著數字 i。這在 Python 中表示將該字串重複 i 次。\n",
        "例如：當 i 是 5 時，str(5) * 5 就是 \"5\" * 5，結果是 \"55555\"。\n",
        "當 i 是 4 時，str(4) * 4 就是 \"4\" * 4，結果是 \"4444\"。"
      ],
      "metadata": {
        "id": "d6nZvBZPva4t"
      }
    },
    {
      "cell_type": "code",
      "source": [
        "print(\"顯示=================================\")\n",
        "\n",
        "# 外層迴圈：控制每一行要印出的數字\n",
        "# range(5, 0, -1) 會產生 5, 4, 3, 2, 1\n",
        "for i in range(5, 0, -1):\n",
        "    # 內層邏輯：控制要印出幾個數字 'i'\n",
        "    # 你想印出 'i' 這個數字 i 次\n",
        "    # 例如：當 i 是 5，你想印出 5 個 '5' (即 \"55555\")\n",
        "    # 將數字 i 轉換為字串 str(i)，然後用 * 運算子重複 i 次\n",
        "    print(str(i) * i)"
      ],
      "metadata": {
        "id": "r5RXFPe-t3_l",
        "outputId": "37918f6a-8c78-46ab-ba3a-908e425f24bf",
        "colab": {
          "base_uri": "https://localhost:8080/"
        }
      },
      "execution_count": 42,
      "outputs": [
        {
          "output_type": "stream",
          "name": "stdout",
          "text": [
            "顯示=================================\n",
            "55555\n",
            "4444\n",
            "333\n",
            "22\n",
            "1\n"
          ]
        }
      ]
    },
    {
      "cell_type": "code",
      "source": [
        "M = int( input(\"請輸入第一個數字:\") )\n",
        "N = int( input(\"請輸入第二個數字:\") )\n",
        "ori = 0\n",
        "\n",
        "print(\"顯示==========================\")\n",
        "print(f\"輸入M:{M}\")\n",
        "print(f\"輸入N:{N}\")\n",
        "for i in range(1,N+1):\n",
        "    if i < N:\n",
        "        ori += i\n",
        "        print( f\"{M}*{i}\",end=\"+\")\n",
        "    elif i == N:\n",
        "        print( f\"{M}*{i}\",end=\"=\")\n",
        "print(M*N)"
      ],
      "metadata": {
        "id": "wXNMUza-vgD-",
        "outputId": "69c2fabf-f95f-44e7-c848-79dc2ef540e5",
        "colab": {
          "base_uri": "https://localhost:8080/"
        }
      },
      "execution_count": 51,
      "outputs": [
        {
          "output_type": "stream",
          "name": "stdout",
          "text": [
            "請輸入第一個數字:1 \n",
            "請輸入第二個數字:10\n",
            "顯示==========================\n",
            "輸入M:1\n",
            "輸入N:10\n",
            "1*1+1*2+1*3+1*4+1*5+1*6+1*7+1*8+1*9+1*10=10\n"
          ]
        }
      ]
    },
    {
      "cell_type": "code",
      "source": [],
      "metadata": {
        "id": "yxYGXraC0HUN"
      },
      "execution_count": null,
      "outputs": []
    },
    {
      "cell_type": "markdown",
      "source": [
        "## 你的程式碼哪裡出了問題？\n",
        "問題的根源在於對「總和」的計算方式理解錯誤，以及最終印出的值不對。\n",
        "\n",
        "- 錯誤點一：總和計算錯誤 (ori += i)\n",
        "你的意圖： 你想計算 M*1 + M*2 + ... + M*N 的總和。\n",
        "你實際做的： ori += i 這一行，每次只把 i 的值加到 ori 裡面。\n",
        "這實際上是計算了 1 + 2 + 3 + ... + (N-1) 的和（因為 elif i == N 那邊沒有加到 ori 裡面）。\n",
        "正確做法： 每次迴圈，應該是把 M * i 這個「項」加到總和裡。\n",
        "\n",
        "- 錯誤點二：最終結果輸出錯誤 (print(M*N))\n",
        "你的意圖： 你想印出所有項加起來的最終總和。\n",
        "你實際做的： print(M*N) 這行，只會印出最後一項 M 乘以 N 的結果，而不是前面所有項加起來的結果。\n",
        "正確做法： 應該印出你用來累積總和的變數（例如 total_sum）。"
      ],
      "metadata": {
        "id": "R5poQYOl0CEd"
      }
    },
    {
      "cell_type": "code",
      "source": [
        "M = int( input(\"請輸入M:\") ) # 將提示文字改為 \"請輸入M:\"\n",
        "N = int( input(\"請輸入N:\") ) # 將提示文字改為 \"請輸入N:\"\n",
        "\n",
        "total_sum = 0 # 將變數名稱改為更具描述性的 total_sum\n",
        "\n",
        "print(\"顯示==========================\")\n",
        "print(f\"輸入M:{M}\")\n",
        "print(f\"輸入N:{N}\")\n",
        "\n",
        "# 迴圈從 1 到 N (包含 N)\n",
        "for i in range(1, N + 1):\n",
        "    term = M * i # 計算當前的項 M*i\n",
        "    total_sum += term # 將 M*i 加到總和中\n",
        "\n",
        "    if i < N:\n",
        "        # 如果不是最後一項，後面加上 \"+\" 號\n",
        "        print(f\"{M}*{i}\", end=\" + \") # 注意這裡我在 \"+\" 兩邊加了空格，讓輸出更美觀\n",
        "    else:\n",
        "        # 如果是最後一項，後面加上 \"=\" 號\n",
        "        print(f\"{M}*{i}\", end=\" = \")\n",
        "\n",
        "# 迴圈結束後，印出最終的總和\n",
        "print(total_sum)"
      ],
      "metadata": {
        "id": "kZTWiasMzCct",
        "outputId": "6d7dd0d8-b089-4867-9cad-49a302869e51",
        "colab": {
          "base_uri": "https://localhost:8080/"
        }
      },
      "execution_count": 53,
      "outputs": [
        {
          "output_type": "stream",
          "name": "stdout",
          "text": [
            "請輸入M:5\n",
            "請輸入N:10\n",
            "顯示==========================\n",
            "輸入M:5\n",
            "輸入N:10\n",
            "5*1 + 5*2 + 5*3 + 5*4 + 5*5 + 5*6 + 5*7 + 5*8 + 5*9 + 5*10 = 275\n"
          ]
        }
      ]
    },
    {
      "cell_type": "code",
      "source": [
        "#老師的答案\n",
        "m = int(input('輸入M:'))\n",
        "n = int(input('輸入N:'))\n",
        "sum = 0\n",
        "for num in range(n):\n",
        "    num += 1\n",
        "    if num != n:\n",
        "        print(m,'*',num,' + ',end='')\n",
        "    else:\n",
        "        print(m,'*',num,' = ',end='')\n",
        "        sum += m * num\n",
        "\n",
        "print(sum)"
      ],
      "metadata": {
        "id": "kBL7LdzN1kxd",
        "outputId": "f6fbfea2-3c2c-45d6-84fd-66f4a8b3670d",
        "colab": {
          "base_uri": "https://localhost:8080/"
        }
      },
      "execution_count": 55,
      "outputs": [
        {
          "output_type": "stream",
          "name": "stdout",
          "text": [
            "輸入M:5\n",
            "輸入N:10\n",
            "5 * 1  + 5 * 2  + 5 * 3  + 5 * 4  + 5 * 5  + 5 * 6  + 5 * 7  + 5 * 8  + 5 * 9  + 5 * 10  = 50\n"
          ]
        }
      ]
    },
    {
      "cell_type": "markdown",
      "source": [
        "#字串的處理\n",
        "##跳脫字元\n",
        "- \\\\\\' -> 單引號\n",
        "- \\\\\\\" -> 雙引號\n",
        "- \\n -> \"換行\"\n",
        "- \\t ->  \"tab\"\n",
        "- \\\\\\ -> \"反斜線\""
      ],
      "metadata": {
        "id": "w9Wi7YCZ4o5l"
      }
    },
    {
      "cell_type": "code",
      "source": [
        "print(\"\\\\\")\n",
        "print(\"\\t嗨\")\n",
        "print(\"\\\"\")"
      ],
      "metadata": {
        "id": "ApjcFtsh4YTV",
        "outputId": "ab92e469-9174-4c44-f18f-388a2a1043ef",
        "colab": {
          "base_uri": "https://localhost:8080/"
        }
      },
      "execution_count": 59,
      "outputs": [
        {
          "output_type": "stream",
          "name": "stdout",
          "text": [
            "\\\n",
            "\t嗨\n",
            "\"\n"
          ]
        }
      ]
    },
    {
      "cell_type": "markdown",
      "source": [
        "##原始字串\n",
        "原始字串的定義\n",
        "要創建一個原始字串，你只需要在字串的開頭引號前加上一個小寫字母 r (或大寫 R)。\n",
        "\n",
        "- r'這是個原始字串'\n",
        "- R\"這也是個原始字串\"\n",
        "\n",
        "當你使用 r 前綴時，Python 會告訴解釋器：「嘿，這個字串裡的所有反斜線，都請把它們當作普通的字元，不要再對它們做任何跳脫處理了！」\n",
        "\n",
        "什麼時候會用到原始字串？\n",
        "最常見的應用場景是：檔案路徑"
      ],
      "metadata": {
        "id": "xF2GbJfw5ZEF"
      }
    },
    {
      "cell_type": "code",
      "source": [
        ">>> print(r'That is Carol\\'s cat.')"
      ],
      "metadata": {
        "id": "yo0ECxRC58Bs",
        "outputId": "506115fa-3906-44f3-f454-e9afa99ce409",
        "colab": {
          "base_uri": "https://localhost:8080/"
        }
      },
      "execution_count": 61,
      "outputs": [
        {
          "output_type": "stream",
          "name": "stdout",
          "text": [
            "That is Carol\\'s cat.\n"
          ]
        }
      ]
    },
    {
      "cell_type": "code",
      "source": [
        "# 使用三雙引號定義多行字串\n",
        "multiline_string_double = \"\"\"Dear Alice,\n",
        "Eve's cat has been arrested for catnapping, cat burglary, and\n",
        "extortion.\n",
        "Sincerely,\n",
        "Bob\"\"\"\n",
        "\n",
        "print(multiline_string_double)\n",
        "\n",
        "print(\"===============\")\n",
        "\n",
        "# 也可以使用三單引號定義多行字串\n",
        "multiline_string_single = '''Dear Alice,\n",
        "Eve's cat has been arrested for catnapping, cat burglary, and\n",
        "extortion.\n",
        "Sincerely,\n",
        "Bob'''\n",
        "\n",
        "print(multiline_string_single)"
      ],
      "metadata": {
        "id": "mKnd2mpI56Pk",
        "outputId": "5a4ed1a1-f747-4ea9-d075-2e233a1e444c",
        "colab": {
          "base_uri": "https://localhost:8080/"
        }
      },
      "execution_count": 60,
      "outputs": [
        {
          "output_type": "stream",
          "name": "stdout",
          "text": [
            "Dear Alice,\n",
            "Eve's cat has been arrested for catnapping, cat burglary, and\n",
            "extortion.\n",
            "Sincerely,\n",
            "Bob\n",
            "===============\n",
            "Dear Alice,\n",
            "Eve's cat has been arrested for catnapping, cat burglary, and\n",
            "extortion.\n",
            "Sincerely,\n",
            "Bob\n"
          ]
        }
      ]
    },
    {
      "cell_type": "code",
      "source": [
        "#單行字串\n",
        ">>> sentens = \"Dear Alice,\\\n",
        "Eve's cat has been arrested for catnapping, cat burglary, and\\\n",
        " extortion.\\\n",
        "Sincerely,\\\n",
        "Bob\"\n",
        "\n",
        ">>> print(sentens)"
      ],
      "metadata": {
        "id": "XMTdrlY26G-t",
        "outputId": "3bda878b-4242-4e41-cec8-646700c488f4",
        "colab": {
          "base_uri": "https://localhost:8080/"
        }
      },
      "execution_count": 62,
      "outputs": [
        {
          "output_type": "stream",
          "name": "stdout",
          "text": [
            "Dear Alice,Eve's cat has been arrested for catnapping, cat burglary, and extortion.Sincerely,Bob\n"
          ]
        }
      ]
    },
    {
      "cell_type": "code",
      "source": [
        "#多行字串\n",
        ">>> sentens = '''Dear Alice,\n",
        "Eve's cat has been arrested for catnapping, cat burglary, and extortion.\n",
        "Sincerely,\n",
        "Bob'''\n",
        "\n",
        ">>> print(sentens)\n"
      ],
      "metadata": {
        "id": "aZEgAsPL6JSB",
        "outputId": "d00f422d-f176-4676-df1a-e2f76808c834",
        "colab": {
          "base_uri": "https://localhost:8080/"
        }
      },
      "execution_count": 64,
      "outputs": [
        {
          "output_type": "stream",
          "name": "stdout",
          "text": [
            "Dear Alice,\n",
            "Eve's cat has been arrested for catnapping, cat burglary, and extortion.\n",
            "Sincerely,\n",
            "Bob\n"
          ]
        }
      ]
    },
    {
      "cell_type": "markdown",
      "source": [
        "##字串取代\n",
        "- 語法:字串.replace(old, new[, max])\n",
        "- replace方法 可以將指定的字串進行更換:\n",
        " - 字串.replace(舊字串, 新字串)\n",
        " - replace方法 可以指定您要第幾個位置後不進行更換:\n",
        "- 字串.replace(舊字串, 新字串,替換不可以超過幾次)\n",
        " - 位置編號由 0 開始"
      ],
      "metadata": {
        "id": "UbSH12AX6xMF"
      }
    },
    {
      "cell_type": "code",
      "source": [
        "name = 'Henny'\n",
        "name.replace('H', 'P')\n",
        "'P' + name[1:]"
      ],
      "metadata": {
        "id": "hE0Bwwdg6o7w",
        "outputId": "893d04fa-ba65-4a35-8e28-2fe164b17dec",
        "colab": {
          "base_uri": "https://localhost:8080/",
          "height": 36
        }
      },
      "execution_count": 70,
      "outputs": [
        {
          "output_type": "execute_result",
          "data": {
            "text/plain": [
              "'Penny'"
            ],
            "application/vnd.google.colaboratory.intrinsic+json": {
              "type": "string"
            }
          },
          "metadata": {},
          "execution_count": 70
        }
      ]
    },
    {
      "cell_type": "markdown",
      "source": [
        "##字串內容搜尋\n",
        "- 語法:字串.find(要搜尋的字串, beg=0, end=len(string))\n",
        "- 字串可以搜尋特定內容的位置。\n",
        "- 搜尋的字串位置編號由 0 開始。\n",
        "- 字串.find(搜尋字串,起始位置,結束位置)\n",
        "- 搜尋時不包含結束位置。\n",
        "- 若搜尋不到則回傳 -1。\n",
        "- 若沒有起始位置，也沒有結束位置，預設由 0 開始。\n",
        "- 若沒有結束位置，預設到最後一個字。"
      ],
      "metadata": {
        "id": "N7ZJH5pC7AHM"
      }
    }
  ]
}