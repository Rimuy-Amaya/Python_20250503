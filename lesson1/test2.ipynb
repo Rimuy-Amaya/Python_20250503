{
  "nbformat": 4,
  "nbformat_minor": 0,
  "metadata": {
    "colab": {
      "provenance": [],
      "include_colab_link": true
    },
    "kernelspec": {
      "name": "python3",
      "display_name": "Python 3"
    },
    "language_info": {
      "name": "python"
    }
  },
  "cells": [
    {
      "cell_type": "markdown",
      "metadata": {
        "id": "view-in-github",
        "colab_type": "text"
      },
      "source": [
        "<a href=\"https://colab.research.google.com/github/Rimuy-Amaya/Python_20250503/blob/main/lesson1/test2.ipynb\" target=\"_parent\"><img src=\"https://colab.research.google.com/assets/colab-badge.svg\" alt=\"Open In Colab\"/></a>"
      ]
    },
    {
      "cell_type": "code",
      "execution_count": null,
      "metadata": {
        "id": "DfEo7zzJHal7",
        "outputId": "c9396d31-9316-4304-dd97-e1185acbf53c",
        "colab": {
          "base_uri": "https://localhost:8080/"
        }
      },
      "outputs": [
        {
          "output_type": "stream",
          "name": "stdout",
          "text": [
            "hi hi\n"
          ]
        }
      ],
      "source": [
        "print(\"hi hi\")"
      ]
    },
    {
      "cell_type": "code",
      "source": [
        "price = int (input(\"輸入顧客購買金額:\"))\n",
        "if price >= 100000:\n",
        "    price = price * 0.8\n",
        "elif price >= 50000:\n",
        "    price = price * 0.85\n",
        "elif price >= 30000:\n",
        "    price = price * 0.9\n",
        "elif price >= 10000:\n",
        "    price = price * 0.95\n",
        "print(\"實付金額是:\",price)"
      ],
      "metadata": {
        "id": "xkbInn-hmRzc",
        "outputId": "bbca2c4e-6894-427f-c6b1-122b4b3a4614",
        "colab": {
          "base_uri": "https://localhost:8080/"
        }
      },
      "execution_count": 1,
      "outputs": [
        {
          "output_type": "stream",
          "name": "stdout",
          "text": [
            "輸入顧客購買金額:45623555\n",
            "實付金額是: 36498844.0\n"
          ]
        }
      ]
    },
    {
      "cell_type": "code",
      "source": [
        "price = int(input(\"輸入顧客購買金額:\"))\n",
        "\n",
        "if price >= 100000:\n",
        "    price = price * 0.8\n",
        "elif price >= 50000:\n",
        "    price = price * 0.85\n",
        "elif price >= 30000:\n",
        "    price = price * 0.9\n",
        "elif price >= 10000:\n",
        "    price = price * 0.95\n",
        "\n",
        "print(\"實付金額是:\", price)"
      ],
      "metadata": {
        "id": "a0RQgaJomcSc",
        "outputId": "3ddea0c0-e579-4bb8-85c3-883ce1ad3331",
        "colab": {
          "base_uri": "https://localhost:8080/"
        }
      },
      "execution_count": 3,
      "outputs": [
        {
          "output_type": "stream",
          "name": "stdout",
          "text": [
            "輸入顧客購買金額:453\n",
            "實付金額是: 453\n"
          ]
        }
      ]
    },
    {
      "cell_type": "code",
      "source": [
        "a=14\n",
        "if a>=12 and a<18 :\n",
        "\tprint(\"ok-1\")\n",
        "else:\n",
        "\tprint(\"cancel- 1\")\n",
        "\n",
        "if 12<=a<18:\n",
        "\tprint(\"ok-2\")\n",
        "else:\n",
        "\tprint(\"cancel- 2\")\n",
        "\n",
        "if not a>18:\n",
        "\tprint(\"ok-3\")\n",
        "else:\n",
        "\tprint(\"cancel- 3\")"
      ],
      "metadata": {
        "id": "mLaF3TMhnFTN",
        "outputId": "0ee74b10-abc2-4b61-fa4e-4ae947dc568a",
        "colab": {
          "base_uri": "https://localhost:8080/"
        }
      },
      "execution_count": 4,
      "outputs": [
        {
          "output_type": "stream",
          "name": "stdout",
          "text": [
            "ok-1\n",
            "ok-2\n",
            "ok-3\n"
          ]
        }
      ]
    },
    {
      "cell_type": "code",
      "source": [
        "\n",
        "height = float ( input(\"請輸入身高，單位為公分:\"))\n",
        "weight = float ( input(\"請輸入體重，單位為公分:\"))\n",
        "BMI = weight / ( (height/100)**2 )\n",
        "\n",
        "if BMI < 18.5:\n",
        "    print(f\"您的BMI是{BMI}\\n「您的體重太輕」\")\n",
        "elif BMI < 25:\n",
        "    print(f\"您的BMI是{BMI}\\n「您的體重正常」\")\n",
        "elif BMI < 30:\n",
        "    print(f\"您的BMI是{BMI}\\n「您的體重過重」\")\n",
        "else:\n",
        "    print(f\"您的BMI是{BMI}\\n「您的體重肥胖」\")"
      ],
      "metadata": {
        "id": "r3j5DK3Ephi8",
        "outputId": "47db3796-2f23-4f17-a321-a845092e01a0",
        "colab": {
          "base_uri": "https://localhost:8080/"
        }
      },
      "execution_count": 5,
      "outputs": [
        {
          "output_type": "stream",
          "name": "stdout",
          "text": [
            "請輸入身高，單位為公分:163\n",
            "請輸入體重，單位為公分:62\n",
            "您的BMI是23.335466144755166\n",
            "「您的體重正常」\n"
          ]
        }
      ]
    }
  ]
}