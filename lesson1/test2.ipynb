{
  "nbformat": 4,
  "nbformat_minor": 0,
  "metadata": {
    "colab": {
      "provenance": [],
      "include_colab_link": true
    },
    "kernelspec": {
      "name": "python3",
      "display_name": "Python 3"
    },
    "language_info": {
      "name": "python"
    }
  },
  "cells": [
    {
      "cell_type": "markdown",
      "metadata": {
        "id": "view-in-github",
        "colab_type": "text"
      },
      "source": [
        "<a href=\"https://colab.research.google.com/github/Rimuy-Amaya/Python_20250503/blob/main/lesson1/test2.ipynb\" target=\"_parent\"><img src=\"https://colab.research.google.com/assets/colab-badge.svg\" alt=\"Open In Colab\"/></a>"
      ]
    },
    {
      "cell_type": "code",
      "execution_count": null,
      "metadata": {
        "id": "DfEo7zzJHal7",
        "outputId": "c9396d31-9316-4304-dd97-e1185acbf53c",
        "colab": {
          "base_uri": "https://localhost:8080/"
        }
      },
      "outputs": [
        {
          "output_type": "stream",
          "name": "stdout",
          "text": [
            "hi hi\n"
          ]
        }
      ],
      "source": [
        "print(\"hi hi\")"
      ]
    },
    {
      "cell_type": "code",
      "source": [
        "price = int (input(\"輸入顧客購買金額:\"))\n",
        "if price >= 100000:\n",
        "    price = price * 0.8\n",
        "elif price >= 50000:\n",
        "    price = price * 0.85\n",
        "elif price >= 30000:\n",
        "    price = price * 0.9\n",
        "elif price >= 10000:\n",
        "    price = price * 0.95\n",
        "print(\"實付金額是:\",price)"
      ],
      "metadata": {
        "id": "xkbInn-hmRzc",
        "outputId": "bbca2c4e-6894-427f-c6b1-122b4b3a4614",
        "colab": {
          "base_uri": "https://localhost:8080/"
        }
      },
      "execution_count": null,
      "outputs": [
        {
          "output_type": "stream",
          "name": "stdout",
          "text": [
            "輸入顧客購買金額:45623555\n",
            "實付金額是: 36498844.0\n"
          ]
        }
      ]
    },
    {
      "cell_type": "code",
      "source": [
        "price = int(input(\"輸入顧客購買金額:\"))\n",
        "\n",
        "if price >= 100000:\n",
        "    price = price * 0.8\n",
        "elif price >= 50000:\n",
        "    price = price * 0.85\n",
        "elif price >= 30000:\n",
        "    price = price * 0.9\n",
        "elif price >= 10000:\n",
        "    price = price * 0.95\n",
        "\n",
        "print(\"實付金額是:\", price)"
      ],
      "metadata": {
        "id": "a0RQgaJomcSc",
        "outputId": "3ddea0c0-e579-4bb8-85c3-883ce1ad3331",
        "colab": {
          "base_uri": "https://localhost:8080/"
        }
      },
      "execution_count": null,
      "outputs": [
        {
          "output_type": "stream",
          "name": "stdout",
          "text": [
            "輸入顧客購買金額:453\n",
            "實付金額是: 453\n"
          ]
        }
      ]
    },
    {
      "cell_type": "code",
      "source": [
        "a=14\n",
        "if a>=12 and a<18 :\n",
        "\tprint(\"ok-1\")\n",
        "else:\n",
        "\tprint(\"cancel- 1\")\n",
        "\n",
        "if 12<=a<18:\n",
        "\tprint(\"ok-2\")\n",
        "else:\n",
        "\tprint(\"cancel- 2\")\n",
        "\n",
        "if not a>18:\n",
        "\tprint(\"ok-3\")\n",
        "else:\n",
        "\tprint(\"cancel- 3\")"
      ],
      "metadata": {
        "id": "mLaF3TMhnFTN",
        "outputId": "0ee74b10-abc2-4b61-fa4e-4ae947dc568a",
        "colab": {
          "base_uri": "https://localhost:8080/"
        }
      },
      "execution_count": null,
      "outputs": [
        {
          "output_type": "stream",
          "name": "stdout",
          "text": [
            "ok-1\n",
            "ok-2\n",
            "ok-3\n"
          ]
        }
      ]
    },
    {
      "cell_type": "code",
      "source": [
        "\n",
        "height = float ( input(\"請輸入身高，單位為公分:\"))\n",
        "weight = float ( input(\"請輸入體重，單位為公分:\"))\n",
        "BMI = weight / ( (height/100)**2 )\n",
        "\n",
        "if BMI < 18.5:\n",
        "    print(f\"您的BMI是{BMI}\\n「您的體重太輕」\")\n",
        "elif BMI < 25:\n",
        "    print(f\"您的BMI是{BMI}\\n「您的體重正常」\")\n",
        "elif BMI < 30:\n",
        "    print(f\"您的BMI是{BMI}\\n「您的體重過重」\")\n",
        "else:\n",
        "    print(f\"您的BMI是{BMI}\\n「您的體重肥胖」\")"
      ],
      "metadata": {
        "id": "r3j5DK3Ephi8",
        "outputId": "47db3796-2f23-4f17-a321-a845092e01a0",
        "colab": {
          "base_uri": "https://localhost:8080/"
        }
      },
      "execution_count": null,
      "outputs": [
        {
          "output_type": "stream",
          "name": "stdout",
          "text": [
            "請輸入身高，單位為公分:163\n",
            "請輸入體重，單位為公分:62\n",
            "您的BMI是23.335466144755166\n",
            "「您的體重正常」\n"
          ]
        }
      ]
    },
    {
      "cell_type": "code",
      "source": [
        "score_forall=0\n",
        "\n",
        "for score in range(0,5):\n",
        "    score = int( input(\"請輸入學生的成績:\"))\n",
        "    score_forall += score\n",
        "score_average = score_forall / 5\n",
        "\n",
        "print(f\"全班總成績為:{score_forall}分，平均為{score_average}分\")"
      ],
      "metadata": {
        "colab": {
          "base_uri": "https://localhost:8080/"
        },
        "id": "1jy3cKaas5aI",
        "outputId": "aeb8e8b3-c7f5-4c48-f265-6718dc825651"
      },
      "execution_count": 3,
      "outputs": [
        {
          "output_type": "stream",
          "name": "stdout",
          "text": [
            "請輸入學生的成績:55\n",
            "請輸入學生的成績:55\n",
            "請輸入學生的成績:55\n",
            "請輸入學生的成績:55\n",
            "請輸入學生的成績:55\n",
            "全班總成績為:275分，平均為55.0分\n"
          ]
        }
      ]
    },
    {
      "cell_type": "code",
      "source": [
        "sum = 0\n",
        "students = int( input(\"請輸入學生總人數:\") )\n",
        "for i in range(students):\n",
        "    studentScore = int(input('請輸入第'+ str(i+1) +'位學生的成績:'))\n",
        "    sum += studentScore\n",
        "\n",
        "print(\"全班總成績為:\" + str(sum) + \"分,平均分數為\" + str(sum/students) + \"分\")"
      ],
      "metadata": {
        "colab": {
          "base_uri": "https://localhost:8080/"
        },
        "id": "FtHiwxoVztJo",
        "outputId": "65bcdfe8-58cf-4244-f231-c6a967d706fb"
      },
      "execution_count": 5,
      "outputs": [
        {
          "output_type": "stream",
          "name": "stdout",
          "text": [
            "請輸入學生總人數:7\n",
            "請輸入第1位學生的成績:55\n",
            "請輸入第2位學生的成績:32\n",
            "請輸入第3位學生的成績:12\n",
            "請輸入第4位學生的成績:80\n",
            "請輸入第5位學生的成績:100\n",
            "請輸入第6位學生的成績:15\n",
            "請輸入第7位學生的成績:55\n",
            "全班總成績為:349分,平均分數為49.857142857142854分\n"
          ]
        }
      ]
    },
    {
      "cell_type": "code",
      "source": [
        "print(\"兩個參數\")\n",
        "for i in range(4,8):\n",
        "    print(i)\n",
        "print(\"離開後i為\",i)"
      ],
      "metadata": {
        "colab": {
          "base_uri": "https://localhost:8080/"
        },
        "id": "mvdPIAoEzc7o",
        "outputId": "2f3bf0c8-22f8-4c7a-b92d-29cd363decff"
      },
      "execution_count": 4,
      "outputs": [
        {
          "output_type": "stream",
          "name": "stdout",
          "text": [
            "兩個參數\n",
            "4\n",
            "5\n",
            "6\n",
            "7\n",
            "離開後i為 7\n"
          ]
        }
      ]
    },
    {
      "cell_type": "code",
      "source": [
        "print(\"三個參數\")\n",
        "for i in range(4,0,-1):\n",
        "    print(i)\n",
        "print(\"離開後i為\",i)"
      ],
      "metadata": {
        "id": "TVsuAwSjz6Ro",
        "outputId": "e971e3a0-5932-4376-9409-a0c94af98334",
        "colab": {
          "base_uri": "https://localhost:8080/"
        }
      },
      "execution_count": 6,
      "outputs": [
        {
          "output_type": "stream",
          "name": "stdout",
          "text": [
            "三個參數\n",
            "4\n",
            "3\n",
            "2\n",
            "1\n",
            "離開後i為 1\n"
          ]
        }
      ]
    },
    {
      "cell_type": "code",
      "source": [
        "print(\"三個參數\")\n",
        "for i in range(4,8,2):\n",
        "    print(i)\n",
        "print(\"離開後i為\",i)"
      ],
      "metadata": {
        "id": "SPLS70ZLz9lI",
        "outputId": "d6ce4b37-eec4-4022-83c1-ddab2f836824",
        "colab": {
          "base_uri": "https://localhost:8080/"
        }
      },
      "execution_count": 7,
      "outputs": [
        {
          "output_type": "stream",
          "name": "stdout",
          "text": [
            "三個參數\n",
            "4\n",
            "6\n",
            "離開後i為 6\n"
          ]
        }
      ]
    },
    {
      "cell_type": "code",
      "source": [
        "for x in range(0,8,2) :\n",
        "    print(x)"
      ],
      "metadata": {
        "id": "vgyhnAQA0EcZ",
        "outputId": "bbb389b3-c767-4b8b-c81a-e0fb51bb9690",
        "colab": {
          "base_uri": "https://localhost:8080/"
        }
      },
      "execution_count": 8,
      "outputs": [
        {
          "output_type": "stream",
          "name": "stdout",
          "text": [
            "0\n",
            "2\n",
            "4\n",
            "6\n"
          ]
        }
      ]
    },
    {
      "cell_type": "code",
      "source": [
        "total = 0\n",
        "for i in range(1,101):\n",
        "    total += i\n",
        "\n",
        "print(f\"1加到100的加總為{total}\")"
      ],
      "metadata": {
        "id": "nWkDXTQy0I9A",
        "outputId": "208cfd97-428b-4b6a-c2ad-e63b665fd5be",
        "colab": {
          "base_uri": "https://localhost:8080/"
        }
      },
      "execution_count": 9,
      "outputs": [
        {
          "output_type": "stream",
          "name": "stdout",
          "text": [
            "1加到100的加總為5050\n"
          ]
        }
      ]
    },
    {
      "cell_type": "code",
      "source": [
        "end = int(input(\"1加到多少的數值:\"))\n",
        "total = 0\n",
        "for i in range(1,end+1):\n",
        "    total += i\n",
        "\n",
        "print(f\"1加到{end}的加總為{total}\")"
      ],
      "metadata": {
        "id": "S-ObMOFw0Nc4",
        "outputId": "a053ef34-fd02-4225-9300-16721c1a725c",
        "colab": {
          "base_uri": "https://localhost:8080/"
        }
      },
      "execution_count": 10,
      "outputs": [
        {
          "output_type": "stream",
          "name": "stdout",
          "text": [
            "1加到多少的數值:5000\n",
            "1加到5000的加總為12502500\n"
          ]
        }
      ]
    },
    {
      "cell_type": "code",
      "source": [
        "start = int(input(\"start的數值:\"))\n",
        "end = int(input(\"結束的數值:\"))\n",
        "total = 0\n",
        "for i in range(start,end+1):\n",
        "    total += i\n",
        "\n",
        "print(f\"{start}加到{end}的加總為{total}\")"
      ],
      "metadata": {
        "id": "nAywrHpW0VH4",
        "outputId": "0cb23379-296c-4a46-878d-e6b06abb4cd4",
        "colab": {
          "base_uri": "https://localhost:8080/"
        }
      },
      "execution_count": 12,
      "outputs": [
        {
          "output_type": "stream",
          "name": "stdout",
          "text": [
            "start的數值:10\n",
            "結束的數值:-5\n",
            "10加到-5的加總為0\n"
          ]
        }
      ]
    },
    {
      "cell_type": "code",
      "source": [
        "#1~100,偶數的加總\n",
        "#1~100,奇數的加總\n",
        "evenTotal = 0\n",
        "oddTotal = 0\n",
        "\n",
        "for i in range(1,101):\n",
        "    if i % 2 == 0:\n",
        "        evenTotal += i\n",
        "    else:\n",
        "        oddTotal += i\n",
        "\n",
        "print(f\"1加到100偶數的加總為{evenTotal}\")\n",
        "print(f\"1加到100奇數的加總為{oddTotal}\")"
      ],
      "metadata": {
        "id": "N9q7rrb-0cyG",
        "outputId": "13ed0a1a-9d8c-45e7-ddc0-d822778db118",
        "colab": {
          "base_uri": "https://localhost:8080/"
        }
      },
      "execution_count": 13,
      "outputs": [
        {
          "output_type": "stream",
          "name": "stdout",
          "text": [
            "1加到100偶數的加總為2550\n",
            "1加到100奇數的加總為2500\n"
          ]
        }
      ]
    },
    {
      "cell_type": "code",
      "source": [
        "for i in range(1,10):\n",
        "    for j in range(1,10):\n",
        "        print(f\"{i:<2d}*{j:2d} ={i*j:2d}\",end='  ')\n",
        "    print()"
      ],
      "metadata": {
        "id": "l15dij8k0crI",
        "outputId": "67225d7f-6ca6-4ba5-e8d8-f053b89aca7c",
        "colab": {
          "base_uri": "https://localhost:8080/"
        }
      },
      "execution_count": 14,
      "outputs": [
        {
          "output_type": "stream",
          "name": "stdout",
          "text": [
            "1 * 1 = 1  1 * 2 = 2  1 * 3 = 3  1 * 4 = 4  1 * 5 = 5  1 * 6 = 6  1 * 7 = 7  1 * 8 = 8  1 * 9 = 9  \n",
            "2 * 1 = 2  2 * 2 = 4  2 * 3 = 6  2 * 4 = 8  2 * 5 =10  2 * 6 =12  2 * 7 =14  2 * 8 =16  2 * 9 =18  \n",
            "3 * 1 = 3  3 * 2 = 6  3 * 3 = 9  3 * 4 =12  3 * 5 =15  3 * 6 =18  3 * 7 =21  3 * 8 =24  3 * 9 =27  \n",
            "4 * 1 = 4  4 * 2 = 8  4 * 3 =12  4 * 4 =16  4 * 5 =20  4 * 6 =24  4 * 7 =28  4 * 8 =32  4 * 9 =36  \n",
            "5 * 1 = 5  5 * 2 =10  5 * 3 =15  5 * 4 =20  5 * 5 =25  5 * 6 =30  5 * 7 =35  5 * 8 =40  5 * 9 =45  \n",
            "6 * 1 = 6  6 * 2 =12  6 * 3 =18  6 * 4 =24  6 * 5 =30  6 * 6 =36  6 * 7 =42  6 * 8 =48  6 * 9 =54  \n",
            "7 * 1 = 7  7 * 2 =14  7 * 3 =21  7 * 4 =28  7 * 5 =35  7 * 6 =42  7 * 7 =49  7 * 8 =56  7 * 9 =63  \n",
            "8 * 1 = 8  8 * 2 =16  8 * 3 =24  8 * 4 =32  8 * 5 =40  8 * 6 =48  8 * 7 =56  8 * 8 =64  8 * 9 =72  \n",
            "9 * 1 = 9  9 * 2 =18  9 * 3 =27  9 * 4 =36  9 * 5 =45  9 * 6 =54  9 * 7 =63  9 * 8 =72  9 * 9 =81  \n"
          ]
        }
      ]
    },
    {
      "cell_type": "code",
      "source": [
        "for i in range(1,6):\n",
        "    for _ in range(i):\n",
        "        print(\"#\",end='')\n",
        "    print()"
      ],
      "metadata": {
        "id": "G6YKYqOK1g4Y",
        "outputId": "f4d82adc-4354-4dae-e5c1-5ebed9c061c8",
        "colab": {
          "base_uri": "https://localhost:8080/"
        }
      },
      "execution_count": 15,
      "outputs": [
        {
          "output_type": "stream",
          "name": "stdout",
          "text": [
            "#\n",
            "##\n",
            "###\n",
            "####\n",
            "#####\n"
          ]
        }
      ]
    },
    {
      "cell_type": "code",
      "source": [
        "#求所有因數\n",
        "num = int(input(\"請輸入整數，求所有因數:\"))\n",
        "print(num,\"的因數:\")\n",
        "for i in range(1,num+1):\n",
        "  if num % i == 0:\n",
        "    print(i)"
      ],
      "metadata": {
        "id": "52X5AN3G2EbA",
        "outputId": "58d65f41-72d1-4461-ce60-e38447a4de6a",
        "colab": {
          "base_uri": "https://localhost:8080/"
        }
      },
      "execution_count": 16,
      "outputs": [
        {
          "output_type": "stream",
          "name": "stdout",
          "text": [
            "請輸入整數，求所有因數:456\n",
            "456 的因數:\n",
            "1\n",
            "2\n",
            "3\n",
            "4\n",
            "6\n",
            "8\n",
            "12\n",
            "19\n",
            "24\n",
            "38\n",
            "57\n",
            "76\n",
            "114\n",
            "152\n",
            "228\n",
            "456\n"
          ]
        }
      ]
    },
    {
      "cell_type": "code",
      "source": [
        "#求公因數\n",
        "print(\"請輸入2數,求2數公因數:\")\n",
        "n = int(input('請輸入第1個數:'))\n",
        "m = int(input('請輸入第2個數:'))\n",
        "if n > m:\n",
        "  num = m\n",
        "else:\n",
        "  num = n\n",
        "\n",
        "print(n,'和',m, '的公因數是:')\n",
        "for i in range(1,num+1):\n",
        "  if n % i == 0 and m % i == 0:\n",
        "    print(i)"
      ],
      "metadata": {
        "id": "m2JFr2sU2jDg",
        "outputId": "420a341e-e1ef-4421-a93a-5da97d650b37",
        "colab": {
          "base_uri": "https://localhost:8080/"
        }
      },
      "execution_count": 19,
      "outputs": [
        {
          "output_type": "stream",
          "name": "stdout",
          "text": [
            "請輸入2數,求2數公因數:\n",
            "請輸入第1個數:55\n",
            "請輸入第2個數:5\n",
            "55 和 5 的公因數是:\n",
            "1\n",
            "5\n"
          ]
        }
      ]
    },
    {
      "cell_type": "code",
      "source": [
        "#求質數\n",
        "end = int(input(\"請輸入end值:\"))\n",
        "print(f\"1到{end}的質數是:\")\n",
        "for num in range(2,end+1):\n",
        "    is_prime = True\n",
        "    for i in range(2,num):\n",
        "        if num % i == 0:\n",
        "            is_prime = False\n",
        "\n",
        "    if is_prime:\n",
        "        print(f\"{num}\",end=\" \")"
      ],
      "metadata": {
        "id": "HjRyaVeS22to",
        "outputId": "847c3631-4dde-49d3-e350-803a9631425f",
        "colab": {
          "base_uri": "https://localhost:8080/"
        }
      },
      "execution_count": 20,
      "outputs": [
        {
          "output_type": "stream",
          "name": "stdout",
          "text": [
            "請輸入end值:4531\n",
            "1到4531的質數是:\n",
            "2 3 5 7 11 13 17 19 23 29 31 37 41 43 47 53 59 61 67 71 73 79 83 89 97 101 103 107 109 113 127 131 137 139 149 151 157 163 167 173 179 181 191 193 197 199 211 223 227 229 233 239 241 251 257 263 269 271 277 281 283 293 307 311 313 317 331 337 347 349 353 359 367 373 379 383 389 397 401 409 419 421 431 433 439 443 449 457 461 463 467 479 487 491 499 503 509 521 523 541 547 557 563 569 571 577 587 593 599 601 607 613 617 619 631 641 643 647 653 659 661 673 677 683 691 701 709 719 727 733 739 743 751 757 761 769 773 787 797 809 811 821 823 827 829 839 853 857 859 863 877 881 883 887 907 911 919 929 937 941 947 953 967 971 977 983 991 997 1009 1013 1019 1021 1031 1033 1039 1049 1051 1061 1063 1069 1087 1091 1093 1097 1103 1109 1117 1123 1129 1151 1153 1163 1171 1181 1187 1193 1201 1213 1217 1223 1229 1231 1237 1249 1259 1277 1279 1283 1289 1291 1297 1301 1303 1307 1319 1321 1327 1361 1367 1373 1381 1399 1409 1423 1427 1429 1433 1439 1447 1451 1453 1459 1471 1481 1483 1487 1489 1493 1499 1511 1523 1531 1543 1549 1553 1559 1567 1571 1579 1583 1597 1601 1607 1609 1613 1619 1621 1627 1637 1657 1663 1667 1669 1693 1697 1699 1709 1721 1723 1733 1741 1747 1753 1759 1777 1783 1787 1789 1801 1811 1823 1831 1847 1861 1867 1871 1873 1877 1879 1889 1901 1907 1913 1931 1933 1949 1951 1973 1979 1987 1993 1997 1999 2003 2011 2017 2027 2029 2039 2053 2063 2069 2081 2083 2087 2089 2099 2111 2113 2129 2131 2137 2141 2143 2153 2161 2179 2203 2207 2213 2221 2237 2239 2243 2251 2267 2269 2273 2281 2287 2293 2297 2309 2311 2333 2339 2341 2347 2351 2357 2371 2377 2381 2383 2389 2393 2399 2411 2417 2423 2437 2441 2447 2459 2467 2473 2477 2503 2521 2531 2539 2543 2549 2551 2557 2579 2591 2593 2609 2617 2621 2633 2647 2657 2659 2663 2671 2677 2683 2687 2689 2693 2699 2707 2711 2713 2719 2729 2731 2741 2749 2753 2767 2777 2789 2791 2797 2801 2803 2819 2833 2837 2843 2851 2857 2861 2879 2887 2897 2903 2909 2917 2927 2939 2953 2957 2963 2969 2971 2999 3001 3011 3019 3023 3037 3041 3049 3061 3067 3079 3083 3089 3109 3119 3121 3137 3163 3167 3169 3181 3187 3191 3203 3209 3217 3221 3229 3251 3253 3257 3259 3271 3299 3301 3307 3313 3319 3323 3329 3331 3343 3347 3359 3361 3371 3373 3389 3391 3407 3413 3433 3449 3457 3461 3463 3467 3469 3491 3499 3511 3517 3527 3529 3533 3539 3541 3547 3557 3559 3571 3581 3583 3593 3607 3613 3617 3623 3631 3637 3643 3659 3671 3673 3677 3691 3697 3701 3709 3719 3727 3733 3739 3761 3767 3769 3779 3793 3797 3803 3821 3823 3833 3847 3851 3853 3863 3877 3881 3889 3907 3911 3917 3919 3923 3929 3931 3943 3947 3967 3989 4001 4003 4007 4013 4019 4021 4027 4049 4051 4057 4073 4079 4091 4093 4099 4111 4127 4129 4133 4139 4153 4157 4159 4177 4201 4211 4217 4219 4229 4231 4241 4243 4253 4259 4261 4271 4273 4283 4289 4297 4327 4337 4339 4349 4357 4363 4373 4391 4397 4409 4421 4423 4441 4447 4451 4457 4463 4481 4483 4493 4507 4513 4517 4519 4523 "
          ]
        }
      ]
    },
    {
      "cell_type": "code",
      "source": [
        "#檢查是否cheeses為空list\n",
        "cheeses = []\n",
        "for cheese in cheeses:\n",
        "    print('我喜歡的cheese有', cheese)\n",
        "    break\n",
        "else: # no break means no cheese\n",
        "    print('沒有任何cheese')"
      ],
      "metadata": {
        "id": "FXa4wJkM4Y5g",
        "outputId": "5aba01fc-e1da-4a00-cdaf-035a0eadd16f",
        "colab": {
          "base_uri": "https://localhost:8080/"
        }
      },
      "execution_count": 21,
      "outputs": [
        {
          "output_type": "stream",
          "name": "stdout",
          "text": [
            "沒有任何cheese\n"
          ]
        }
      ]
    },
    {
      "cell_type": "code",
      "source": [
        "a=6\n",
        "while a > 0:\n",
        "\tprint(a)\n",
        "\ta -= 1\n",
        "print(\"離開後a為\",a)"
      ],
      "metadata": {
        "id": "yRHof2AX4hEw",
        "outputId": "d8614466-34e1-463d-f37b-ed8bac4ea206",
        "colab": {
          "base_uri": "https://localhost:8080/"
        }
      },
      "execution_count": 22,
      "outputs": [
        {
          "output_type": "stream",
          "name": "stdout",
          "text": [
            "6\n",
            "5\n",
            "4\n",
            "3\n",
            "2\n",
            "1\n",
            "離開後a為 0\n"
          ]
        }
      ]
    },
    {
      "cell_type": "code",
      "source": [
        "a = 15\n",
        "while a > 0:\n",
        "\tprint(a)\n",
        "\ta -= 2"
      ],
      "metadata": {
        "id": "kqaNTIw34yHo",
        "outputId": "20e6701b-5dde-4a12-f2c8-bb2ebafa075b",
        "colab": {
          "base_uri": "https://localhost:8080/"
        }
      },
      "execution_count": 23,
      "outputs": [
        {
          "output_type": "stream",
          "name": "stdout",
          "text": [
            "15\n",
            "13\n",
            "11\n",
            "9\n",
            "7\n",
            "5\n",
            "3\n",
            "1\n"
          ]
        }
      ]
    },
    {
      "cell_type": "code",
      "source": [
        "sum = 0\n",
        "i = 2\n",
        "while(i <= 10):\n",
        "    sum += i\n",
        "    print(\"第\",i/2,\"次迴圈的i =\",i,\"總和為\", sum);\n",
        "    i += 2"
      ],
      "metadata": {
        "id": "ai63oVKe5Mr4",
        "outputId": "ccd3b646-bcac-486d-9d48-be083a0f090e",
        "colab": {
          "base_uri": "https://localhost:8080/"
        }
      },
      "execution_count": 24,
      "outputs": [
        {
          "output_type": "stream",
          "name": "stdout",
          "text": [
            "第 1.0 次迴圈的i = 2 總和為 2\n",
            "第 2.0 次迴圈的i = 4 總和為 6\n",
            "第 3.0 次迴圈的i = 6 總和為 12\n",
            "第 4.0 次迴圈的i = 8 總和為 20\n",
            "第 5.0 次迴圈的i = 10 總和為 30\n"
          ]
        }
      ]
    }
  ]
}