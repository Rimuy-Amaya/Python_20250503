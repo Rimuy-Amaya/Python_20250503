{
  "nbformat": 4,
  "nbformat_minor": 0,
  "metadata": {
    "colab": {
      "provenance": [],
      "toc_visible": true,
      "authorship_tag": "ABX9TyMgqqS9jhin07A0yZ1FutPb",
      "include_colab_link": true
    },
    "kernelspec": {
      "name": "python3",
      "display_name": "Python 3"
    },
    "language_info": {
      "name": "python"
    }
  },
  "cells": [
    {
      "cell_type": "markdown",
      "metadata": {
        "id": "view-in-github",
        "colab_type": "text"
      },
      "source": [
        "<a href=\"https://colab.research.google.com/github/Rimuy-Amaya/Python_20250503/blob/main/lesson1/20250503.ipynb\" target=\"_parent\"><img src=\"https://colab.research.google.com/assets/colab-badge.svg\" alt=\"Open In Colab\"/></a>"
      ]
    },
    {
      "cell_type": "markdown",
      "source": [
        "# 標題\n",
        "## 標題\n",
        "### 標題\n",
        "#### 標題\n",
        "##### 標題\n",
        "###### 標題"
      ],
      "metadata": {
        "id": "JXg99aWgL2QT"
      }
    },
    {
      "cell_type": "code",
      "execution_count": null,
      "metadata": {
        "colab": {
          "base_uri": "https://localhost:8080/"
        },
        "id": "FaKbmuhKCx0y",
        "outputId": "57876d0b-5f0d-4a9b-942f-b7e3b2ab4588"
      },
      "outputs": [
        {
          "output_type": "stream",
          "name": "stdout",
          "text": [
            "hello! python\n"
          ]
        }
      ],
      "source": [
        "print(\"hello! python\")"
      ]
    }
  ]
}