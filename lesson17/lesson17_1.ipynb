{
 "cells": [
  {
   "cell_type": "markdown",
   "id": "30d200f6",
   "metadata": {},
   "source": [
    "# 如何清理資料\n",
    "https://www.perplexity.ai/search/cc086321-725e-4231-a50a-8d53131ab4e2"
   ]
  },
  {
   "cell_type": "code",
   "execution_count": null,
   "id": "aff35db9",
   "metadata": {},
   "outputs": [],
   "source": [
    "import pandas as pd\n",
    "\n",
    "df = pd.read_csv('各鄉鎮市區人口密度.csv')\n",
    "df"
   ]
  },
  {
   "cell_type": "code",
   "execution_count": null,
   "id": "ef71a31c",
   "metadata": {},
   "outputs": [],
   "source": [
    "df.info() #查詢欄位資訊\n",
    "df1 = df.rename(columns={'statistic_yyy':'統計年',\n",
    "                        'site_id':'區域別',\n",
    "                        'people_total':'年底人口數',\n",
    "                        'area':'土地面積',\n",
    "                        'population_density':'人口密度'\n",
    "                        })\n",
    "\n",
    "df1"
   ]
  },
  {
   "cell_type": "code",
   "execution_count": null,
   "id": "6e27124d",
   "metadata": {},
   "outputs": [],
   "source": [
    "df2 = df1.drop( index=0 ) # 刪除第0列\n",
    "df3 = df2.dropna ( axis =0 , how = 'any'  ) #清理帶有na的資料\n",
    "df3"
   ]
  }
 ],
 "metadata": {
  "kernelspec": {
   "display_name": "amaya",
   "language": "python",
   "name": "python3"
  },
  "language_info": {
   "codemirror_mode": {
    "name": "ipython",
    "version": 3
   },
   "file_extension": ".py",
   "mimetype": "text/x-python",
   "name": "python",
   "nbconvert_exporter": "python",
   "pygments_lexer": "ipython3",
   "version": "3.10.18"
  }
 },
 "nbformat": 4,
 "nbformat_minor": 5
}
