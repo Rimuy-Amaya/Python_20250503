{
 "cells": [
  {
   "cell_type": "markdown",
   "id": "30d200f6",
   "metadata": {},
   "source": [
    "# 如何清理資料\n",
    "https://www.perplexity.ai/search/cc086321-725e-4231-a50a-8d53131ab4e2"
   ]
  },
  {
   "cell_type": "code",
   "execution_count": null,
   "id": "aff35db9",
   "metadata": {},
   "outputs": [],
   "source": [
    "import pandas as pd\n",
    "\n",
    "df = pd.read_csv('各鄉鎮市區人口密度.csv') \n",
    "#讀取csv檔，此採取相對路徑，須放在同一個資料夾。\n",
    "df"
   ]
  },
  {
   "cell_type": "code",
   "execution_count": null,
   "id": "ef71a31c",
   "metadata": {},
   "outputs": [],
   "source": [
    "df.info() #查詢欄位資訊\n",
    "df1 = df.rename(columns={'statistic_yyy':'統計年',\n",
    "                        'site_id':'區域別',\n",
    "                        'people_total':'年底人口數',\n",
    "                        'area':'土地面積',\n",
    "                        'population_density':'人口密度'\n",
    "                        }) \n",
    "                        \n",
    "                        #變更欄位名稱\n",
    "\n",
    "df1"
   ]
  },
  {
   "cell_type": "code",
   "execution_count": null,
   "id": "6e27124d",
   "metadata": {},
   "outputs": [],
   "source": [
    "df2 = df1.drop( index=0 ) # 刪除第0列\n",
    "df3 = df2.dropna ( axis =0 , how = 'any'  ) #清理帶有na的資料\n",
    "df3"
   ]
  },
  {
   "cell_type": "code",
   "execution_count": null,
   "id": "a78e18f5",
   "metadata": {},
   "outputs": [],
   "source": [
    "df4 = df3.drop('統計年',axis=1) #第一項為引數值呼叫，後面為引數名稱呼叫。\n",
    "df4.info()\n",
    "df4"
   ]
  },
  {
   "cell_type": "code",
   "execution_count": null,
   "id": "3c66fac2",
   "metadata": {},
   "outputs": [],
   "source": [
    "#更改資料類型，字串變成int、float"
   ]
  }
 ],
 "metadata": {
  "kernelspec": {
   "display_name": "amaya",
   "language": "python",
   "name": "python3"
  },
  "language_info": {
   "codemirror_mode": {
    "name": "ipython",
    "version": 3
   },
   "file_extension": ".py",
   "mimetype": "text/x-python",
   "name": "python",
   "nbconvert_exporter": "python",
   "pygments_lexer": "ipython3",
   "version": "3.10.18"
  }
 },
 "nbformat": 4,
 "nbformat_minor": 5
}
