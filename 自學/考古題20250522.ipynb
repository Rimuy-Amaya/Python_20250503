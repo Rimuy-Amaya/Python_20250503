{
  "cells": [
    {
      "cell_type": "markdown",
      "metadata": {
        "colab_type": "text",
        "id": "view-in-github"
      },
      "source": [
        "<a href=\"https://colab.research.google.com/github/Rimuy-Amaya/Python_20250503/blob/main/%E8%87%AA%E5%AD%B8/%E8%80%83%E5%8F%A4%E9%A1%8C20250522.ipynb\" target=\"_parent\"><img src=\"https://colab.research.google.com/assets/colab-badge.svg\" alt=\"Open In Colab\"/></a>"
      ]
    },
    {
      "cell_type": "markdown",
      "metadata": {
        "id": "qLhHPiTQ22jO"
      },
      "source": [
        "# Numpy 陣列\n",
        "- 什麼是 NumPy？\n",
        "想像一下，你平常玩的樂高積木，一顆一顆的，你只能一顆一顆拿。\n",
        "但如果有一天，你拿到了一個神奇的托盤，這個托盤可以把很多樂高積木整齊地、排列整齊地放上去，而且一次就可以拿很多顆，或者把很多顆疊起來，是不是很方便？\n",
        "\n",
        "- NumPy，就是 Python 程式語言裡的那個「神奇的托盤製造工廠」！\n",
        "它專門生產一種特殊的「托盤」，這個托盤就叫做「陣列 (array)」。\n",
        "\n",
        "- 什麼是「陣列 (array)」？\n",
        "「陣列」就像一個超級整齊的格子本，或者一個很多格子的魔法盒子。\n",
        "\n",
        " - **普通變數**： 你以前學的 x = 5，就像一個小盒子，裡面只能放一個數字 5。\n",
        " - **列表** (List)： my_list = [1, 2, 3]，就像一個長長的、可以放很多東西的袋子，你可以放樂高、放橡皮擦、放鉛筆，而且它們也不一定要排整齊。\n",
        "\n",
        " - **陣列 (Array - NumPy 的 array)**： np.array([6,5,4,3,2,1])，這就像一個非常整齊的、只能放同種類東西的格子本。而且，這個格子本可以是：\n",
        "一排的格子本 (一維陣列)： 就像一張紙上只有一排格子。\n",
        "很多排格子的格子本 (二維陣列)： 就像一張紙上有很多排格子，像你畫的數學方格紙。\n",
        "甚至很多本格子本疊在一起 (三維陣列，或更高維度)： 這就更厲害了！\n",
        "NumPy 的陣列有什麼特別？\n",
        "\n",
        "- NumPy 製作的「陣列」這個格子本，有幾個非常棒的優點：\n",
        "\n",
        " - 超級整齊： 裡面的東西總是排得整整齊齊的。\n",
        " - 速度超快： 因為它排得整齊，電腦處理起來就特別快，比處理列表快很多。\n",
        " - 計算方便： 可以一次對很多格子裡的數字做加、減、乘、除，就像魔法一樣！"
      ]
    },
    {
      "cell_type": "markdown",
      "metadata": {
        "id": "ivkFvg1S3jje"
      },
      "source": [
        "## NumPy 只用來處理「陣列 (array)」嗎？\n",
        "\n",
        "是的！NumPy 的核心和主要目的就是處理「陣列 (array)」這種特殊的數據結構。\n",
        "\n",
        "你可以把 NumPy 想像成一個專門為「陣列」設計的「超級工具箱」。它裡面所有的工具，都是為了讓「陣列」工作得更快、更方便。\n",
        "\n",
        "雖然它只處理陣列，但這個「陣列」非常非常有用！因為你可以把很多種資料都想像成陣列：\n",
        "\n",
        "- 圖片： 一張圖片可以用很多數字來表示，這些數字排得整整齊齊就像一個二維陣列。\n",
        "- 聲音： 一段聲音也是由很多數字組成的波形，可以看作一維陣列。\n",
        "- 表格數據： 像 Excel 表格一樣的數據，就是一個二維陣列。\n",
        "- 科學實驗數據： 大量的測量值，通常也是排成陣列的形式。\n",
        "所以，雖然 NumPy 專注於陣列，但它能處理的資料種類非常廣泛！\n",
        "\n",
        "## NumPy 的程式碼只有 .array 和 .reshape 嗎？還有什麼？\n",
        "絕對不是！array 和 reshape 只是 NumPy 工廠裡最基本的兩台機器。NumPy 是一個非常龐大的工廠，裡面有成千上萬種工具和機器！\n",
        "\n",
        "讓我用「陣列超級工具箱」的比喻，給你介紹一些 NumPy 常用的、超厲害的工具：\n",
        "\n",
        "### (1) 製作陣列的各種「機器」：\n",
        "- np.array([1,2,3])： 把列表變成陣列。\n",
        "- np.zeros((2,3))： 「空白陣列製造機」！它會製造一個全部都是 0 的陣列。\n",
        "- np.zeros((2,3)) 會做出：\n",
        "[[0. 0. 0.]\n",
        " [0. 0. 0.]]\n",
        "- np.ones((2,2))： 「全部是 1 的陣列製造機」！\n",
        "- np.ones((2,2)) 會做出：\n",
        "[[1. 1.]\n",
        " [1. 1.]]\n",
        "- np.arange(0, 10, 2)： 「數數陣列製造機」！從 0 開始數，每次跳 2，直到 10 (但不包含 10)。\n",
        "- np.arange(0, 10, 2) 會做出：\n",
        "[0 2 4 6 8]\n",
        "- np.random.rand(2,2)： 「隨機數字陣列製造機」！隨機給你一些數字。\n",
        "- np.random.rand(2,2) 會做出 (數字會不一樣)：\n",
        "[[0.123 0.456]\n",
        " [0.789 0.101]]\n",
        "\n",
        "### (2) 改變陣列形狀的「變形金剛」：\n",
        "- .reshape(3,2)： 你已經學過，讓一排的格子變成多排的格子。\n",
        "- .T 或 .transpose()： 「翻轉機器」！把陣列的橫排變直排，直排變橫排，就像把一張紙從左翻到右。\n",
        "假設 np_a 是：\n",
        "[[1 2]\n",
        " [3 4]]\n",
        "\n",
        "np_a.T 會變成：\n",
        "[[1 3]\n",
        " [2 4]]\n",
        "### (3) 對陣列做數學計算的「超級計算機」：\n",
        "- .sum(axis=...)： 你已經學過，加總機器，可以指定橫著加還是直著加。\n",
        "- .mean(axis=...)： 「平均數計算機」！算出平均值。\n",
        "- .max() / .min()： 「找最大值/最小值機器」！\n",
        "- np_a + np_b： 「陣列對陣列加法機」！兩個陣列會一個格子對一個格子地相加。\n",
        "假設 np_a = [1 2], np_b = [3 4]\n",
        "np_a + np_b 會是 [4 6]\n",
        "- np_a * 5： 「陣列乘數字機」！陣列裡的每個數字都乘以 5。\n",
        "假設 np_a = [1 2]\n",
        "np_a * 5 會是 [5 10]\n",
        "- np.dot(np_a, np_b) 或 @ 運算符： 「點乘機」或「矩陣乘法機」！這是處理複雜數學（像在工程、科學裡面很常用）的超級工具。\n",
        "### (4) 篩選陣列裡面的東西的「魔法篩子」：\n",
        "- np1[np1 > 3]： 「找大於某個數的魔法篩子」！找出陣列中所有大於 3 的數字。\n",
        "假設 np1 = [6 5 4 3 2 1]\n",
        "np1[np1 > 3] 會印出 [6 5 4]\n",
        "- np1[0] 或 np2[0,1]： 「拿出指定格子的東西」！這就像你可以直接從格子本裡面拿出你想要的那個格子裡的數字。\n",
        "\n",
        "### 這只是 NumPy 龐大功能中的一小部分！它還有很多更複雜的工具，可以用來做：\n",
        "\n",
        "- 統計分析： 幫你分析數據的各種特徵。\n",
        "- 線性代數： 處理像方程式組之類的數學問題。\n",
        "- 傅立葉變換： 分析聲音、圖片等頻率的工具。\n",
        "\n",
        "所以，NumPy 不僅僅只有 array 和 reshape，它是一個為陣列操作提供極高效率和豐富功能的「超級數學工具箱」！這也是為什麼在科學、工程、數據分析和人工智慧領域，NumPy 幾乎是必不可少的工具。"
      ]
    },
    {
      "cell_type": "code",
      "execution_count": 1,
      "metadata": {
        "id": "DFGQZq3K2nYO"
      },
      "outputs": [
        {
          "ename": "ModuleNotFoundError",
          "evalue": "No module named 'numpy'",
          "output_type": "error",
          "traceback": [
            "\u001b[1;31m---------------------------------------------------------------------------\u001b[0m",
            "\u001b[1;31mModuleNotFoundError\u001b[0m                       Traceback (most recent call last)",
            "Cell \u001b[1;32mIn[1], line 1\u001b[0m\n\u001b[1;32m----> 1\u001b[0m \u001b[38;5;28;01mimport\u001b[39;00m\u001b[38;5;250m \u001b[39m\u001b[38;5;21;01mnumpy\u001b[39;00m\u001b[38;5;250m \u001b[39m\u001b[38;5;28;01mas\u001b[39;00m\u001b[38;5;250m \u001b[39m\u001b[38;5;21;01mnp\u001b[39;00m\n\u001b[0;32m      2\u001b[0m np1 \u001b[38;5;241m=\u001b[39m np\u001b[38;5;241m.\u001b[39marray([\u001b[38;5;241m6\u001b[39m,\u001b[38;5;241m5\u001b[39m,\u001b[38;5;241m4\u001b[39m,\u001b[38;5;241m3\u001b[39m,\u001b[38;5;241m2\u001b[39m,\u001b[38;5;241m1\u001b[39m])\n\u001b[0;32m      3\u001b[0m np2 \u001b[38;5;241m=\u001b[39m np1\u001b[38;5;241m.\u001b[39mreshape(\u001b[38;5;241m3\u001b[39m,\u001b[38;5;241m2\u001b[39m)\n",
            "\u001b[1;31mModuleNotFoundError\u001b[0m: No module named 'numpy'"
          ]
        }
      ],
      "source": [
        "import numpy as np\n",
        "np1 = np.array([6,5,4,3,2,1])\n",
        "np2 = np1.reshape(3,2)\n",
        "print(np2.sum(axis=1))"
      ]
    },
    {
      "cell_type": "code",
      "execution_count": 1,
      "metadata": {
        "id": "KG8gffkD3XSO"
      },
      "outputs": [
        {
          "ename": "ModuleNotFoundError",
          "evalue": "No module named 'numpy'",
          "output_type": "error",
          "traceback": [
            "\u001b[1;31m---------------------------------------------------------------------------\u001b[0m",
            "\u001b[1;31mModuleNotFoundError\u001b[0m                       Traceback (most recent call last)",
            "Cell \u001b[1;32mIn[1], line 1\u001b[0m\n\u001b[1;32m----> 1\u001b[0m \u001b[38;5;28;01mimport\u001b[39;00m\u001b[38;5;250m \u001b[39m\u001b[38;5;21;01mnumpy\u001b[39;00m\u001b[38;5;250m \u001b[39m\u001b[38;5;28;01mas\u001b[39;00m\u001b[38;5;250m \u001b[39m\u001b[38;5;21;01mnp\u001b[39;00m\n\u001b[0;32m      3\u001b[0m \u001b[38;5;66;03m# 第一步：創建一個從 10 到 1 的倒序陣列\u001b[39;00m\n\u001b[0;32m      4\u001b[0m data_sequence \u001b[38;5;241m=\u001b[39m np\u001b[38;5;241m.\u001b[39marange(\u001b[38;5;241m10\u001b[39m, \u001b[38;5;241m0\u001b[39m, \u001b[38;5;241m-\u001b[39m\u001b[38;5;241m1\u001b[39m) \u001b[38;5;66;03m# 注意：第三個參數是步長，負數表示倒序！\u001b[39;00m\n",
            "\u001b[1;31mModuleNotFoundError\u001b[0m: No module named 'numpy'"
          ]
        }
      ],
      "source": [
        "import numpy as np\n",
        "\n",
        "# 第一步：創建一個從 10 到 1 的倒序陣列\n",
        "data_sequence = np.arange(10, 0, -1) # 注意：第三個參數是步長，負數表示倒序！\n",
        "print(f\"原始陣列: {data_sequence}\") # 這是為了方便你追蹤，實際考試不會有\n",
        "\n",
        "# 第二步：將陣列變形為 2x5 的形狀\n",
        "matrix_view = data_sequence.reshape(2, 5)\n",
        "print(f\"變形後的矩陣: \\n{matrix_view}\") # 這是為了方便你追蹤，實際考試不會有\n",
        "\n",
        "# 第三步：從矩陣中，選擇出所有大於 5 的數字\n",
        "filtered_elements = matrix_view[matrix_view > 5]\n",
        "print(f\"篩選後的元素: {filtered_elements}\") # 這是為了方便你追蹤，實際考試不會有\n",
        "\n",
        "# 第四步：計算篩選後元素的最大值、最小值和總和\n",
        "max_val = filtered_elements.max()\n",
        "min_val = filtered_elements.min()\n",
        "sum_val = filtered_elements.sum()\n",
        "\n",
        "# 第五步：將這些計算結果組合成一個新的 NumPy 陣列\n",
        "final_result = np.array([max_val, min_val, sum_val])\n",
        "\n",
        "# 最後：印出這個新陣列的第一個元素 (index 0) 和第三個元素 (index 2) 的總和\n",
        "print(final_result[0] + final_result[2])"
      ]
    },
    {
      "cell_type": "markdown",
      "metadata": {
        "id": "LJ54kRpz4zg2"
      },
      "source": [
        "# ()與[]的使用時機\n",
        "\n",
        "**總體原則**：\n",
        "- [] (方括號)： 主要用於表示 列表 (List)，或者用來進行 索引 (Indexing) 和 切片 (Slicing)。\n",
        "- () (圓括號)： 主要用於表示 元組 (Tuple)，或者用來表示 函式呼叫 (Function Call)。在 NumPy 的一些特定函數中，它也可能用於表示形狀 (Shape)。\n",
        "\n",
        "## 什麼時候用 [] (方括號)？\n",
        "\n",
        "- 創建列表 (List)：\n",
        "例子： my_array = np.array([6, 5, 4, 3, 2, 1]) (這裡 [6, 5, 4, 3, 2, 1] 是一個列表)\n",
        "- 索引 (Indexing)：\n",
        "- 用來從列表、元組、陣列或字符串中取出單個元素。\n",
        "例子 (列表)： my_list = [10, 20, 30], print(my_list[0]) 會印出 10\n",
        "例子 (NumPy 陣列)： my_np_array = np.array([10, 20, 30]), print(my_np_array[1]) 會印出 20\n",
        "- 二維陣列索引： 用來取出特定「行」和「列」的元素。\n",
        "例子： matrix_view = [[10, 9], [8, 7]], print(matrix_view[0, 1]) 會印出 9 (第一行，第二個元素)\n",
        "- 切片 (Slicing)：\n",
        "用來從列表、元組或陣列中取出一部分元素。\n",
        "例子 (列表)： my_list = [1, 2, 3, 4, 5], print(my_list[1:4]) 會印出 [2, 3, 4]\n",
        "例子 (NumPy 陣列)： data = np.array([1, 2, 3, 4, 5]), print(data[2:]) 會印出 [3 4 5]\n",
        "- 條件篩選 (Boolean Indexing)：\n",
        "NumPy 陣列特有的強大功能，用一個布林 (True/False) 陣列來篩選元素。\n",
        "例子： matrix_view[matrix_view > 5] (找出 matrix_view 中所有大於 5 的元素)\n",
        "\n",
        "## 什麼時候用 () (圓括號)？\n",
        "\n",
        "- 函式呼叫 (Function Call)：\n",
        "當你想要「啟動」一個函式，讓它執行它的任務時。這是最常見的用途。\n",
        "例子： print(\"Hello!\")、len(\"world\")\n",
        "NumPy 中： 當你呼叫 NumPy 的各種函數時。\n",
        "例子： np.array(...)、np.zeros(...)、np.sum(...)、np.arange(...)\n",
        "\n",
        "- 創建元組 (Tuple)：\n",
        "元組是一種不能修改的數據集合。\n",
        "例子： my_tuple = (1, 2, 3)\n",
        "- 表示形狀 (Shape) 或多個維度 (Dimensions) (在 NumPy 特定函數中)：\n",
        "在使用 reshape() 或創建多維陣列時，() 通常用來指定各個維度的大小。\n",
        "例子： np.zeros((2, 3)) (創建一個 2 行 3 列的零陣列)\n",
        "例子： np1.reshape(3, 2) (將 np1 變形為 3 行 2 列)\n",
        "注意： 這裡 (3, 2) 本身是一個元組，用來作為 reshape 函數的一個引數。\n",
        "算術運算中的優先順序：\n",
        "\n",
        "- 和數學中一樣，用來改變運算的先後順序。\n",
        "例子： (2 + 3) * 4 (先算 2+3)\n",
        "\n",
        "## 常見的混淆點：\n",
        "np.array([1,2,3]) vs. np.array((1,2,3))：\n",
        "\n",
        "這兩種寫法在創建一維陣列時都能工作，因為 np.array() 很聰明，它可以把列表或元組都轉換成陣列。\n",
        "推薦使用 []，因為它更明確地表示你傳入的是一個列表，這在習慣上更常用，也因為列表是可變的，方便你臨時構建數據。\n",
        "my_array[0, 1] vs. my_array[(0, 1)]：\n",
        "\n",
        "在 NumPy 中，多維陣列的索引通常用逗號隔開的數字列表來表示 [row_index, col_index]。\n",
        "你也可以用一個元組來作為索引，例如 my_array[(0, 1)] 也能工作，但直接寫 my_array[0, 1] 更常見、更簡潔。\n",
        "\n",
        "## 總結：\n",
        "\n",
        "- [] (方括號)： 創建列表、索引/切片、條件篩選。\n",
        "- () (圓括號)： 呼叫函式、創建元組、表示形狀/維度。"
      ]
    },
    {
      "cell_type": "markdown",
      "metadata": {
        "id": "rGGWBkiMKh-Z"
      },
      "source": [
        "# 閉包 (Closure) vs. 遞迴 (Recursion)：大比拼\n",
        "\n",
        "## 1. 閉包 (Closure)：\n",
        "比喻： 就像一個「會記住秘密的專屬小工廠」。大工廠 (a) 製造出小工廠 (b)，小工廠 (b) 會「記得」大工廠製造它時給它的「秘密」（外層函式的變數）。\n",
        "\n",
        "- 核心概念： 記憶 (Memory / State) 和 客製化 (Customization)。\n",
        "\n",
        "- 一個函式（內層函式）「記住」了它被創建時的環境（外層函式的變數），並在之後被呼叫時使用這些記憶。你可以透過外層函式，製造出多個行為類似但「記得」不同秘密的專屬函式。\n",
        "\n",
        "- 形成方式：\n",
        " - 函式巢狀定義 (def 外層函式(): def 內層函式():)\n",
        " - 外層函式回傳內層函式 (return 內層函式)\n",
        " - 內層函式使用外層函式的變數 (內層函式 裡有 外層函式 的變數)\n",
        "\n",
        "- 運作方式：\n",
        "\n",
        " - 一旦閉包（內層函式）被回傳出來，它就獨立存在了。\n",
        " - 當你呼叫這個閉包時，它會利用自己「記住」的秘密和這次呼叫傳入的參數來完成任務。\n",
        " - 它不會自己呼叫自己。\n",
        "\n",
        "- 主要使用時機：\n",
        "\n",
        " - 客製化函式： 根據不同的配置或上下文生成具有特定行為的函式。例如：製造加法器(5) 得到一個「加 5 的函式」。\n",
        " - 資料隱藏/封裝： 讓一些變數只被閉包內部存取，外部無法直接修改。\n",
        " - 函式工廠： 批量生產具有相似但可變行為的函式。\n",
        " - 事件處理： 讓事件發生時的回調函式「記得」相關的上下文資訊。\n",
        "\n",
        "## 2. 遞迴 (Recursion)：\n",
        "\n",
        "- 比喻： 就像一個「會把任務丟給自己去完成的代辦事項清單」或「俄羅斯娃娃」。要完成一個大任務，函式發現自己做不了，就把任務縮小一點，然後再丟給「另一個自己」去完成，直到任務小到可以直接解決為止。\n",
        "\n",
        "- 核心概念： 重複執行 (Repetition) 和 分解問題 (Problem Decomposition)。\n",
        "\n",
        " - 一個函式在它的定義內部，直接或間接呼叫自己來解決問題。\n",
        " - 它將一個大問題分解成一個或多個與原問題相似但規模更小的子問題。\n",
        "\n",
        "- 形成方式：\n",
        "\n",
        " - 遞迴呼叫： 函式內部有呼叫自身的程式碼 (函式名稱(...))。\n",
        " - 基本情況 (Base Case)： 必須有一個「終止條件」，當問題小到不能再分解時，直接返回答案，停止遞迴。這是防止「無限迴圈」的關鍵！\n",
        "\n",
        "- 運作方式：\n",
        " - 每次函式呼叫自己時，都會創建一個新的函式執行環境。\n",
        " - 這些環境會像疊羅漢一樣堆疊起來，直到遇到基本情況。\n",
        " - 然後，結果會一層一層地回傳回來，最終解決最初的大問題。\n",
        " - 它會自己呼叫自己。\n",
        "\n",
        "- 主要使用時機：\n",
        "\n",
        " - 數學定義： 例如階乘、費波那契數列等。\n",
        " - 樹狀或圖狀結構： 遍歷資料結構（如二元樹的遍歷）。\n",
        " - 分治法： 將問題分解為多個獨立的子問題（如快速排序、合併排序）。\n",
        " - 某些演算法： 例如深度優先搜尋 (DFS)。\n",
        " - 容易混淆嗎？\n",
        "\n",
        "## 區別的關鍵：\n",
        "\n",
        "- 遞迴是「自己呼叫自己」來解決問題。\n",
        "- 閉包是「外層函式回傳內層函式」，內層函式會「記住」外層的變數，但不會自己呼叫自己。"
      ]
    },
    {
      "cell_type": "markdown",
      "metadata": {
        "id": "BbC6sOaTLxIY"
      },
      "source": [
        "# 閉包的兩個return\n",
        "\n",
        "## 1. 第一個 return：return v1**v2 (在內層函式 b 裡面)\n",
        "\n",
        "- 含義： 這個 return 位於內層函式 b 的內部。它的意思是，當你實際使用 (呼叫) b 這個「專屬機器人」的時候，它完成任務後會回傳一個「計算結果」。\n",
        "\n",
        "- 比喻： 想像你已經有了一個「專屬機器人 B」。當你給它一個任務（例如 a1(3)，把 3 給 v2），它就會按照它「記得」的秘密 (v1) 和你給的任務 (v2)，進行計算 (v1**v2)。這個計算完成後，它就會把計算的結果 (125) 交給你。\n",
        "\n",
        "- 什麼時候會執行到它？只有當你呼叫被 a 函式回傳出來的那個**「閉包函式」**時（例如 a1(3)），這個 return 才會被執行。\n",
        "\n",
        "## 2. 第二個 return：return b (在外層函式 a 裡面)\n",
        "\n",
        "- 含義： 這個 return 位於外層函式 a 的內部。它的意思是，當你**呼叫 a 這個「機器人製造機」**的時候（例如 a1 = a(5)），它完成「製造專屬機器人」的任務後，不會回傳一個數字或最終的計算結果，而是回傳「一個已經設計好的內層函式 b 本身」。\n",
        "\n",
        "- 比喻： 想像你對「機器人製造機 A」說：「請你幫我製造一個機器人！」這台製造機不會立刻給你掃地的結果，它會把一個新的、已經根據你要求設計好並「記得秘密」的「專屬機器人 B」，交給你。這個「交給你」的動作，就是 return b。\n",
        "\n",
        "- 什麼時候會執行到它？只有當你呼叫外層函式 a 時（例如 a1 = a(5)），這個 return 才會被執行。它的作用是將內層函式 b 作為一個值，傳遞給外層函式呼叫的結果（例如 a1）。"
      ]
    },
    {
      "cell_type": "code",
      "execution_count": null,
      "metadata": {
        "id": "2F3a0K1JLrRQ"
      },
      "outputs": [],
      "source": [
        "def a(v1): # 這是外面的「機器人製造機」\n",
        "    def b(v2): # 這是「機器人製造機」內部設計出來的「專屬機器人」\n",
        "        return v1**v2 # <-- 第一個 return\n",
        "    return b          # <-- 第二個 return"
      ]
    },
    {
      "cell_type": "code",
      "execution_count": null,
      "metadata": {
        "id": "AmMyylBMLU3x"
      },
      "outputs": [],
      "source": [
        "def make_processor(mode): # 大工廠：設定模式\n",
        "\n",
        "    def process_number(num): # 小工廠：執行加工\n",
        "        # 這裡的 'num' 是每次呼叫 'process_number' 時新傳入的！\n",
        "        if mode == \"add\":\n",
        "            return num + 7\n",
        "        elif mode == \"multiply\":\n",
        "            return num * 3\n",
        "        elif mode == \"subtract\":\n",
        "            return num - 4\n",
        "        else:\n",
        "            return \"UNKNOWN_MODE\"\n",
        "\n",
        "    return process_number\n",
        "\n",
        "# 創造「加法」小工廠\n",
        "add_processor = make_processor(\"add\") # 此時 add_processor 記住 mode = \"add\"\n",
        "\n",
        "# 第一次呼叫加法小工廠\n",
        "result_a = add_processor(5) # num = 5，計算 5 + 7 = 12\n",
        "\n",
        "# 第二次呼叫加法小工廠\n",
        "result_c = add_processor(12) # num = 12，計算 12 + 7 = 19"
      ]
    },
    {
      "cell_type": "code",
      "execution_count": 3,
      "metadata": {
        "colab": {
          "base_uri": "https://localhost:8080/"
        },
        "id": "AUB9PDsdLmSS",
        "outputId": "29ed6f0a-629e-40c3-90aa-92a8f238abb5"
      },
      "outputs": [
        {
          "name": "stdout",
          "output_type": "stream",
          "text": [
            "班級裡有：積木\n",
            "學校裡有：籃球\n",
            "公園裡有：滑梯\n"
          ]
        }
      ],
      "source": [
        "公園玩具 = \"滑梯\" # 全域變數\n",
        "\n",
        "def 學校():\n",
        "    學校玩具 = \"籃球\" # 外層函式（學校）的局部變數\n",
        "\n",
        "    def 班級():\n",
        "        班級玩具 = \"積木\" # 內層函式（班級）的局部變數\n",
        "        print(f\"班級裡有：{班級玩具}\")\n",
        "        print(f\"學校裡有：{學校玩具}\") # 班級可以看到學校的玩具\n",
        "        print(f\"公園裡有：{公園玩具}\") # 班級也可以看到公園的玩具\n",
        "    return 班級\n",
        "\n",
        "我們的班級 = 學校()\n",
        "我們的班級()"
      ]
    },
    {
      "cell_type": "code",
      "execution_count": 1,
      "metadata": {
        "colab": {
          "base_uri": "https://localhost:8080/"
        },
        "id": "MP1886FwLd4g",
        "outputId": "cea0c9dd-ddb1-4132-e5c7-8158ed5e9f67"
      },
      "outputs": [
        {
          "name": "stdout",
          "output_type": "stream",
          "text": [
            "一杯 奶茶 加 珍珠\n",
            "一杯 綠茶 加 椰果\n",
            "一杯 奶茶 加 布丁\n"
          ]
        }
      ],
      "source": [
        "def 飲料調配機(基底): # 大工廠：飲料調配機，設定好飲料的「基底」\n",
        "\n",
        "    def 加入配料(配料): # 小工廠：調配機裡面的「加入配料」功能\n",
        "        return f\"一杯 {基底} 加 {配料}\"\n",
        "\n",
        "    return 加入配料 # 大工廠回傳這個「加入配料」的小工廠\n",
        "\n",
        "# 步驟一：製造一個「奶茶專用」的調配小工廠\n",
        "奶茶調配器 = 飲料調配機(\"奶茶\")\n",
        "\n",
        "# 步驟二：製造一個「綠茶專用」的調配小工廠\n",
        "綠茶調配器 = 飲料調配機(\"綠茶\")\n",
        "\n",
        "# 步驟三：使用「奶茶專用」調配器，加入珍珠\n",
        "結果1 = 奶茶調配器(\"珍珠\")\n",
        "\n",
        "# 步驟四：使用「綠茶專用」調配器，加入椰果\n",
        "結果2 = 綠茶調配器(\"椰果\")\n",
        "\n",
        "# 步驟五：使用「奶茶專用」調配器，加入布丁\n",
        "結果3 = 奶茶調配器(\"布丁\")\n",
        "\n",
        "\n",
        "print(結果1)\n",
        "print(結果2)\n",
        "print(結果3)"
      ]
    },
    {
      "cell_type": "code",
      "execution_count": 2,
      "metadata": {
        "colab": {
          "base_uri": "https://localhost:8080/"
        },
        "id": "adWNylYFLWtY",
        "outputId": "4ef29e32-e54d-413f-c06a-036219b2079a"
      },
      "outputs": [
        {
          "name": "stdout",
          "output_type": "stream",
          "text": [
            "12\n",
            "24\n",
            "19\n",
            "21\n",
            "30\n"
          ]
        }
      ],
      "source": [
        "def make_processor(mode):\n",
        "\n",
        "    def process_number(num):\n",
        "        if mode == \"add\":\n",
        "            return num + 7\n",
        "        elif mode == \"multiply\":\n",
        "            return num * 3\n",
        "        elif mode == \"subtract\":\n",
        "            return num - 4\n",
        "        else:\n",
        "            return \"UNKNOWN_MODE\"\n",
        "\n",
        "    return process_number\n",
        "\n",
        "# Step 1\n",
        "add_processor = make_processor(\"add\")\n",
        "\n",
        "# Step 2\n",
        "multiply_processor = make_processor(\"multiply\")\n",
        "\n",
        "# Step 3\n",
        "result_a = add_processor(5)\n",
        "\n",
        "# Step 4\n",
        "result_b = multiply_processor(8)\n",
        "\n",
        "# Step 5\n",
        "result_c = add_processor(12)\n",
        "\n",
        "# Step 6\n",
        "subtract_processor = make_processor(\"subtract\")\n",
        "\n",
        "# Step 7\n",
        "result_d = subtract_processor(25)\n",
        "\n",
        "# Step 8\n",
        "result_e = multiply_processor(10) # One more challenge!\n",
        "\n",
        "print(result_a)\n",
        "print(result_b)\n",
        "print(result_c)\n",
        "print(result_d)\n",
        "print(result_e)"
      ]
    },
    {
      "cell_type": "code",
      "execution_count": 4,
      "metadata": {
        "colab": {
          "base_uri": "https://localhost:8080/"
        },
        "id": "IWBDlXhPbgwi",
        "outputId": "184fa322-5d07-4fbf-aa0e-c95b53d43764"
      },
      "outputs": [
        {
          "name": "stdout",
          "output_type": "stream",
          "text": [
            "10\n",
            "20\n"
          ]
        }
      ],
      "source": [
        "def process_data(data): # data 接收 my_list 的引用\n",
        "    data[0] = data[0] * 2 # my_list[0] 從 5 變成 10 (列表是可變的，函式內修改會影響外部)\n",
        "    return data[0] + data[1] # 返回 10 (現在的 data[0]) + 10 (data[1]) = 20\n",
        "\n",
        "my_list = [5, 10]\n",
        "result = process_data(my_list) # result = 20\n",
        "print(my_list[0]) # 輸出 my_list[0] 的當前值，是 10\n",
        "print(result)     # 輸出 result 的值，是 20"
      ]
    },
    {
      "cell_type": "code",
      "execution_count": 5,
      "metadata": {
        "colab": {
          "base_uri": "https://localhost:8080/"
        },
        "id": "9gEAoabVcFCx",
        "outputId": "d97b023d-8cdb-49f0-aa8e-43b18cebab60"
      },
      "outputs": [
        {
          "name": "stdout",
          "output_type": "stream",
          "text": [
            "10\n"
          ]
        }
      ],
      "source": [
        "def find_sum_recursive(n):\n",
        "    if n == 1: # 基本情況：n 等於 1 時返回 1\n",
        "        return 1\n",
        "    else: # 遞迴情況：n 大於 1\n",
        "        return n + find_sum_recursive(n - 1) # 呼叫自己，n 減 1\n",
        "\n",
        "print(find_sum_recursive(4))"
      ]
    }
  ],
  "metadata": {
    "colab": {
      "authorship_tag": "ABX9TyMBbChS0z/YrzepQtZ/TKut",
      "include_colab_link": true,
      "provenance": []
    },
    "kernelspec": {
      "display_name": "myenv",
      "language": "python",
      "name": "python3"
    },
    "language_info": {
      "codemirror_mode": {
        "name": "ipython",
        "version": 3
      },
      "file_extension": ".py",
      "mimetype": "text/x-python",
      "name": "python",
      "nbconvert_exporter": "python",
      "pygments_lexer": "ipython3",
      "version": "3.10.16"
    }
  },
  "nbformat": 4,
  "nbformat_minor": 0
}
