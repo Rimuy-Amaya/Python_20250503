{
  "nbformat": 4,
  "nbformat_minor": 0,
  "metadata": {
    "colab": {
      "provenance": [],
      "authorship_tag": "ABX9TyOBUpVXn3U7XOrYWTiC8RQF",
      "include_colab_link": true
    },
    "kernelspec": {
      "name": "python3",
      "display_name": "Python 3"
    },
    "language_info": {
      "name": "python"
    }
  },
  "cells": [
    {
      "cell_type": "markdown",
      "metadata": {
        "id": "view-in-github",
        "colab_type": "text"
      },
      "source": [
        "<a href=\"https://colab.research.google.com/github/Rimuy-Amaya/Python_20250503/blob/main/%E8%87%AA%E5%AD%B8/%E8%87%AA%E5%AD%B820250523.ipynb\" target=\"_parent\"><img src=\"https://colab.research.google.com/assets/colab-badge.svg\" alt=\"Open In Colab\"/></a>"
      ]
    },
    {
      "cell_type": "code",
      "execution_count": 1,
      "metadata": {
        "id": "YVcaainfrEkQ",
        "outputId": "97e47de8-5320-4709-ce01-c48d58267cc9",
        "colab": {
          "base_uri": "https://localhost:8080/"
        }
      },
      "outputs": [
        {
          "output_type": "stream",
          "name": "stdout",
          "text": [
            "12\n"
          ]
        }
      ],
      "source": [
        "sentence = \"Hello World!\"\n",
        "result = len(sentence)\n",
        "print(result)"
      ]
    },
    {
      "cell_type": "code",
      "source": [
        "text = \"Python programming is fun.\"\n",
        "print(text.startswith('Py'))"
      ],
      "metadata": {
        "id": "6j-AMSAZrWA2",
        "outputId": "fc4a7f33-f8f6-4f9b-a82a-d186e5498080",
        "colab": {
          "base_uri": "https://localhost:8080/"
        }
      },
      "execution_count": 2,
      "outputs": [
        {
          "output_type": "stream",
          "name": "stdout",
          "text": [
            "True\n"
          ]
        }
      ]
    },
    {
      "cell_type": "code",
      "source": [
        "message = \"Coding is great, isn't it?\"\n",
        "word_to_find = \"is\"\n",
        "first_pos = message.find(word_to_find)\n",
        "last_pos = message.rfind(word_to_find)\n",
        "print(f\"{first_pos}, {last_pos}\")"
      ],
      "metadata": {
        "id": "1n5CxNNbrYi1",
        "outputId": "0854c3f3-bfe4-4f0e-f413-82409e1c2e14",
        "colab": {
          "base_uri": "https://localhost:8080/"
        }
      },
      "execution_count": 3,
      "outputs": [
        {
          "output_type": "stream",
          "name": "stdout",
          "text": [
            "7, 17\n"
          ]
        }
      ]
    },
    {
      "cell_type": "code",
      "source": [
        "story = \"One dog, two dogs, three dogs running.\"\n",
        "print(story.count(\"dog\"))"
      ],
      "metadata": {
        "id": "JG7qzgt0rbtF",
        "outputId": "c67617c0-e1b1-4eed-b478-0b296743f671",
        "colab": {
          "base_uri": "https://localhost:8080/"
        }
      },
      "execution_count": 4,
      "outputs": [
        {
          "output_type": "stream",
          "name": "stdout",
          "text": [
            "3\n"
          ]
        }
      ]
    },
    {
      "cell_type": "code",
      "source": [
        "data = \"  左右都有空格  \"\n",
        "cleaned_data = data.strip()\n",
        "print(f\"'{cleaned_data}'\")"
      ],
      "metadata": {
        "id": "IzsHXNTCruZl",
        "outputId": "4b1b597b-1a42-41db-e571-9f84ecb01886",
        "colab": {
          "base_uri": "https://localhost:8080/"
        }
      },
      "execution_count": 5,
      "outputs": [
        {
          "output_type": "stream",
          "name": "stdout",
          "text": [
            "'左右都有空格'\n"
          ]
        }
      ]
    },
    {
      "cell_type": "code",
      "source": [
        "phrase = \"learn python fast\"\n",
        "print( phrase.capitalize () )"
      ],
      "metadata": {
        "id": "lWv4xFfMrxGG",
        "outputId": "7d8c45ef-4c2b-4482-c38c-90ce08f77d95",
        "colab": {
          "base_uri": "https://localhost:8080/"
        }
      },
      "execution_count": 10,
      "outputs": [
        {
          "output_type": "stream",
          "name": "stdout",
          "text": [
            "Learn python fast\n"
          ]
        }
      ]
    },
    {
      "cell_type": "code",
      "source": [
        "product_name = \"super_duper_item\"\n",
        "print(product_name.upper())"
      ],
      "metadata": {
        "id": "HFoSkqZDsi-G",
        "outputId": "13f50c7c-53f8-429a-8dc5-f1bbca451a98",
        "colab": {
          "base_uri": "https://localhost:8080/"
        }
      },
      "execution_count": 11,
      "outputs": [
        {
          "output_type": "stream",
          "name": "stdout",
          "text": [
            "SUPER_DUPER_ITEM\n"
          ]
        }
      ]
    },
    {
      "cell_type": "code",
      "source": [
        "original = \"PyThOn Is FuN\"\n",
        "swapped = original.swapcase()\n",
        "print(swapped)"
      ],
      "metadata": {
        "id": "zjCEPCTwslpN",
        "outputId": "e3eea6fd-40d2-427d-b752-b6f90ec07fb1",
        "colab": {
          "base_uri": "https://localhost:8080/"
        }
      },
      "execution_count": 12,
      "outputs": [
        {
          "output_type": "stream",
          "name": "stdout",
          "text": [
            "pYtHoN iS fUn\n"
          ]
        }
      ]
    },
    {
      "cell_type": "code",
      "source": [
        "align_text = \"Hello\"\n",
        "print(f\"'{align_text.center(10)}'\")"
      ],
      "metadata": {
        "id": "v1vXnseBsnnt",
        "outputId": "71210e44-e5ed-4a44-9895-efc62d323551",
        "colab": {
          "base_uri": "https://localhost:8080/"
        }
      },
      "execution_count": 13,
      "outputs": [
        {
          "output_type": "stream",
          "name": "stdout",
          "text": [
            "'  Hello   '\n"
          ]
        }
      ]
    },
    {
      "cell_type": "code",
      "source": [
        "article = \"The cat sat on the mat. The cat was lazy.\"\n",
        "new_article = article.replace(\"cat\", \"dog\")\n",
        "print(new_article)"
      ],
      "metadata": {
        "id": "5UUdQ28wsrUd",
        "outputId": "6ee75b47-2696-47c7-a79a-cbf9378b0592",
        "colab": {
          "base_uri": "https://localhost:8080/"
        }
      },
      "execution_count": 14,
      "outputs": [
        {
          "output_type": "stream",
          "name": "stdout",
          "text": [
            "The dog sat on the mat. The dog was lazy.\n"
          ]
        }
      ]
    },
    {
      "cell_type": "code",
      "source": [
        "dialogue = \"  HI, how ARE you?  \"\n",
        "step1 = dialogue.strip().title() # 先 strip() 再 title()\n",
        "# step1 解析：\n",
        "# 1. dialogue.strip() -> \"HI, how ARE you?\" (移除頭尾空格)\n",
        "# 2. .title() -> \"Hi, How Are You?\" (每個單字首字母大寫，其他轉小寫)\n",
        "# 所以 step1 是 \"Hi, How Are You?\"\n",
        "\n",
        "step2 = step1.replace(\"You\", \"Everyone\") # 將 \"You\" 替換為 \"Everyone\"\n",
        "# step2 解析：\n",
        "# 1. step1 是 \"Hi, How Are You?\"\n",
        "# 2. replace(\"You\", \"Everyone\") 會找到 \"You\" 並替換。\n",
        "# 所以 step2 是 \"Hi, How Are Everyone?\"\n",
        "\n",
        "print(step2)"
      ],
      "metadata": {
        "id": "2kX1ZEHbstxN",
        "outputId": "cf0e5da8-e6a8-4c82-9377-13b900f7de34",
        "colab": {
          "base_uri": "https://localhost:8080/"
        }
      },
      "execution_count": 15,
      "outputs": [
        {
          "output_type": "stream",
          "name": "stdout",
          "text": [
            "Hi, How Are Everyone?\n"
          ]
        }
      ]
    }
  ]
}