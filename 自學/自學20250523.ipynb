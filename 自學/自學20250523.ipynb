{
  "nbformat": 4,
  "nbformat_minor": 0,
  "metadata": {
    "colab": {
      "provenance": [],
      "authorship_tag": "ABX9TyNPffbzKipeJBCeHgVvkspY",
      "include_colab_link": true
    },
    "kernelspec": {
      "name": "python3",
      "display_name": "Python 3"
    },
    "language_info": {
      "name": "python"
    }
  },
  "cells": [
    {
      "cell_type": "markdown",
      "metadata": {
        "id": "view-in-github",
        "colab_type": "text"
      },
      "source": [
        "<a href=\"https://colab.research.google.com/github/Rimuy-Amaya/Python_20250503/blob/main/%E8%87%AA%E5%AD%B8/%E8%87%AA%E5%AD%B820250523.ipynb\" target=\"_parent\"><img src=\"https://colab.research.google.com/assets/colab-badge.svg\" alt=\"Open In Colab\"/></a>"
      ]
    },
    {
      "cell_type": "code",
      "execution_count": 1,
      "metadata": {
        "id": "YVcaainfrEkQ",
        "colab": {
          "base_uri": "https://localhost:8080/"
        },
        "outputId": "97e47de8-5320-4709-ce01-c48d58267cc9"
      },
      "outputs": [
        {
          "output_type": "stream",
          "name": "stdout",
          "text": [
            "12\n"
          ]
        }
      ],
      "source": [
        "sentence = \"Hello World!\"\n",
        "result = len(sentence)\n",
        "print(result)"
      ]
    },
    {
      "cell_type": "code",
      "source": [
        "text = \"Python programming is fun.\"\n",
        "print(text.startswith('Py'))"
      ],
      "metadata": {
        "colab": {
          "base_uri": "https://localhost:8080/"
        },
        "id": "6j-AMSAZrWA2",
        "outputId": "fc4a7f33-f8f6-4f9b-a82a-d186e5498080"
      },
      "execution_count": 2,
      "outputs": [
        {
          "output_type": "stream",
          "name": "stdout",
          "text": [
            "True\n"
          ]
        }
      ]
    },
    {
      "cell_type": "code",
      "source": [
        "message = \"Coding is great, isn't it?\"\n",
        "word_to_find = \"is\"\n",
        "first_pos = message.find(word_to_find)\n",
        "last_pos = message.rfind(word_to_find)\n",
        "print(f\"{first_pos}, {last_pos}\")"
      ],
      "metadata": {
        "colab": {
          "base_uri": "https://localhost:8080/"
        },
        "id": "1n5CxNNbrYi1",
        "outputId": "0854c3f3-bfe4-4f0e-f413-82409e1c2e14"
      },
      "execution_count": 3,
      "outputs": [
        {
          "output_type": "stream",
          "name": "stdout",
          "text": [
            "7, 17\n"
          ]
        }
      ]
    },
    {
      "cell_type": "code",
      "source": [
        "story = \"One dog, two dogs, three dogs running.\"\n",
        "print(story.count(\"dog\"))"
      ],
      "metadata": {
        "colab": {
          "base_uri": "https://localhost:8080/"
        },
        "id": "JG7qzgt0rbtF",
        "outputId": "c67617c0-e1b1-4eed-b478-0b296743f671"
      },
      "execution_count": 4,
      "outputs": [
        {
          "output_type": "stream",
          "name": "stdout",
          "text": [
            "3\n"
          ]
        }
      ]
    },
    {
      "cell_type": "code",
      "source": [
        "data = \"  左右都有空格  \"\n",
        "cleaned_data = data.strip()\n",
        "print(f\"'{cleaned_data}'\")"
      ],
      "metadata": {
        "colab": {
          "base_uri": "https://localhost:8080/"
        },
        "id": "IzsHXNTCruZl",
        "outputId": "4b1b597b-1a42-41db-e571-9f84ecb01886"
      },
      "execution_count": 5,
      "outputs": [
        {
          "output_type": "stream",
          "name": "stdout",
          "text": [
            "'左右都有空格'\n"
          ]
        }
      ]
    },
    {
      "cell_type": "code",
      "source": [
        "phrase = \"learn python fast\"\n",
        "print( phrase.capitalize () )"
      ],
      "metadata": {
        "colab": {
          "base_uri": "https://localhost:8080/"
        },
        "id": "lWv4xFfMrxGG",
        "outputId": "7d8c45ef-4c2b-4482-c38c-90ce08f77d95"
      },
      "execution_count": 10,
      "outputs": [
        {
          "output_type": "stream",
          "name": "stdout",
          "text": [
            "Learn python fast\n"
          ]
        }
      ]
    },
    {
      "cell_type": "code",
      "source": [
        "product_name = \"super_duper_item\"\n",
        "print(product_name.upper())"
      ],
      "metadata": {
        "colab": {
          "base_uri": "https://localhost:8080/"
        },
        "id": "HFoSkqZDsi-G",
        "outputId": "13f50c7c-53f8-429a-8dc5-f1bbca451a98"
      },
      "execution_count": 11,
      "outputs": [
        {
          "output_type": "stream",
          "name": "stdout",
          "text": [
            "SUPER_DUPER_ITEM\n"
          ]
        }
      ]
    },
    {
      "cell_type": "code",
      "source": [
        "original = \"PyThOn Is FuN\"\n",
        "swapped = original.swapcase()\n",
        "print(swapped)"
      ],
      "metadata": {
        "colab": {
          "base_uri": "https://localhost:8080/"
        },
        "id": "zjCEPCTwslpN",
        "outputId": "e3eea6fd-40d2-427d-b752-b6f90ec07fb1"
      },
      "execution_count": 12,
      "outputs": [
        {
          "output_type": "stream",
          "name": "stdout",
          "text": [
            "pYtHoN iS fUn\n"
          ]
        }
      ]
    },
    {
      "cell_type": "code",
      "source": [
        "align_text = \"Hello\"\n",
        "print(f\"'{align_text.center(10)}'\")"
      ],
      "metadata": {
        "colab": {
          "base_uri": "https://localhost:8080/"
        },
        "id": "v1vXnseBsnnt",
        "outputId": "71210e44-e5ed-4a44-9895-efc62d323551"
      },
      "execution_count": 13,
      "outputs": [
        {
          "output_type": "stream",
          "name": "stdout",
          "text": [
            "'  Hello   '\n"
          ]
        }
      ]
    },
    {
      "cell_type": "code",
      "source": [
        "article = \"The cat sat on the mat. The cat was lazy.\"\n",
        "new_article = article.replace(\"cat\", \"dog\")\n",
        "print(new_article)"
      ],
      "metadata": {
        "colab": {
          "base_uri": "https://localhost:8080/"
        },
        "id": "5UUdQ28wsrUd",
        "outputId": "6ee75b47-2696-47c7-a79a-cbf9378b0592"
      },
      "execution_count": 14,
      "outputs": [
        {
          "output_type": "stream",
          "name": "stdout",
          "text": [
            "The dog sat on the mat. The dog was lazy.\n"
          ]
        }
      ]
    },
    {
      "cell_type": "code",
      "source": [
        "dialogue = \"  HI, how ARE you?  \"\n",
        "step1 = dialogue.strip().title() # 先 strip() 再 title()\n",
        "# step1 解析：\n",
        "# 1. dialogue.strip() -> \"HI, how ARE you?\" (移除頭尾空格)\n",
        "# 2. .title() -> \"Hi, How Are You?\" (每個單字首字母大寫，其他轉小寫)\n",
        "# 所以 step1 是 \"Hi, How Are You?\"\n",
        "\n",
        "step2 = step1.replace(\"You\", \"Everyone\") # 將 \"You\" 替換為 \"Everyone\"\n",
        "# step2 解析：\n",
        "# 1. step1 是 \"Hi, How Are You?\"\n",
        "# 2. replace(\"You\", \"Everyone\") 會找到 \"You\" 並替換。\n",
        "# 所以 step2 是 \"Hi, How Are Everyone?\"\n",
        "\n",
        "print(step2)"
      ],
      "metadata": {
        "colab": {
          "base_uri": "https://localhost:8080/"
        },
        "id": "2kX1ZEHbstxN",
        "outputId": "cf0e5da8-e6a8-4c82-9377-13b900f7de34"
      },
      "execution_count": 15,
      "outputs": [
        {
          "output_type": "stream",
          "name": "stdout",
          "text": [
            "Hi, How Are Everyone?\n"
          ]
        }
      ]
    },
    {
      "cell_type": "markdown",
      "source": [
        "# 使用isX()method\n",
        "\n",
        "- isalpha() 只可以是英文字母,不可以有空白\n",
        "- isalnum() 只可以是英文字母或數字，不可以有空白\n",
        "- isdecimal() 只可以是數字，不可以有空白\n",
        "- isspace() 是否有空白\n",
        "- istitle() 每個字的第一個字元必需是大寫"
      ],
      "metadata": {
        "id": "k5vZEGGrwoXu"
      }
    },
    {
      "cell_type": "code",
      "source": [
        "user_input = input(\"請輸入您的年齡：\")\n",
        "if user_input.isdigit():\n",
        "    age = int(user_input)\n",
        "    print(f\"您的年齡是 {age} 歲。\")\n",
        "else:\n",
        "    print(\"輸入無效，請輸入一個數字。\")"
      ],
      "metadata": {
        "id": "nVD4Pd2qwc8u",
        "outputId": "3f066a78-6de6-429b-90ac-c6df81d19937",
        "colab": {
          "base_uri": "https://localhost:8080/"
        }
      },
      "execution_count": 17,
      "outputs": [
        {
          "output_type": "stream",
          "name": "stdout",
          "text": [
            "請輸入您的年齡：a\n",
            "輸入無效，請輸入一個數字。\n"
          ]
        }
      ]
    },
    {
      "cell_type": "markdown",
      "source": [
        "# 這些 isX() 方法在實際程式開發中非常有用，特別是在：\n",
        "\n",
        "- 使用者輸入驗證：例如，檢查使用者輸入的年齡是否只包含數字，或使用者名稱是否只包含字母和數字。\n",
        "- 數據清洗和分析：判斷數據欄位中的內容類型。\n",
        "- 字串格式檢查：確保字串符合特定的格式要求。"
      ],
      "metadata": {
        "id": "ExzSBU_gxj6l"
      }
    },
    {
      "cell_type": "markdown",
      "source": [
        "# 字串取代 (String Replacement)\n",
        "\n",
        "- 語法:字串.replace(old, new[, max])\n",
        "- replace方法 可以將指定的字串進行更換:\n",
        " - 字串.replace(舊字串, 新字串)\n",
        "- replace方法 可以指定您要第幾個位置後不進行更換:\n",
        " - 字串.replace(舊字串, 新字串,替換不可以超過幾次)\n",
        " - 位置編號由 0 開始"
      ],
      "metadata": {
        "id": "qLsUjYiPxhjV"
      }
    },
    {
      "cell_type": "code",
      "source": [
        "# 範例 1: 基本取代\n",
        "text = \"Hello world, hello Python!\"\n",
        "new_text = text.replace(\"hello\", \"Hi\")\n",
        "print(f\"原始字串: {text}\")\n",
        "print(f\"替換後的字串 (所有匹配項): {new_text}\")\n",
        "\n",
        "# 輸出:\n",
        "# 原始字串: Hello world, hello Python!\n",
        "# 替換後的字串 (所有匹配項): Hi world, Hi Python!"
      ],
      "metadata": {
        "id": "SceHWmZrxhX2",
        "outputId": "2efc6880-781b-4304-f14b-a480b390c43c",
        "colab": {
          "base_uri": "https://localhost:8080/"
        }
      },
      "execution_count": 18,
      "outputs": [
        {
          "output_type": "stream",
          "name": "stdout",
          "text": [
            "原始字串: Hello world, hello Python!\n",
            "替換後的字串 (所有匹配項): Hello world, Hi Python!\n"
          ]
        }
      ]
    },
    {
      "cell_type": "markdown",
      "source": [
        "# 文字對齊rjust(), ljust(), and center()\n",
        "\n",
        "這三個方法都是字串的內建方法，用於將字串對齊到指定的寬度，並使用填充字元填補空白。\n",
        "\n",
        "**共同點**\n",
        "\n",
        "- 回傳新字串： 和 replace() 一樣，這些方法都會回傳一個新的字串。原始字串本身不會被修改，因為字串是不可變的 (immutable)。\n",
        "- 不改變原始字串內容： 它們只改變字串在指定寬度內的位置和填充方式，不會修改字串本身的文字內容。\n",
        "- 處理寬度不足： 如果指定的 width （寬度）小於或等於原始字串的長度，那麼這些方法會直接回傳原始字串（不會截斷字串）。\n",
        "\n",
        "**實際應用場景**\n",
        "- 表格或報表輸出： 當您想讓輸出的數據在控制台中呈現整齊的表格時。\n",
        "- 固定寬度數據處理： 在某些舊的資料格式中，欄位會有固定的寬度，您可能需要這些方法來處理或生成這些固定寬度的字串。\n",
        "- 文字遊戲或藝術字： 在需要排版文字效果時。"
      ],
      "metadata": {
        "id": "NDoYJbBjzlEU"
      }
    },
    {
      "cell_type": "code",
      "source": [
        "# 範例 1: 使用空格填充\n",
        "text = \"Python\"\n",
        "aligned_text = text.rjust(10)\n",
        "print(f\"'{text}' 靠右對齊 (寬度10): '{aligned_text}'\")\n",
        "# 輸出: 'Python' 靠右對齊 (寬度10): '    Python' (4個空格在前面)\n",
        "\n",
        "# 範例 2: 使用其他字元填充\n",
        "number = \"42\"\n",
        "aligned_number = number.rjust(5, '0')\n",
        "print(f\"'{number}' 靠右對齊 (寬度5, 填充0): '{aligned_number}'\")\n",
        "# 輸出: '42' 靠右對齊 (寬度5, 填充0): '00042'\n",
        "\n",
        "# 範例 3: 寬度不足或剛好\n",
        "short_text = \"abc\"\n",
        "print(f\"'{short_text}' 靠右對齊 (寬度2): '{short_text.rjust(2)}'\") # 寬度小於字串長度，不變\n",
        "print(f\"'{short_text}' 靠右對齊 (寬度3): '{short_text.rjust(3)}'\") # 寬度等於字串長度，不變\n",
        "# 輸出:\n",
        "# 'abc' 靠右對齊 (寬度2): 'abc'\n",
        "# 'abc' 靠右對齊 (寬度3): 'abc'"
      ],
      "metadata": {
        "id": "vfnRp1MKyof-",
        "outputId": "90621090-cb20-463b-e7b1-1d2c3d073c6b",
        "colab": {
          "base_uri": "https://localhost:8080/"
        }
      },
      "execution_count": 19,
      "outputs": [
        {
          "output_type": "stream",
          "name": "stdout",
          "text": [
            "'Python' 靠右對齊 (寬度10): '    Python'\n",
            "'42' 靠右對齊 (寬度5, 填充0): '00042'\n",
            "'abc' 靠右對齊 (寬度2): 'abc'\n",
            "'abc' 靠右對齊 (寬度3): 'abc'\n"
          ]
        }
      ]
    },
    {
      "cell_type": "markdown",
      "source": [
        "# 這個例子完美地展示了：\n",
        "- 函式的應用：將重複的格式化邏輯封裝到一個函式中，提高程式碼的重複利用性。\n",
        "- 字典的遍歷：如何使用 for k, v in itemsDict.items(): 迭代字典中的鍵值對。\n",
        "- 字串對齊方法的組合使用：center() 用於標題置中，ljust() 用於左側的物品名稱，rjust() 用於右側的數量。\n",
        "- 類型轉換的重要性：在對非字串類型（如數字）應用字串方法之前，必須使用 str() 將其轉換為字串。"
      ],
      "metadata": {
        "id": "6tEQnpCa1XZ-"
      }
    },
    {
      "cell_type": "code",
      "source": [
        "def printPicnic(itemsDict, leftWidth, rightWidth):\n",
        "    print('PICNIC ITEMS'.center(leftWidth + rightWidth, '-'))\n",
        "    for k, v in itemsDict.items():\n",
        "        print(k.ljust(leftWidth, '.') + str(v).rjust(rightWidth))\n",
        "\n",
        "picnicItems = {'sandwiches': 4, 'apples': 12, 'cups': 4, 'cookies': 8000}\n",
        "printPicnic(picnicItems, 12, 5)\n",
        "printPicnic(picnicItems, 20, 6)"
      ],
      "metadata": {
        "id": "aqnlCUX00cwG",
        "outputId": "0da655bd-750b-48f9-c352-2a784a9d9fea",
        "colab": {
          "base_uri": "https://localhost:8080/"
        }
      },
      "execution_count": 25,
      "outputs": [
        {
          "output_type": "stream",
          "name": "stdout",
          "text": [
            "---PICNIC ITEMS--\n",
            "sandwiches..    4\n",
            "apples......   12\n",
            "cups........    4\n",
            "cookies..... 8000\n",
            "-------PICNIC ITEMS-------\n",
            "sandwiches..........     4\n",
            "apples..............    12\n",
            "cups................     4\n",
            "cookies.............  8000\n"
          ]
        }
      ]
    },
    {
      "cell_type": "markdown",
      "source": [
        "## 將上面對齊應用輸出為文字檔.(必須會檔案的存取)"
      ],
      "metadata": {
        "id": "GeRJqEq42OrW"
      }
    },
    {
      "cell_type": "code",
      "source": [
        "def printPicnic(itemsDict, leftWidth, rightWidth, filename=None):\n",
        "    \"\"\"\n",
        "    格式化並列印野餐清單，可選擇將輸出寫入文字檔。\n",
        "\n",
        "    Args:\n",
        "        itemsDict (dict): 包含野餐物品及其數量的字典。\n",
        "        leftWidth (int): 左側物品名稱的對齊寬度。\n",
        "        rightWidth (int): 右側物品數量的對齊寬度。\n",
        "        filename (str, optional): 要寫入的檔案名稱。如果為 None，則只在螢幕上列印。\n",
        "    \"\"\"\n",
        "    output_lines = [] # 用來儲存所有要輸出的行\n",
        "\n",
        "    # 格式化標題\n",
        "    title = 'PICNIC ITEMS'.center(leftWidth + rightWidth, '-')\n",
        "    output_lines.append(title)\n",
        "\n",
        "    # 格式化每個物品項目\n",
        "    for k, v in itemsDict.items():\n",
        "        item_line = k.ljust(leftWidth, '.') + str(v).rjust(rightWidth)\n",
        "        output_lines.append(item_line)\n",
        "\n",
        "    # 判斷是列印到螢幕還是寫入檔案\n",
        "    if filename:\n",
        "        try:\n",
        "            # 開啟檔案 (以寫入模式 'w' 開啟，如果檔案不存在則創建，存在則清空)\n",
        "            with open(filename, 'w', encoding='utf-8') as f:\n",
        "                for line in output_lines:\n",
        "                    f.write(line + '\\n') # 每一行後面加上換行符\n",
        "            print(f\"野餐清單已成功寫入到 '{filename}'\")\n",
        "        except IOError as e:\n",
        "            print(f\"寫入檔案 '{filename}' 時發生錯誤: {e}\")\n",
        "    else:\n",
        "        # 如果沒有指定檔案名稱，則列印到螢幕\n",
        "        for line in output_lines:\n",
        "            print(line)\n",
        "\n",
        "# 野餐物品字典\n",
        "picnicItems = {'sandwiches': 4, 'apples': 12, 'cups': 4, 'cookies': 8000}\n",
        "\n",
        "print(\"\\n--- 輸出到螢幕 ---\")\n",
        "printPicnic(picnicItems, 12, 5) # 仍舊可以只輸出到螢幕\n",
        "\n",
        "print(\"\\n--- 輸出到檔案 (picnic_list_1.txt) ---\")\n",
        "printPicnic(picnicItems, 12, 5, 'picnic_list_1.txt') # 將輸出寫入檔案\n",
        "\n",
        "print(\"\\n--- 輸出到檔案 (picnic_list_2.txt) ---\")\n",
        "printPicnic(picnicItems, 20, 6, 'picnic_list_2.txt') # 寫入另一個檔案，使用不同寬度"
      ],
      "metadata": {
        "id": "SPMX1PcO2BBF",
        "outputId": "be63a4e8-091e-4d62-fd1f-b6507ea55af8",
        "colab": {
          "base_uri": "https://localhost:8080/"
        }
      },
      "execution_count": 26,
      "outputs": [
        {
          "output_type": "stream",
          "name": "stdout",
          "text": [
            "\n",
            "--- 輸出到螢幕 ---\n",
            "---PICNIC ITEMS--\n",
            "sandwiches..    4\n",
            "apples......   12\n",
            "cups........    4\n",
            "cookies..... 8000\n",
            "\n",
            "--- 輸出到檔案 (picnic_list_1.txt) ---\n",
            "野餐清單已成功寫入到 'picnic_list_1.txt'\n",
            "\n",
            "--- 輸出到檔案 (picnic_list_2.txt) ---\n",
            "野餐清單已成功寫入到 'picnic_list_2.txt'\n"
          ]
        }
      ]
    },
    {
      "cell_type": "code",
      "source": [
        "# 列出當前目錄下的所有檔案\n",
        "import os\n",
        "print(os.listdir('.'))"
      ],
      "metadata": {
        "id": "9_CO_NVY29Yu",
        "outputId": "93e9f4a3-bf78-4c54-95e5-0aa2f3264ee1",
        "colab": {
          "base_uri": "https://localhost:8080/"
        }
      },
      "execution_count": 27,
      "outputs": [
        {
          "output_type": "stream",
          "name": "stdout",
          "text": [
            "['.config', 'picnic_list_1.txt', 'picnic_list_2.txt', 'sample_data']\n"
          ]
        }
      ]
    },
    {
      "cell_type": "code",
      "source": [
        "# 1. 定義原始多行文字\n",
        "raw_text = \"\"\"\n",
        "Lists of animals\n",
        "Lists of aquarium life\n",
        "Lists of robert by author abbreviation\n",
        "Lists of cultivars\n",
        "\"\"\"\n",
        "\n",
        "print(\"原始輸入文字：\")\n",
        "print(raw_text)\n",
        "print(\"-\" * 30)\n",
        "\n",
        "# --- 步驟 2 & 3 & 4: 清理並分割成單行列表 ---\n",
        "\n",
        "# 將多行文字分割成單行，並移除可能存在的空行\n",
        "# strip() 用於移除每行前後的空白（包括換行符）\n",
        "# filter(None, ...) 用於過濾掉列表中的空字串\n",
        "lines = [line.strip() for line in raw_text.splitlines() if line.strip()]\n",
        "\n",
        "# 為了避免處理到「結果=====================」這一行，我們需要找到它的位置\n",
        "# 並且只取它前面的有用數據行\n",
        "cleaned_lines = []\n",
        "for line in lines:\n",
        "    if line.startswith(\"Lists of\"): # 假設有效數據行都以 \"Lists of\" 開頭\n",
        "        cleaned_lines.append(line)\n",
        "    elif line.startswith(\"結果===\"):\n",
        "        # 遇到分隔線就停止處理，因為後面的內容是目標輸出格式，不是原始數據\n",
        "        break\n",
        "\n",
        "print(\"清理後的有效數據行：\")\n",
        "for item in cleaned_lines:\n",
        "    print(item)\n",
        "print(\"-\" * 30)\n",
        "\n",
        "\n",
        "# --- 步驟 5: 生成符號串列 ---\n",
        "symbol_list = []\n",
        "for item in cleaned_lines:\n",
        "    symbol_list.append(f\"* {item}\")\n",
        "\n",
        "print(\"生成的符號串列：\")\n",
        "# 使用 '\\n'.join() 將列表中的元素用換行符連接起來，方便列印\n",
        "print('\\n'.join(symbol_list))\n",
        "print(\"-\" * 30)\n",
        "\n",
        "\n",
        "# --- 步驟 6: 生成數字串列 ---\n",
        "number_list = []\n",
        "for i, item in enumerate(cleaned_lines):\n",
        "    # enumerate 會返回索引 (從0開始) 和元素\n",
        "    # 所以我們用 i + 1 來得到從 1 開始的序號\n",
        "    number_list.append(f\"{i + 1}. {item}\")\n",
        "\n",
        "print(\"生成的數字串列：\")\n",
        "print('\\n'.join(number_list))\n",
        "print(\"-\" * 30)"
      ],
      "metadata": {
        "id": "KJeGhd5G6PCO",
        "outputId": "e2cec312-ca5d-45c3-a4f1-179865259ee1",
        "colab": {
          "base_uri": "https://localhost:8080/"
        }
      },
      "execution_count": 30,
      "outputs": [
        {
          "output_type": "stream",
          "name": "stdout",
          "text": [
            "原始輸入文字：\n",
            "\n",
            "Lists of animals\n",
            "Lists of aquarium life\n",
            "Lists of robert by author abbreviation\n",
            "Lists of cultivars\n",
            "\n",
            "------------------------------\n",
            "清理後的有效數據行：\n",
            "Lists of animals\n",
            "Lists of aquarium life\n",
            "Lists of robert by author abbreviation\n",
            "Lists of cultivars\n",
            "------------------------------\n",
            "生成的符號串列：\n",
            "* Lists of animals\n",
            "* Lists of aquarium life\n",
            "* Lists of robert by author abbreviation\n",
            "* Lists of cultivars\n",
            "------------------------------\n",
            "生成的數字串列：\n",
            "1. Lists of animals\n",
            "2. Lists of aquarium life\n",
            "3. Lists of robert by author abbreviation\n",
            "4. Lists of cultivars\n",
            "------------------------------\n"
          ]
        }
      ]
    },
    {
      "cell_type": "markdown",
      "source": [
        "# center() (Center Justify - 置中對齊)\n",
        "\n",
        "- 作用： 將字串置中對齊，並在左右兩側填充指定字元（預設為空格），直到達到指定的總寬度。如果無法平均分配填充字元，右側會比左側多一個。\n",
        "- 語法： string.center(width[, fillchar])\n",
        "- width：必需，一個整數，表示新字串的總寬度。\n",
        "- fillchar：可選，一個字元，用於填充字串。如果省略，預設為空格 (' ')。只能是單一字元。"
      ],
      "metadata": {
        "id": "SE7SI5rQz0J2"
      }
    },
    {
      "cell_type": "code",
      "source": [
        "# 範例 1: 使用空格填充\n",
        "title = \"Menu\"\n",
        "aligned_title = title.center(10)\n",
        "print(f\"'{title}' 置中對齊 (寬度10): '{aligned_title}'\")\n",
        "# 輸出: 'Menu' 置中對齊 (寬度10): '   Menu   ' (左右各3個空格)\n",
        "\n",
        "# 範例 2: 使用其他字元填充 (奇數個填充字元)\n",
        "header = \"Report\"\n",
        "aligned_header = header.center(15, '*')\n",
        "print(f\"'{header}' 置中對齊 (寬度15, 填充'*'): '{aligned_header}'\")\n",
        "# 輸出: 'Report' 置中對齊 (寬度15, 填充'*'): '****Report*****' (左4右5)\n",
        "\n",
        "# 範例 3: 奇數長度字串在偶數寬度下置中\n",
        "word = \"Cat\"\n",
        "aligned_word = word.center(10, '=')\n",
        "print(f\"'{word}' 置中對齊 (寬度10, 填充'='): '{aligned_word}'\")\n",
        "# 輸出: 'Cat' 置中對齊 (寬度10, 填充'='): '===Cat====' (左3右4)"
      ],
      "metadata": {
        "id": "KmBYWi1Pz6y2",
        "outputId": "e29c49bc-0f53-4a76-f50e-643af5da5df0",
        "colab": {
          "base_uri": "https://localhost:8080/"
        }
      },
      "execution_count": 20,
      "outputs": [
        {
          "output_type": "stream",
          "name": "stdout",
          "text": [
            "'Menu' 置中對齊 (寬度10): '   Menu   '\n",
            "'Report' 置中對齊 (寬度15, 填充'*'): '*****Report****'\n",
            "'Cat' 置中對齊 (寬度10, 填充'='): '===Cat===='\n"
          ]
        }
      ]
    }
  ]
}