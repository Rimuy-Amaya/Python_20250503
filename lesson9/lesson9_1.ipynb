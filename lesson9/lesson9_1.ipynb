{
 "cells": [
  {
   "cell_type": "markdown",
   "id": "e610bd33",
   "metadata": {},
   "source": [
    "https://www.perplexity.ai/search/216f82f2-9e19-4f29-bb0e-bdbfb083b51b"
   ]
  },
  {
   "cell_type": "code",
   "execution_count": null,
   "id": "1542c556",
   "metadata": {},
   "outputs": [],
   "source": [
    "# 使用 with 語法開啟檔案，確保讀取完後自動關閉檔案\n",
    "with open(\"names.txt\", \"r\", encoding=\"utf-8\") as f:\n",
    "    content = f.read()  # 一次讀取全部內容，回傳字串\n",
    "    print(content)"
   ]
  },
  {
   "cell_type": "code",
   "execution_count": null,
   "id": "7ab2bf17",
   "metadata": {},
   "outputs": [],
   "source": [
    "with open(\"names.txt\",\"r\",encoding=\"utf-8\") as f:\n",
    "    content = f.read()\n",
    "    print(content)"
   ]
  },
  {
   "cell_type": "code",
   "execution_count": null,
   "id": "4f7bc981",
   "metadata": {},
   "outputs": [],
   "source": [
    "file = open(\"names.txt\",encoding=\"utf-8\")\n",
    "print(file.read())\n",
    "file.close()"
   ]
  },
  {
   "cell_type": "code",
   "execution_count": null,
   "id": "c401fb60",
   "metadata": {},
   "outputs": [],
   "source": [
    "file = open(\"names.txt\",encoding=\"utf-8\")\n",
    "names:list = file.readlines()\n",
    "print(len(names))\n",
    "file.close()"
   ]
  },
  {
   "cell_type": "code",
   "execution_count": null,
   "id": "c9c7685a",
   "metadata": {},
   "outputs": [],
   "source": [
    "for name in names:\n",
    "    print( f\"姓名:{name}\" )"
   ]
  },
  {
   "cell_type": "code",
   "execution_count": null,
   "id": "cdfa2e50",
   "metadata": {},
   "outputs": [],
   "source": [
    "count = 0\n",
    "for name in names:\n",
    "    count += 1\n",
    "    print( f\"第{count}位姓名:{name}\" )"
   ]
  },
  {
   "cell_type": "code",
   "execution_count": null,
   "id": "2d3e0f42",
   "metadata": {},
   "outputs": [],
   "source": []
  }
 ],
 "metadata": {
  "kernelspec": {
   "display_name": "20250607",
   "language": "python",
   "name": "python3"
  },
  "language_info": {
   "codemirror_mode": {
    "name": "ipython",
    "version": 3
   },
   "file_extension": ".py",
   "mimetype": "text/x-python",
   "name": "python",
   "nbconvert_exporter": "python",
   "pygments_lexer": "ipython3",
   "version": "3.10.18"
  }
 },
 "nbformat": 4,
 "nbformat_minor": 5
}
