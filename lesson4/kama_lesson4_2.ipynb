{
  "nbformat": 4,
  "nbformat_minor": 0,
  "metadata": {
    "colab": {
      "provenance": [],
      "include_colab_link": true
    },
    "kernelspec": {
      "name": "python3",
      "display_name": "Python 3"
    },
    "language_info": {
      "name": "python"
    }
  },
  "cells": [
    {
      "cell_type": "markdown",
      "metadata": {
        "id": "view-in-github",
        "colab_type": "text"
      },
      "source": [
        "<a href=\"https://colab.research.google.com/github/Rimuy-Amaya/Python_20250503/blob/main/lesson4/kama_lesson4_2.ipynb\" target=\"_parent\"><img src=\"https://colab.research.google.com/assets/colab-badge.svg\" alt=\"Open In Colab\"/></a>"
      ]
    },
    {
      "cell_type": "markdown",
      "source": [
        "# python while迴圈說明\n",
        "\n",
        "---\n",
        "\n",
        "Python 的 while 迴圈用來根據條件判斷，重複執行某段程式碼，直到條件不成立為止。其基本語法如下：\n",
        "\n",
        "```\n",
        "while 條件:\n",
        "    程式區塊\n",
        "```\n",
        "\n",
        "•\t當條件為 True 時，會執行縮排的程式區塊。  \n",
        "•\t每次執行完程式區塊後，會再次檢查條件，若仍為 True，則繼續執行迴圈。  \n",
        "•\t當條件變為 False，迴圈結束，程式往下繼續執行。"
      ],
      "metadata": {
        "id": "sC__0V6rB2_1"
      }
    },
    {
      "cell_type": "code",
      "execution_count": null,
      "metadata": {
        "id": "kikPnVgX8d_N",
        "outputId": "5e8765e1-0302-4f29-b5b9-7022ba23ecc5",
        "colab": {
          "base_uri": "https://localhost:8080/"
        }
      },
      "outputs": [
        {
          "output_type": "stream",
          "name": "stdout",
          "text": [
            "1\n",
            "2\n",
            "3\n",
            "4\n",
            "5\n"
          ]
        }
      ],
      "source": [
        "#當While的判斷值是True會一直執行，直到False\n",
        "count = 1\n",
        "while count <= 5:\n",
        "  print(count)\n",
        "  count += 1"
      ]
    },
    {
      "cell_type": "code",
      "source": [
        "from os import uname\n",
        "total=0\n",
        "while True:\n",
        "  num = int(input(\"請輸入一個數字(輸入0結束:\"))\n",
        "  if num ==0:\n",
        "    break\n",
        "  total += num\n",
        "print(\"總計:\",total)"
      ],
      "metadata": {
        "id": "IpGRkGAnCVVX",
        "outputId": "72bd41e0-3d64-4577-ebaf-b0928febf1ae",
        "colab": {
          "base_uri": "https://localhost:8080/"
        }
      },
      "execution_count": null,
      "outputs": [
        {
          "output_type": "stream",
          "name": "stdout",
          "text": [
            "請輸入一個數字(輸入0結束:1\n",
            "請輸入一個數字(輸入0結束:2\n",
            "請輸入一個數字(輸入0結束:3\n",
            "請輸入一個數字(輸入0結束:4\n",
            "請輸入一個數字(輸入0結束:9\n",
            "請輸入一個數字(輸入0結束:10\n",
            "請輸入一個數字(輸入0結束:222\n",
            "請輸入一個數字(輸入0結束:0\n",
            "總計: 251\n"
          ]
        }
      ]
    },
    {
      "cell_type": "markdown",
      "source": [
        "# python 取得亂數1~100"
      ],
      "metadata": {
        "id": "lONaZ-e3PxNH"
      }
    },
    {
      "cell_type": "code",
      "source": [
        "#使用pythan內建工具:Random 取得亂數\n",
        "import random\n",
        "random.randint(1,99)"
      ],
      "metadata": {
        "id": "msnot11APxnn",
        "outputId": "a0e16b17-9bdb-4836-9d33-d9c2755bd88a",
        "colab": {
          "base_uri": "https://localhost:8080/"
        }
      },
      "execution_count": null,
      "outputs": [
        {
          "output_type": "execute_result",
          "data": {
            "text/plain": [
              "88"
            ]
          },
          "metadata": {},
          "execution_count": 10
        }
      ]
    },
    {
      "cell_type": "code",
      "source": [
        "#設定Min & Max\n",
        "import random\n",
        "min = 1\n",
        "max =99\n",
        "random.randint(min,max)"
      ],
      "metadata": {
        "id": "daaGZg5gQnub",
        "outputId": "e19dc792-3a12-422b-f7a9-a02cb532adf9",
        "colab": {
          "base_uri": "https://localhost:8080/"
        }
      },
      "execution_count": null,
      "outputs": [
        {
          "output_type": "execute_result",
          "data": {
            "text/plain": [
              "26"
            ]
          },
          "metadata": {},
          "execution_count": 11
        }
      ]
    },
    {
      "cell_type": "code",
      "source": [
        "import random\n",
        "min = 1\n",
        "max =99\n",
        "count = 0\n",
        "random_number = random.randint(min,max)\n",
        "print(random_number)\n",
        "print(\"====猜數次遊戲開始=====\\n\\n\")\n",
        "while True:\n",
        "  input_number = int(input(f\"請輸入數字{min}~{max}:\"))\n",
        "  count += 1\n",
        "  if(input_number == random_number):\n",
        "    print(f\"賓果!猜對了,答案是:{input_number}\")\n",
        "    print(f\"您猜了:{count}次\")\n",
        "    break\n",
        "  elif(input_number>random_number):\n",
        "    print(\"再小一點\")\n",
        "    max = input_number - 1\n",
        "  elif(input_number<random_number):\n",
        "    print(\"再大一點\")\n",
        "    min = input_number + 1\n",
        "  print(f\"您已經猜了:{count}次\\n\")\n",
        "\n",
        "print(\"Game Over\")"
      ],
      "metadata": {
        "id": "Z1HBLy0fQ5Dz",
        "outputId": "0251b1ba-d930-45b3-b9f6-c26e6566d6cc",
        "colab": {
          "base_uri": "https://localhost:8080/"
        }
      },
      "execution_count": null,
      "outputs": [
        {
          "output_type": "stream",
          "name": "stdout",
          "text": [
            "67\n",
            "====猜數次遊戲開始=====\n",
            "\n",
            "\n",
            "請輸入數字1~99:5\n",
            "再大一點\n",
            "您已經猜了:1次\n",
            "\n",
            "請輸入數字6~99:168\n",
            "再小一點\n",
            "您已經猜了:2次\n",
            "\n",
            "請輸入數字6~167:67\n",
            "賓果!猜對了,答案是:67\n",
            "您猜了:3次\n",
            "Game Over\n"
          ]
        }
      ]
    },
    {
      "cell_type": "code",
      "source": [
        "orange = 3\n",
        "apple = 5\n",
        "\"您有orange\" + str(orange) + \"個, apple \" + str(apple) + \"個\""
      ],
      "metadata": {
        "id": "jOTHeAj8TrMf"
      },
      "execution_count": null,
      "outputs": []
    },
    {
      "cell_type": "code",
      "source": [
        "#字串插補功能:使變數直接呈現成字串\"Str\"\n",
        "#句子前要有f,變數要家中括號\n",
        "orange = 3\n",
        "apple = 5\n",
        "f\"您有orange{orange}個, apple {apple}個\""
      ],
      "metadata": {
        "id": "g_1RpAIyTspm"
      },
      "execution_count": null,
      "outputs": []
    }
  ]
}