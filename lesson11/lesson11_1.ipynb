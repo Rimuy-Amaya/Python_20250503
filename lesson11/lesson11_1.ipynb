{
 "cells": [
  {
   "cell_type": "markdown",
   "id": "80859c17",
   "metadata": {},
   "source": [
    "https://www.perplexity.ai/search/f834ba4a-c32d-48c7-bfc3-36ef4d2b6d11"
   ]
  },
  {
   "cell_type": "code",
   "execution_count": 1,
   "id": "a3483596",
   "metadata": {},
   "outputs": [
    {
     "data": {
      "text/plain": [
       "[15, 25, 35, 45, 55]"
      ]
     },
     "execution_count": 1,
     "metadata": {},
     "output_type": "execute_result"
    }
   ],
   "source": [
    "#list\n",
    "scores:list = [10, 20 , 30 , 40 , 50]\n",
    "scores:list = list(range(10,60,10))\n",
    "\n",
    "# scores1:list = list()\n",
    "# for score in scores:\n",
    "#    score += 5\n",
    "# score1.append(score)\n",
    "score1 = [score+5 for score in scores]\n",
    "score1"
   ]
  },
  {
   "cell_type": "code",
   "execution_count": 3,
   "id": "3272fccb",
   "metadata": {},
   "outputs": [
    {
     "data": {
      "text/plain": [
       "array([15, 25, 35, 45, 55])"
      ]
     },
     "execution_count": 3,
     "metadata": {},
     "output_type": "execute_result"
    }
   ],
   "source": [
    "#numpy\n",
    "import numpy as np\n",
    "\n",
    "array = np.array([10,20,30,40,50])\n",
    "type(array)\n",
    "array1 = array + 5\n",
    "array1"
   ]
  },
  {
   "cell_type": "markdown",
   "id": "43f2d149",
   "metadata": {},
   "source": [
    "# nparray切割\n",
    "https://www.perplexity.ai/search/4a4e39d4-a079-4907-b920-6e7fe47050c6"
   ]
  },
  {
   "cell_type": "code",
   "execution_count": 9,
   "id": "86eee18a",
   "metadata": {},
   "outputs": [
    {
     "data": {
      "text/plain": [
       "array([33, 68, 50])"
      ]
     },
     "execution_count": 9,
     "metadata": {},
     "output_type": "execute_result"
    }
   ],
   "source": [
    "import numpy as np\n",
    "from numpy import ndarray\n",
    "\n",
    "students: ndarray = np.array([[12,55,33,68,50],\n",
    "                           [68,88,77,66,55]])\n",
    "#利用索引，slicing\n",
    "students[0] \n",
    "#取得第一位學生資料。第一項數字表示第一維資料(學生)\n",
    "students[1] \n",
    "#取得第二位學生資料\n",
    "students[1,:3] \n",
    "#取得第二位學生，前三科分數。第二項數字表示第二維資料（學生分數），冒號表示起始值：結束值：間隔\n",
    "students[0,-3:] \n",
    "#取得第一位學生資料，後三科分數"
   ]
  }
 ],
 "metadata": {
  "kernelspec": {
   "display_name": "20250614",
   "language": "python",
   "name": "python3"
  },
  "language_info": {
   "codemirror_mode": {
    "name": "ipython",
    "version": 3
   },
   "file_extension": ".py",
   "mimetype": "text/x-python",
   "name": "python",
   "nbconvert_exporter": "python",
   "pygments_lexer": "ipython3",
   "version": "3.10.18"
  }
 },
 "nbformat": 4,
 "nbformat_minor": 5
}
