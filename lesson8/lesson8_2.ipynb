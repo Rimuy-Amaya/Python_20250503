{
 "cells": [
  {
   "cell_type": "markdown",
   "id": "40057a20",
   "metadata": {},
   "source": [
    "### 如何呼叫function"
   ]
  },
  {
   "cell_type": "code",
   "execution_count": 2,
   "id": "c277bfff",
   "metadata": {},
   "outputs": [
    {
     "name": "stdout",
     "output_type": "stream",
     "text": [
      "前酒:白酒\n",
      "主餐:牛排\n",
      "甜點:蛋糕\n"
     ]
    }
   ],
   "source": [
    "def menu(wine:str,entree:str,dessert:str)->None:\n",
    "    print(f\"前酒:{wine}\")\n",
    "    print(f\"主餐:{entree}\")\n",
    "    print(f\"甜點:{dessert}\")\n",
    "\n",
    "menu(\"白酒\",\"牛排\",\"蛋糕\")"
   ]
  },
  {
   "cell_type": "markdown",
   "id": "12d184a3",
   "metadata": {},
   "source": [
    "### 引數值的呼叫\n",
    "- 要依照參數的順序"
   ]
  },
  {
   "cell_type": "code",
   "execution_count": 3,
   "id": "b2b67916",
   "metadata": {},
   "outputs": [
    {
     "name": "stdout",
     "output_type": "stream",
     "text": [
      "前酒:白酒\n",
      "主餐:牛排\n",
      "甜點:蛋糕\n"
     ]
    }
   ],
   "source": [
    "menu(\"白酒\",\"牛排\",\"蛋糕\")"
   ]
  },
  {
   "cell_type": "markdown",
   "id": "5a19225a",
   "metadata": {},
   "source": [
    "### 引述名稱的呼叫\n",
    "- 可以不依照順序"
   ]
  },
  {
   "cell_type": "code",
   "execution_count": 4,
   "id": "b532ed20",
   "metadata": {},
   "outputs": [
    {
     "name": "stdout",
     "output_type": "stream",
     "text": [
      "前酒:紅酒\n",
      "主餐:羊排\n",
      "甜點:布朗尼\n"
     ]
    }
   ],
   "source": [
    "menu(dessert=\"布朗尼\",wine=\"紅酒\",entree=\"羊排\")"
   ]
  },
  {
   "cell_type": "markdown",
   "id": "61daa273",
   "metadata": {},
   "source": [
    "### gemini把程式碼改成return"
   ]
  },
  {
   "cell_type": "code",
   "execution_count": 5,
   "id": "8d4f2300",
   "metadata": {},
   "outputs": [
    {
     "name": "stdout",
     "output_type": "stream",
     "text": [
      "\n",
      "--- 程式 B 的使用 ---\n",
      "我要印出我拿到的菜單：\n",
      "前酒:紅酒\n",
      "主餐:羊排\n",
      "甜點:布朗尼\n",
      "\n",
      "我想把這份菜單傳給我的朋友：\n",
      "（已傳送：前酒:紅酒\n",
      "主餐:羊排\n",
      "甜點:布朗尼）\n",
      "\n",
      "我想把這份菜單寫到一個檔案裡：\n"
     ]
    }
   ],
   "source": [
    "def menu_B(wine, entree, dessert):\n",
    "    menu_text = f\"前酒:{wine}\\n\"\n",
    "    menu_text += f\"主餐:{entree}\\n\"\n",
    "    menu_text += f\"甜點:{dessert}\"\n",
    "    return menu_text # 把組合好的文字「交出去」\n",
    "\n",
    "# 使用方式\n",
    "print(\"\\n--- 程式 B 的使用 ---\")\n",
    "# 這裡函式執行後，會「交出」一個文字內容\n",
    "實際拿到的菜單文字 = menu_B(dessert=\"布朗尼\", wine=\"紅酒\", entree=\"羊排\")\n",
    "\n",
    "# 現在我手上有了「實際拿到的菜單文字」這個東西，我可以對它做更多事！\n",
    "\n",
    "print(\"我要印出我拿到的菜單：\")\n",
    "print(實際拿到的菜單文字) # 第一次印出\n",
    "\n",
    "print(\"\\n我想把這份菜單傳給我的朋友：\")\n",
    "# send_email(\"朋友\", 實際拿到的菜單文字) # 想像這裡有個發送郵件的函式\n",
    "print(f\"（已傳送：{實際拿到的菜單文字}）\") # 模擬傳送\n",
    "\n",
    "print(\"\\n我想把這份菜單寫到一個檔案裡：\")\n",
    "# with open(\"今天的特製菜單.txt\", \"w\", encoding=\"utf-8\") as f:\n",
    "#     f.write(實際拿到的菜單文字)\n",
    "# print(\"（已寫入檔案）\")"
   ]
  },
  {
   "cell_type": "markdown",
   "id": "5b0d78dc",
   "metadata": {},
   "source": [
    "### 混合呼叫\n",
    "- 前面使用引數值的呼叫\n",
    "- 後面使用引數名稱的呼叫\n",
    "- 引數名稱呼叫之後，都要使用引數名稱呼叫\n",
    "- 最常使用的呼叫方式"
   ]
  },
  {
   "cell_type": "code",
   "execution_count": 8,
   "id": "6465d687",
   "metadata": {},
   "outputs": [
    {
     "name": "stdout",
     "output_type": "stream",
     "text": [
      "前酒:葡萄酒\n",
      "主餐:鮭魚排\n",
      "甜點:檸檬蛋糕\n"
     ]
    }
   ],
   "source": [
    "menu(\"葡萄酒\",dessert=\"檸檬蛋糕\",entree=\"鮭魚排\")"
   ]
  },
  {
   "cell_type": "code",
   "execution_count": null,
   "id": "c05101b3",
   "metadata": {
    "vscode": {
     "languageId": "markdown"
    }
   },
   "outputs": [],
   "source": [
    "### 定義的function參數,可以有預設值\n",
    "- 預設值一定放在最後"
   ]
  },
  {
   "cell_type": "code",
   "execution_count": 9,
   "id": "27df8102",
   "metadata": {
    "vscode": {
     "languageId": "markdown"
    }
   },
   "outputs": [],
   "source": [
    "def menu(wine:str,entree:str,dessert:str='奶昔')->None:\n",
    "    print(f\"前酒:{wine}\")\n",
    "    print(f\"主餐:{entree}\")\n",
    "    print(f\"甜點:{dessert}\")"
   ]
  },
  {
   "cell_type": "markdown",
   "id": "7223042a",
   "metadata": {},
   "source": [
    "### 混合呼叫\n",
    "- 呼叫時,有預設值的參數,可以省略引數值。(不寫，會直接出現預設值的內容。)\n",
    "- 呼叫有預設的參數，而需要修改內容的時候，要用引數名稱呼叫。"
   ]
  },
  {
   "cell_type": "code",
   "execution_count": 10,
   "id": "1d61f225",
   "metadata": {
    "vscode": {
     "languageId": "markdown"
    }
   },
   "outputs": [
    {
     "name": "stdout",
     "output_type": "stream",
     "text": [
      "前酒:白酒\n",
      "主餐:牛排\n",
      "甜點:奶昔\n"
     ]
    }
   ],
   "source": [
    "menu('白酒','牛排')\n"
   ]
  },
  {
   "cell_type": "code",
   "execution_count": 11,
   "id": "0ff84c7e",
   "metadata": {
    "vscode": {
     "languageId": "markdown"
    }
   },
   "outputs": [
    {
     "name": "stdout",
     "output_type": "stream",
     "text": [
      "前酒:白酒\n",
      "主餐:牛排\n",
      "甜點:蛋糕\n"
     ]
    }
   ],
   "source": [
    "menu('白酒','牛排',dessert=\"蛋糕\")\n",
    "\n"
   ]
  },
  {
   "cell_type": "code",
   "execution_count": 12,
   "id": "dea66066",
   "metadata": {
    "vscode": {
     "languageId": "markdown"
    }
   },
   "outputs": [],
   "source": [
    "def menu(wine:str,entree:str=\"小羊排\",dessert:str='珍奶')->None:\n",
    "    print(f\"前酒:{wine}\")\n",
    "    print(f\"主餐:{entree}\")\n",
    "    print(f\"甜點:{dessert}\")"
   ]
  },
  {
   "cell_type": "code",
   "execution_count": 13,
   "id": "5ee034af",
   "metadata": {
    "vscode": {
     "languageId": "markdown"
    }
   },
   "outputs": [
    {
     "name": "stdout",
     "output_type": "stream",
     "text": [
      "前酒:白酒\n",
      "主餐:小羊排\n",
      "甜點:珍奶\n"
     ]
    }
   ],
   "source": [
    "menu('白酒')\n"
   ]
  },
  {
   "cell_type": "markdown",
   "id": "68a82484",
   "metadata": {},
   "source": [
    "### *參數名稱\n",
    "- 沒有限制數量的引數值的呼叫"
   ]
  },
  {
   "cell_type": "code",
   "execution_count": 21,
   "id": "17fd9d66",
   "metadata": {
    "vscode": {
     "languageId": "markdown"
    }
   },
   "outputs": [],
   "source": [
    "def print_args(*args):\n",
    "    #tuple\n",
    "    print(args)"
   ]
  },
  {
   "cell_type": "code",
   "execution_count": 22,
   "id": "2acbd13f",
   "metadata": {
    "vscode": {
     "languageId": "markdown"
    }
   },
   "outputs": [
    {
     "name": "stdout",
     "output_type": "stream",
     "text": [
      "(1, 2, 3, 'a', 'b', 'c', True, False)\n"
     ]
    }
   ],
   "source": [
    "print_args(1, 2, 3, 'a','b','c',True, False)"
   ]
  },
  {
   "cell_type": "markdown",
   "id": "cf9bd0ff",
   "metadata": {},
   "source": [
    "### **參數名稱\n",
    "- 沒有限定數量的引數名稱呼叫\n",
    "- dict"
   ]
  },
  {
   "cell_type": "code",
   "execution_count": 23,
   "id": "1a9a4b68",
   "metadata": {
    "vscode": {
     "languageId": "markdown"
    }
   },
   "outputs": [],
   "source": [
    "def print_kwargs(**kwargs):\n",
    "    #dict\n",
    "    print(kwargs)"
   ]
  },
  {
   "cell_type": "code",
   "execution_count": 24,
   "id": "a2ac1943",
   "metadata": {
    "vscode": {
     "languageId": "markdown"
    }
   },
   "outputs": [
    {
     "name": "stdout",
     "output_type": "stream",
     "text": [
      "{'one': 1, 'two': 2, 'three': 3, 'four': 4, 'five': 5}\n"
     ]
    }
   ],
   "source": [
    "print_kwargs(one=1, two=2, three=3, four=4, five=5)\n"
   ]
  },
  {
   "cell_type": "code",
   "execution_count": 25,
   "id": "c21ccd08",
   "metadata": {
    "vscode": {
     "languageId": "markdown"
    }
   },
   "outputs": [],
   "source": [
    "def print_all(*args, **kwargs):\n",
    "    print(args)\n",
    "    print(kwargs)"
   ]
  },
  {
   "cell_type": "code",
   "execution_count": 26,
   "id": "35f0ef64",
   "metadata": {
    "vscode": {
     "languageId": "markdown"
    }
   },
   "outputs": [
    {
     "name": "stdout",
     "output_type": "stream",
     "text": [
      "(1, 2, 3, 'a', 'b', 'c', True, False)\n",
      "{'one': 1, 'two': 2, 'three': 3, 'four': 4, 'five': 5}\n"
     ]
    }
   ],
   "source": [
    "print_all(1, 2, 3, 'a', 'b', 'c', True, False,one=1, two=2, three=3, four=4, five=5)\n"
   ]
  }
 ],
 "metadata": {
  "kernelspec": {
   "display_name": "myenv",
   "language": "python",
   "name": "python3"
  },
  "language_info": {
   "codemirror_mode": {
    "name": "ipython",
    "version": 3
   },
   "file_extension": ".py",
   "mimetype": "text/x-python",
   "name": "python",
   "nbconvert_exporter": "python",
   "pygments_lexer": "ipython3",
   "version": "3.10.16"
  }
 },
 "nbformat": 4,
 "nbformat_minor": 5
}
