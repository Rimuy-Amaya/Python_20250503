{
 "cells": [
  {
   "cell_type": "markdown",
   "id": "40057a20",
   "metadata": {},
   "source": [
    "### 如何呼叫function"
   ]
  },
  {
   "cell_type": "code",
   "execution_count": 2,
   "id": "c277bfff",
   "metadata": {},
   "outputs": [
    {
     "name": "stdout",
     "output_type": "stream",
     "text": [
      "前酒:白酒\n",
      "主餐:牛排\n",
      "甜點:蛋糕\n"
     ]
    }
   ],
   "source": [
    "def menu(wine:str,entree:str,dessert:str)->None:\n",
    "    print(f\"前酒:{wine}\")\n",
    "    print(f\"主餐:{entree}\")\n",
    "    print(f\"甜點:{dessert}\")\n",
    "\n",
    "menu(\"白酒\",\"牛排\",\"蛋糕\")"
   ]
  },
  {
   "cell_type": "markdown",
   "id": "12d184a3",
   "metadata": {},
   "source": [
    "### 引數值的呼叫\n",
    "- 要依照參數的順序"
   ]
  },
  {
   "cell_type": "code",
   "execution_count": 3,
   "id": "b2b67916",
   "metadata": {},
   "outputs": [
    {
     "name": "stdout",
     "output_type": "stream",
     "text": [
      "前酒:白酒\n",
      "主餐:牛排\n",
      "甜點:蛋糕\n"
     ]
    }
   ],
   "source": [
    "menu(\"白酒\",\"牛排\",\"蛋糕\")"
   ]
  },
  {
   "cell_type": "markdown",
   "id": "5a19225a",
   "metadata": {},
   "source": [
    "### 引述名稱的呼叫\n",
    "- 可以不依照順序"
   ]
  },
  {
   "cell_type": "code",
   "execution_count": 4,
   "id": "b532ed20",
   "metadata": {},
   "outputs": [
    {
     "name": "stdout",
     "output_type": "stream",
     "text": [
      "前酒:紅酒\n",
      "主餐:羊排\n",
      "甜點:布朗尼\n"
     ]
    }
   ],
   "source": [
    "menu(dessert=\"布朗尼\",wine=\"紅酒\",entree=\"羊排\")"
   ]
  },
  {
   "cell_type": "markdown",
   "id": "61daa273",
   "metadata": {},
   "source": [
    "### gemini把程式碼改成return"
   ]
  },
  {
   "cell_type": "code",
   "execution_count": 5,
   "id": "8d4f2300",
   "metadata": {},
   "outputs": [
    {
     "name": "stdout",
     "output_type": "stream",
     "text": [
      "\n",
      "--- 程式 B 的使用 ---\n",
      "我要印出我拿到的菜單：\n",
      "前酒:紅酒\n",
      "主餐:羊排\n",
      "甜點:布朗尼\n",
      "\n",
      "我想把這份菜單傳給我的朋友：\n",
      "（已傳送：前酒:紅酒\n",
      "主餐:羊排\n",
      "甜點:布朗尼）\n",
      "\n",
      "我想把這份菜單寫到一個檔案裡：\n"
     ]
    }
   ],
   "source": [
    "def menu_B(wine, entree, dessert):\n",
    "    menu_text = f\"前酒:{wine}\\n\"\n",
    "    menu_text += f\"主餐:{entree}\\n\"\n",
    "    menu_text += f\"甜點:{dessert}\"\n",
    "    return menu_text # 把組合好的文字「交出去」\n",
    "\n",
    "# 使用方式\n",
    "print(\"\\n--- 程式 B 的使用 ---\")\n",
    "# 這裡函式執行後，會「交出」一個文字內容\n",
    "實際拿到的菜單文字 = menu_B(dessert=\"布朗尼\", wine=\"紅酒\", entree=\"羊排\")\n",
    "\n",
    "# 現在我手上有了「實際拿到的菜單文字」這個東西，我可以對它做更多事！\n",
    "\n",
    "print(\"我要印出我拿到的菜單：\")\n",
    "print(實際拿到的菜單文字) # 第一次印出\n",
    "\n",
    "print(\"\\n我想把這份菜單傳給我的朋友：\")\n",
    "# send_email(\"朋友\", 實際拿到的菜單文字) # 想像這裡有個發送郵件的函式\n",
    "print(f\"（已傳送：{實際拿到的菜單文字}）\") # 模擬傳送\n",
    "\n",
    "print(\"\\n我想把這份菜單寫到一個檔案裡：\")\n",
    "# with open(\"今天的特製菜單.txt\", \"w\", encoding=\"utf-8\") as f:\n",
    "#     f.write(實際拿到的菜單文字)\n",
    "# print(\"（已寫入檔案）\")"
   ]
  },
  {
   "cell_type": "markdown",
   "id": "5b0d78dc",
   "metadata": {},
   "source": [
    "### 混合呼叫\n",
    "- 前面使用引數值的呼叫\n",
    "- 後面使用引數名稱的呼叫\n",
    "- 引數名稱呼叫之後，都要使用引數名稱呼叫\n",
    "- 最常使用的呼叫方式"
   ]
  },
  {
   "cell_type": "code",
   "execution_count": 8,
   "id": "6465d687",
   "metadata": {},
   "outputs": [
    {
     "name": "stdout",
     "output_type": "stream",
     "text": [
      "前酒:葡萄酒\n",
      "主餐:鮭魚排\n",
      "甜點:檸檬蛋糕\n"
     ]
    }
   ],
   "source": [
    "menu(\"葡萄酒\",dessert=\"檸檬蛋糕\",entree=\"鮭魚排\")"
   ]
  },
  {
   "cell_type": "code",
   "execution_count": null,
   "id": "c05101b3",
   "metadata": {
    "vscode": {
     "languageId": "markdown"
    }
   },
   "outputs": [],
   "source": [
    "### 定義的function參數,可以有預設值\n",
    "- 預設值一定放在最後"
   ]
  },
  {
   "cell_type": "code",
   "execution_count": 9,
   "id": "27df8102",
   "metadata": {
    "vscode": {
     "languageId": "markdown"
    }
   },
   "outputs": [],
   "source": [
    "def menu(wine:str,entree:str,dessert:str='奶昔')->None:\n",
    "    print(f\"前酒:{wine}\")\n",
    "    print(f\"主餐:{entree}\")\n",
    "    print(f\"甜點:{dessert}\")"
   ]
  },
  {
   "cell_type": "markdown",
   "id": "7223042a",
   "metadata": {},
   "source": [
    "### 混合呼叫\n",
    "- 呼叫時,有預設值的參數,可以省略引數值。(不寫，會直接出現預設值的內容。)\n",
    "- 呼叫有預設的參數，而需要修改內容的時候，要用引數名稱呼叫。"
   ]
  },
  {
   "cell_type": "code",
   "execution_count": 10,
   "id": "1d61f225",
   "metadata": {
    "vscode": {
     "languageId": "markdown"
    }
   },
   "outputs": [
    {
     "name": "stdout",
     "output_type": "stream",
     "text": [
      "前酒:白酒\n",
      "主餐:牛排\n",
      "甜點:奶昔\n"
     ]
    }
   ],
   "source": [
    "menu('白酒','牛排')\n"
   ]
  },
  {
   "cell_type": "code",
   "execution_count": 11,
   "id": "0ff84c7e",
   "metadata": {
    "vscode": {
     "languageId": "markdown"
    }
   },
   "outputs": [
    {
     "name": "stdout",
     "output_type": "stream",
     "text": [
      "前酒:白酒\n",
      "主餐:牛排\n",
      "甜點:蛋糕\n"
     ]
    }
   ],
   "source": [
    "menu('白酒','牛排',dessert=\"蛋糕\")\n",
    "\n"
   ]
  },
  {
   "cell_type": "code",
   "execution_count": 12,
   "id": "dea66066",
   "metadata": {
    "vscode": {
     "languageId": "markdown"
    }
   },
   "outputs": [],
   "source": [
    "def menu(wine:str,entree:str=\"小羊排\",dessert:str='珍奶')->None:\n",
    "    print(f\"前酒:{wine}\")\n",
    "    print(f\"主餐:{entree}\")\n",
    "    print(f\"甜點:{dessert}\")"
   ]
  },
  {
   "cell_type": "code",
   "execution_count": 13,
   "id": "5ee034af",
   "metadata": {
    "vscode": {
     "languageId": "markdown"
    }
   },
   "outputs": [
    {
     "name": "stdout",
     "output_type": "stream",
     "text": [
      "前酒:白酒\n",
      "主餐:小羊排\n",
      "甜點:珍奶\n"
     ]
    }
   ],
   "source": [
    "menu('白酒')\n"
   ]
  },
  {
   "cell_type": "markdown",
   "id": "68a82484",
   "metadata": {},
   "source": [
    "### *參數名稱\n",
    "- 沒有限制數量的引數值的呼叫"
   ]
  },
  {
   "cell_type": "code",
   "execution_count": 21,
   "id": "17fd9d66",
   "metadata": {
    "vscode": {
     "languageId": "markdown"
    }
   },
   "outputs": [],
   "source": [
    "def print_args(*args):\n",
    "    #tuple\n",
    "    print(args)"
   ]
  },
  {
   "cell_type": "code",
   "execution_count": 22,
   "id": "2acbd13f",
   "metadata": {
    "vscode": {
     "languageId": "markdown"
    }
   },
   "outputs": [
    {
     "name": "stdout",
     "output_type": "stream",
     "text": [
      "(1, 2, 3, 'a', 'b', 'c', True, False)\n"
     ]
    }
   ],
   "source": [
    "print_args(1, 2, 3, 'a','b','c',True, False)"
   ]
  },
  {
   "cell_type": "markdown",
   "id": "cf9bd0ff",
   "metadata": {},
   "source": [
    "### **參數名稱\n",
    "- 沒有限定數量的引數名稱呼叫\n",
    "- dict"
   ]
  },
  {
   "cell_type": "code",
   "execution_count": 23,
   "id": "1a9a4b68",
   "metadata": {
    "vscode": {
     "languageId": "markdown"
    }
   },
   "outputs": [],
   "source": [
    "def print_kwargs(**kwargs):\n",
    "    #dict\n",
    "    print(kwargs)"
   ]
  },
  {
   "cell_type": "code",
   "execution_count": 24,
   "id": "a2ac1943",
   "metadata": {
    "vscode": {
     "languageId": "markdown"
    }
   },
   "outputs": [
    {
     "name": "stdout",
     "output_type": "stream",
     "text": [
      "{'one': 1, 'two': 2, 'three': 3, 'four': 4, 'five': 5}\n"
     ]
    }
   ],
   "source": [
    "print_kwargs(one=1, two=2, three=3, four=4, five=5)\n"
   ]
  },
  {
   "cell_type": "code",
   "execution_count": 25,
   "id": "c21ccd08",
   "metadata": {
    "vscode": {
     "languageId": "markdown"
    }
   },
   "outputs": [],
   "source": [
    "def print_all(*args, **kwargs):\n",
    "    print(args)\n",
    "    print(kwargs)"
   ]
  },
  {
   "cell_type": "code",
   "execution_count": 26,
   "id": "35f0ef64",
   "metadata": {
    "vscode": {
     "languageId": "markdown"
    }
   },
   "outputs": [
    {
     "name": "stdout",
     "output_type": "stream",
     "text": [
      "(1, 2, 3, 'a', 'b', 'c', True, False)\n",
      "{'one': 1, 'two': 2, 'three': 3, 'four': 4, 'five': 5}\n"
     ]
    }
   ],
   "source": [
    "print_all(1, 2, 3, 'a', 'b', 'c', True, False,one=1, two=2, three=3, four=4, five=5)\n"
   ]
  },
  {
   "cell_type": "markdown",
   "id": "a021021c",
   "metadata": {},
   "source": [
    "### 呼叫函式的方式，可用來看懂說明書\n",
    "\n",
    "- 如果說明書，參數有單獨*出現，表示後面項目一定要用引數名稱呼叫\n",
    "- 如果說明書，參數有單獨/出現，表示前面項目一定要用引數值呼叫\n",
    "\n",
    "1. * (星號) - 後面的參數必須用引數名稱 (關鍵字引數) 呼叫\n",
    "符號： *\n",
    "\n",
    "用途： 當 * 出現在函式定義的參數中，它之後的所有參數都變成了「僅限關鍵字引數 (keyword-only arguments)」。這表示你在呼叫這個函式時，必須使用參數的名稱來傳遞引數，不能只傳遞值。\n",
    "\n",
    "說明書的解讀： 如果你在函式說明書或函式定義中看到 def func(arg1, *, arg2, arg3):，這就表示：\n",
    "\n",
    "arg1 可以是位置引數或關鍵字引數。\n",
    "arg2 和 arg3 只能是關鍵字引數（即你必須寫 arg2=value 和 arg3=value）。\n",
    "\n",
    "\n",
    "2. / (斜線) - 前面的參數必須用引數值 (位置引數) 呼叫\n",
    "符號： /\n",
    "\n",
    "用途： 當 / 出現在函式定義的參數中，它之前的所有參數都變成了「僅限位置引數 (positional-only arguments)」。這表示你在呼叫這個函式時，只能根據引數的位置來傳遞，不能使用參數的名稱。\n",
    "\n",
    "說明書的解讀： 如果你在函式說明書或函式定義中看到 def func(arg1, arg2, /, arg3, arg4):，這就表示：\n",
    "\n",
    "arg1 和 arg2 只能是位置引數（即你只能寫 func(value1, value2, ...)，不能寫 arg1=value1）。\n",
    "arg3 和 arg4 可以是位置引數或關鍵字引數。\n",
    "\n",
    "這些限制在一些情況下非常有用：\n",
    "\n",
    "- 函式庫或框架設計者： 當他們希望函式的使用者只能以特定方式呼叫函式，以確保函式的穩定性或清晰性時。\n",
    "- 避免名稱衝突： 例如，函式內部可能有一個參數名稱，但在外部呼叫時你不希望使用者用這個名稱來傳遞。\n",
    "- 效能優化： 在某些情況下，只允許位置引數可以輕微地提高函式呼叫的效率。\n"
   ]
  }
 ],
 "metadata": {
  "kernelspec": {
   "display_name": "myenv",
   "language": "python",
   "name": "python3"
  },
  "language_info": {
   "codemirror_mode": {
    "name": "ipython",
    "version": 3
   },
   "file_extension": ".py",
   "mimetype": "text/x-python",
   "name": "python",
   "nbconvert_exporter": "python",
   "pygments_lexer": "ipython3",
   "version": "3.10.16"
  }
 },
 "nbformat": 4,
 "nbformat_minor": 5
}
