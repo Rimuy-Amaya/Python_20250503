{
  "nbformat": 4,
  "nbformat_minor": 0,
  "metadata": {
    "colab": {
      "provenance": [],
      "authorship_tag": "ABX9TyNIkHqiWFVqVMtNWLlyFMhU",
      "include_colab_link": true
    },
    "kernelspec": {
      "name": "python3",
      "display_name": "Python 3"
    },
    "language_info": {
      "name": "python"
    }
  },
  "cells": [
    {
      "cell_type": "markdown",
      "metadata": {
        "id": "view-in-github",
        "colab_type": "text"
      },
      "source": [
        "<a href=\"https://colab.research.google.com/github/Rimuy-Amaya/Python_20250503/blob/main/Gemini%E4%BD%9C%E6%A5%AD.ipynb\" target=\"_parent\"><img src=\"https://colab.research.google.com/assets/colab-badge.svg\" alt=\"Open In Colab\"/></a>"
      ]
    },
    {
      "cell_type": "code",
      "execution_count": null,
      "metadata": {
        "colab": {
          "base_uri": "https://localhost:8080/"
        },
        "id": "1YgFhLFR-FpK",
        "outputId": "ca202681-4967-452b-a8df-714468682f37"
      },
      "outputs": [
        {
          "output_type": "stream",
          "name": "stdout",
          "text": [
            "請輸入矩形長度10\n",
            "請輸入矩形寬度20\n",
            "200.0\n",
            "60.0\n"
          ]
        }
      ],
      "source": [
        "length = float(input(\"請輸入矩形長度\"))\n",
        "width = float(input(\"請輸入矩形寬度\"))\n",
        "area = length * width\n",
        "print(area)\n",
        "perimeter = 2 * (length + width)\n",
        "print(perimeter)\n",
        "\n",
        "\n",
        "\n"
      ]
    },
    {
      "cell_type": "code",
      "source": [
        "a = input(\"請輸入您所購買的第一樣商品\")\n",
        "p_of_a = float (input (\"請輸入第一樣商品的單價\"))\n",
        "q_of_a = int (input(\"請問您購買幾個\"))\n",
        "b= input(\"請輸入您所購買的第二樣商品\")\n",
        "p_of_b = float ( input (\"請輸入第二樣商品的單價\"))\n",
        "q_of_b = int ( input(\"請問您購買幾個\"))\n",
        "cost = p_of_a * q_of_a + p_of_b * q_of_b\n",
        "print(\"本次消費您總共花了：\",cost)"
      ],
      "metadata": {
        "colab": {
          "base_uri": "https://localhost:8080/"
        },
        "id": "CXWDBpbLXyS_",
        "outputId": "e7cbc637-7cbb-4b8f-d3f4-0e2eea7b0ad9"
      },
      "execution_count": 1,
      "outputs": [
        {
          "output_type": "stream",
          "name": "stdout",
          "text": [
            "請輸入您所購買的第一樣商品1\n",
            "請輸入第一樣商品的單價150\n",
            "請問您購買幾個5\n",
            "請輸入您所購買的第二樣商品2\n",
            "請輸入第二樣商品的單價788\n",
            "請問您購買幾個4\n",
            "本次消費您總共花了： 3902.0\n"
          ]
        }
      ]
    },
    {
      "cell_type": "code",
      "source": [
        "time = int ( input(\"請輸入您總共花費的時間是幾秒\"))\n",
        "hour = time // 3600\n",
        "minute = ( time % 3600 ) // 60\n",
        "second = ( time % 60 ) % 60\n",
        "print( \"輸入的總秒數\",time,\"秒\",\"等於\",hour,\"小時\",minute,\"分鐘\",second,\"秒\")"
      ],
      "metadata": {
        "colab": {
          "base_uri": "https://localhost:8080/"
        },
        "id": "-zcW4q-8X9m_",
        "outputId": "1d756b3b-4a8c-45aa-f18e-c85e4caee112"
      },
      "execution_count": 7,
      "outputs": [
        {
          "output_type": "stream",
          "name": "stdout",
          "text": [
            "請輸入您總共花費的時間是幾秒5888\n",
            "輸入的總秒數 5888 秒 等於 1 小時 38 分鐘 8 秒\n"
          ]
        }
      ]
    },
    {
      "cell_type": "code",
      "source": [],
      "metadata": {
        "id": "PnYXrScpdmY1"
      },
      "execution_count": null,
      "outputs": []
    },
    {
      "cell_type": "code",
      "source": [
        "time = int ( input(\"請輸入您總共花費的時間是幾秒\"))\n",
        "hour = time // 3600\n",
        "remain_second = time % 3600\n",
        "minute = remain_second // 60\n",
        "second = remain_second % 60\n",
        "print( \"輸入的總秒數\",time,\"秒\",\"等於\",hour,\"小時\",minute,\"分鐘\",second,\"秒\")"
      ],
      "metadata": {
        "colab": {
          "base_uri": "https://localhost:8080/"
        },
        "outputId": "f1a4359c-2053-4834-fc13-45d5465fc86f",
        "id": "KuGRqq37dmz9"
      },
      "execution_count": 11,
      "outputs": [
        {
          "output_type": "stream",
          "name": "stdout",
          "text": [
            "請輸入您總共花費的時間是幾秒3800\n",
            "輸入的總秒數 3800 秒 等於 1 小時 3 分鐘 20 秒\n"
          ]
        }
      ]
    },
    {
      "cell_type": "code",
      "source": [
        "import math\n",
        "a = float ( input (\"請輸入第一個邊長\"))\n",
        "b = float ( input (\"請輸入第二個邊長\"))\n",
        "c = math.sqrt (a ** 2 + b ** 2)\n",
        "print(\"--- 計算結果 ---\")\n",
        "print(\"輸入的直角邊 a =\" + str(a))\n",
        "print(\"輸入的直角邊 a =\" + str(b))\n",
        "print(\"--------------------\")\n",
        "print(\"斜邊長度 c =\" + str(c))"
      ],
      "metadata": {
        "colab": {
          "base_uri": "https://localhost:8080/"
        },
        "id": "Qq8FAWFygoxg",
        "outputId": "e9a5b2bd-a361-45f8-fc9a-ad31890fc880"
      },
      "execution_count": 12,
      "outputs": [
        {
          "output_type": "stream",
          "name": "stdout",
          "text": [
            "請輸入第一個邊長52\n",
            "請輸入第二個邊長33\n",
            "--- 計算結果 ---\n",
            "輸入的直角邊 a =52.0\n",
            "輸入的直角邊 a =33.0\n",
            "--------------------\n",
            "斜邊長度 c =61.587336360651285\n"
          ]
        }
      ]
    }
  ]
}