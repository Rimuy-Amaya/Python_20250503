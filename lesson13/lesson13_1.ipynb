{
 "cells": [
  {
   "cell_type": "markdown",
   "id": "d5ca64ae",
   "metadata": {},
   "source": [
    "https://www.perplexity.ai/search/045ecda7-23bf-4d76-9155-fcb886e2425e"
   ]
  },
  {
   "cell_type": "code",
   "execution_count": 14,
   "id": "dadced8e",
   "metadata": {},
   "outputs": [
    {
     "data": {
      "text/plain": [
       "array([[0.02253091, 0.69879478, 0.25588904, 0.05683432],\n",
       "       [0.32895185, 0.4716059 , 0.57317439, 0.13637032],\n",
       "       [0.29990964, 0.20492377, 0.71732661, 0.68625451]])"
      ]
     },
     "execution_count": 14,
     "metadata": {},
     "output_type": "execute_result"
    }
   ],
   "source": [
    "import numpy as np\n",
    "np.random.random()\n",
    "np.random.random(3)\n",
    "np.random.random(size=3)\n",
    "np.random.random((3,4))\n",
    "np.random.random(size=(3,4))\n",
    "\n",
    "\n"
   ]
  },
  {
   "cell_type": "code",
   "execution_count": 18,
   "id": "f01d055f",
   "metadata": {},
   "outputs": [
    {
     "data": {
      "text/plain": [
       "dtype('float64')"
      ]
     },
     "execution_count": 18,
     "metadata": {},
     "output_type": "execute_result"
    }
   ],
   "source": [
    "from numpy.random import normal \n",
    "\n",
    "normal_value = normal(size=(3, 4))\n",
    "#ndarray常用的實體屬性\n",
    "type(normal_value)\n",
    "normal_value.ndim\n",
    "normal_value.size\n",
    "normal_value.shape\n",
    "normal_value.dtype"
   ]
  },
  {
   "cell_type": "code",
   "execution_count": 13,
   "id": "d03ced55",
   "metadata": {},
   "outputs": [
    {
     "data": {
      "text/plain": [
       "array([[ 15.16818776, -23.79348059,   0.32382795,  -1.11847176],\n",
       "       [ 11.54300005,   1.24291547,  -0.30976902,   1.86735558],\n",
       "       [ -2.76205729,   1.9730439 ,   2.64312667,   2.35892328]])"
      ]
     },
     "execution_count": 13,
     "metadata": {},
     "output_type": "execute_result"
    }
   ],
   "source": [
    "normal_value * 10"
   ]
  },
  {
   "cell_type": "code",
   "execution_count": null,
   "id": "eaa2378c",
   "metadata": {},
   "outputs": [
    {
     "data": {
      "text/plain": [
       "array([-0.94199366,  1.43435021,  0.42130366])"
      ]
     },
     "execution_count": 12,
     "metadata": {},
     "output_type": "execute_result"
    }
   ],
   "source": [
    "normal_value.sum()\n",
    "normal_value.sum(axis=0) #每一欄加總，共產生四個數字\n",
    "normal_value.sum(axis=1) #每一列加總，共產生三個數字"
   ]
  }
 ],
 "metadata": {
  "kernelspec": {
   "display_name": "amaya",
   "language": "python",
   "name": "python3"
  },
  "language_info": {
   "codemirror_mode": {
    "name": "ipython",
    "version": 3
   },
   "file_extension": ".py",
   "mimetype": "text/x-python",
   "name": "python",
   "nbconvert_exporter": "python",
   "pygments_lexer": "ipython3",
   "version": "3.10.18"
  }
 },
 "nbformat": 4,
 "nbformat_minor": 5
}
